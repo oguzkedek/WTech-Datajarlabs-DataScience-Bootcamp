{
 "cells": [
  {
   "cell_type": "markdown",
   "metadata": {
    "id": "Kani0dd8bdPn"
   },
   "source": [
    "- Analyze the central tendency and distribution measurements with the mathematical formula given above and the built-in codes available in python through 3 different data that you will generate using the numpy library !!!"
   ]
  },
  {
   "cell_type": "code",
   "execution_count": 1,
   "metadata": {
    "id": "z4kT9sHwbdP0"
   },
   "outputs": [],
   "source": [
    "import numpy as np \n",
    "import pandas as pd\n",
    "import statistics"
   ]
  },
  {
   "cell_type": "code",
   "execution_count": 2,
   "metadata": {
    "id": "zMTgfNkoce8F"
   },
   "outputs": [],
   "source": [
    "data_1 = np.random.normal(50, 5, 1000)\n",
    "data_2 = np.random.normal(100, 10, 5000)\n",
    "data_3 = np.random.normal(200, 18, 10000)\n"
   ]
  },
  {
   "cell_type": "markdown",
   "metadata": {
    "id": "s_H9sIQlesJ7"
   },
   "source": [
    "**MEAN**"
   ]
  },
  {
   "cell_type": "code",
   "execution_count": 3,
   "metadata": {
    "colab": {
     "base_uri": "https://localhost:8080/"
    },
    "id": "qTbQIJ-ldMoy",
    "outputId": "fb767890-a350-4a8f-e457-863aee67982f"
   },
   "outputs": [
    {
     "name": "stdout",
     "output_type": "stream",
     "text": [
      "Mean of the data_1 : 50.16940554838552\n",
      "Mean of the data_2 : 100.08271355614349\n",
      "Mean of the data_3 : 200.0126532669489\n"
     ]
    }
   ],
   "source": [
    "mean_1 = sum(data_1) / len(data_1)  # mean_1 = np.mean(data_1)\n",
    "mean_2 = sum(data_2) / len(data_2)  # mean_2 = np.mean(data_2)\n",
    "mean_3 = sum(data_3) / len(data_3)  # mean_3 = np.mean(data_3)\n",
    "\n",
    "print(f\"Mean of the data_1 : {mean_1}\")    \n",
    "print(f\"Mean of the data_2 : {mean_2}\")\n",
    "print(f\"Mean of the data_3 : {mean_3}\") "
   ]
  },
  {
   "cell_type": "code",
   "execution_count": 4,
   "metadata": {},
   "outputs": [
    {
     "name": "stdout",
     "output_type": "stream",
     "text": [
      "Mean of the data_1 : 50.16940554838555\n",
      "Mean of the data_2 : 100.08271355614362\n",
      "Mean of the data_3 : 200.0126532669481\n"
     ]
    }
   ],
   "source": [
    "mean_1 = np.mean(data_1)\n",
    "mean_2 = np.mean(data_2)\n",
    "mean_3 = np.mean(data_3)\n",
    "\n",
    "print(f\"Mean of the data_1 : {mean_1}\")    \n",
    "print(f\"Mean of the data_2 : {mean_2}\")\n",
    "print(f\"Mean of the data_3 : {mean_3}\")"
   ]
  },
  {
   "cell_type": "markdown",
   "metadata": {
    "id": "gMV0WzfLe2dQ"
   },
   "source": [
    "**MEDIAN**"
   ]
  },
  {
   "cell_type": "code",
   "execution_count": 5,
   "metadata": {
    "id": "kq0UWkB6e836"
   },
   "outputs": [],
   "source": [
    "def median(data):\n",
    "    data = sorted(data)\n",
    "    if len(data) % 2 == 1:\n",
    "        return data[len(data) // 2]\n",
    "    else:\n",
    "        return ((data[len(data) // 2]) + (data[(len(data) // 2) - 1])) / 2"
   ]
  },
  {
   "cell_type": "code",
   "execution_count": 6,
   "metadata": {
    "colab": {
     "base_uri": "https://localhost:8080/"
    },
    "id": "S3y5KISMg0Au",
    "outputId": "5434e16a-4d18-4b33-c858-54ccb1eff8c6"
   },
   "outputs": [
    {
     "name": "stdout",
     "output_type": "stream",
     "text": [
      "Median of the data_1 : 50.250850433225374\n",
      "Median of the data_2 : 100.1178152879463\n",
      "Median of the data_3 : 199.98365605127063\n"
     ]
    }
   ],
   "source": [
    "print(f\"Median of the data_1 : {median(data_1)}\") \n",
    "print(f\"Median of the data_2 : {median(data_2)}\")   \n",
    "print(f\"Median of the data_3 : {median(data_3)}\")   "
   ]
  },
  {
   "cell_type": "code",
   "execution_count": 7,
   "metadata": {
    "colab": {
     "base_uri": "https://localhost:8080/"
    },
    "id": "Ad_74TUpmc8R",
    "outputId": "a403dfd5-de5d-4859-be38-813b4f1ecde6"
   },
   "outputs": [
    {
     "name": "stdout",
     "output_type": "stream",
     "text": [
      "Median of the data_1 : 50.250850433225374\n",
      "Median of the data_2 : 100.1178152879463\n",
      "Median of the data_3 : 199.98365605127063\n"
     ]
    }
   ],
   "source": [
    "print(f\"Median of the data_1 : {statistics.median(data_1)}\")\n",
    "print(f\"Median of the data_2 : {statistics.median(data_2)}\")\n",
    "print(f\"Median of the data_3 : {np.median(data_3)}\") #np.median"
   ]
  },
  {
   "cell_type": "markdown",
   "metadata": {
    "id": "BrQJ69HWj0qa"
   },
   "source": [
    "**MODE**"
   ]
  },
  {
   "cell_type": "code",
   "execution_count": 8,
   "metadata": {
    "id": "nIuxbBOAj5nC"
   },
   "outputs": [],
   "source": [
    "np.random.seed(42)\n",
    "\n",
    "data_int_1 = np.random.randint(50, 100, 1000)\n",
    "data_int_2 = np.random.randint(100, 250, 1000)\n",
    "data_int_3 = np.random.randint(200, 500, 2000)"
   ]
  },
  {
   "cell_type": "code",
   "execution_count": 9,
   "metadata": {
    "colab": {
     "base_uri": "https://localhost:8080/"
    },
    "id": "JWyoqJ_Tkm6J",
    "outputId": "e9c40504-f8de-438a-e515-db225e7f69e8"
   },
   "outputs": [
    {
     "name": "stdout",
     "output_type": "stream",
     "text": [
      "Mode of the data_int_1: 75\n",
      "Mode of the data_int_2: 128\n",
      "Mode of the data_int_3: 353\n"
     ]
    }
   ],
   "source": [
    "(values_1, counts_1) = np.unique(data_int_1, return_counts=True)\n",
    "ind_1 = np.argmax(counts_1) \n",
    "print(\"Mode of the data_int_1: {}\".format(values_1[ind_1]))  \n",
    "\n",
    "(values_2, counts_2) = np.unique(data_int_2, return_counts=True)\n",
    "ind_2 = np.argmax(counts_2)\n",
    "print(\"Mode of the data_int_2: {}\".format(values_2[ind_2]))\n",
    "\n",
    "(values_3, counts_3) = np.unique(data_int_3, return_counts=True)\n",
    "ind_3 = np.argmax(counts_3)\n",
    "print(\"Mode of the data_int_3: {}\".format(values_3[ind_3]))\n"
   ]
  },
  {
   "cell_type": "code",
   "execution_count": 10,
   "metadata": {
    "colab": {
     "base_uri": "https://localhost:8080/"
    },
    "id": "F6rYasOeltve",
    "outputId": "396e35b5-1ca1-4101-cd47-1764cf9314eb"
   },
   "outputs": [
    {
     "name": "stdout",
     "output_type": "stream",
     "text": [
      "Mode of the data_int_1 : 75\n",
      "Mode of the data_int_2 : 128\n",
      "Mode of the data_int_2 : 353\n"
     ]
    }
   ],
   "source": [
    "print(\"Mode of the data_int_1 :\",statistics.mode(data_int_1))\n",
    "print(\"Mode of the data_int_2 :\",statistics.mode(data_int_2))\n",
    "print(\"Mode of the data_int_2 :\",statistics.mode(data_int_3))"
   ]
  },
  {
   "cell_type": "markdown",
   "metadata": {
    "id": "Zxgt0cFfni8w"
   },
   "source": [
    "**VARIANCE**"
   ]
  },
  {
   "cell_type": "code",
   "execution_count": 11,
   "metadata": {
    "id": "eSVyLJ4ennIR"
   },
   "outputs": [],
   "source": [
    "def variance(data):\n",
    "    mean = sum(data) / len(data)\n",
    "    var = 0 \n",
    "    for i in range(len(data)):\n",
    "        var += ((data[i]-mean) ** 2) / (len(data) - 1)\n",
    "    return var  "
   ]
  },
  {
   "cell_type": "code",
   "execution_count": 12,
   "metadata": {
    "colab": {
     "base_uri": "https://localhost:8080/"
    },
    "id": "vy2WZ2cGk_N5",
    "outputId": "094807d3-b634-4125-cec8-196071cfe28d"
   },
   "outputs": [
    {
     "name": "stdout",
     "output_type": "stream",
     "text": [
      "Variance of the data_1 : 25.61799920046942\n",
      "Variance of the data_2 : 101.00787206100028\n",
      "Variance of the data_3 : 320.6456646980555\n"
     ]
    }
   ],
   "source": [
    "print(\"Variance of the data_1 :\", variance(data_1))\n",
    "print(\"Variance of the data_2 :\", variance(data_2))\n",
    "print(\"Variance of the data_3 :\", variance(data_3))"
   ]
  },
  {
   "cell_type": "code",
   "execution_count": 13,
   "metadata": {
    "colab": {
     "base_uri": "https://localhost:8080/"
    },
    "id": "cq4E8ulOjOhl",
    "outputId": "f524ab40-7516-4235-e7fc-bce5acbd4f26"
   },
   "outputs": [
    {
     "name": "stdout",
     "output_type": "stream",
     "text": [
      "Variance of the data_1 : 25.61799920046937\n",
      "Variance of the data_2 : 101.00787206100034\n",
      "Variance of the data_3 : 320.6456646980553\n"
     ]
    }
   ],
   "source": [
    "print(\"Variance of the data_1 :\", np.var(data_1, ddof=1))\n",
    "print(\"Variance of the data_2 :\", np.var(data_2, ddof=1))\n",
    "print(\"Variance of the data_3 :\", np.var(data_3, ddof=1))"
   ]
  },
  {
   "cell_type": "markdown",
   "metadata": {
    "id": "w5TPYjvKlkj0"
   },
   "source": [
    "**STANDARD DEVIATION**"
   ]
  },
  {
   "cell_type": "code",
   "execution_count": 14,
   "metadata": {
    "colab": {
     "base_uri": "https://localhost:8080/"
    },
    "id": "G3bCr9hTlseW",
    "outputId": "2ebb1337-c803-4deb-ccf8-74fcfdd13854"
   },
   "outputs": [
    {
     "name": "stdout",
     "output_type": "stream",
     "text": [
      "Standard deviation of the data_1 : 5.058891301586633\n",
      "Standard deviation of the data_2 : 10.049262186180046\n",
      "Standard deviation of the data_3 : 17.905686251344445\n"
     ]
    }
   ],
   "source": [
    "print(\"Standard deviation of the data_1 :\", np.std(data_1))\n",
    "print(\"Standard deviation of the data_2 :\", np.std(data_2))\n",
    "print(\"Standard deviation of the data_3 :\", np.std(data_3))"
   ]
  },
  {
   "cell_type": "markdown",
   "metadata": {
    "id": "KXjNO1oHm_MB"
   },
   "source": [
    "**STANDARD ERROR**"
   ]
  },
  {
   "cell_type": "code",
   "execution_count": 15,
   "metadata": {
    "id": "4cQ45GCFnYbd"
   },
   "outputs": [],
   "source": [
    "std_err_1 = (variance(data_1) ** .5 ) / (len(data_1) ** .5)\n",
    "std_err_2 = (variance(data_2) ** .5 ) / (len(data_2) ** .5)\n",
    "std_err_3 = (variance(data_3) ** .5 ) / (len(data_3) ** .5)"
   ]
  },
  {
   "cell_type": "code",
   "execution_count": 16,
   "metadata": {
    "colab": {
     "base_uri": "https://localhost:8080/"
    },
    "id": "rqyQ7gCInJap",
    "outputId": "388266eb-6142-48b9-f11e-0cc8f4120bc8"
   },
   "outputs": [
    {
     "name": "stdout",
     "output_type": "stream",
     "text": [
      "Standard error of the data_1 : 0.16005623761812415\n",
      "Standard error of the data_2 : 0.14213224269039046\n",
      "Standard error of the data_3 : 0.17906581602808938\n"
     ]
    }
   ],
   "source": [
    "print(\"Standard error of the data_1 :\", std_err_1)\n",
    "print(\"Standard error of the data_2 :\", std_err_2)\n",
    "print(\"Standard error of the data_3 :\", std_err_3)"
   ]
  }
 ],
 "metadata": {
  "colab": {
   "name": "A_01_Main_Statistical_Concepts_en.ipynb adlı not defterinin kopyası",
   "provenance": []
  },
  "kernelspec": {
   "display_name": "Python 3 (ipykernel)",
   "language": "python",
   "name": "python3"
  },
  "language_info": {
   "codemirror_mode": {
    "name": "ipython",
    "version": 3
   },
   "file_extension": ".py",
   "mimetype": "text/x-python",
   "name": "python",
   "nbconvert_exporter": "python",
   "pygments_lexer": "ipython3",
   "version": "3.8.2"
  }
 },
 "nbformat": 4,
 "nbformat_minor": 4
}
