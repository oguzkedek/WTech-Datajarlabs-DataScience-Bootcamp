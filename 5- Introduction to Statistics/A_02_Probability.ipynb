{
 "cells": [
  {
   "cell_type": "markdown",
   "metadata": {
    "id": "wPjDXlygoeYB"
   },
   "source": [
    "It has been found that some of the computers sold by Company A are defective. Assuming that there are 3 computer-producing companies (A, B, and C), the amount of computer production of these companies and the probabilities of defective production are as follows:\n",
    "\n",
    "Total production percentage : <br>\n",
    "$P(A)=0.40$<br>\n",
    "$P(B)=0.40$ <br>\n",
    "$P(C)=0.20$<br>\n",
    "\n",
    "Possibility of defective production :<br>\n",
    "$P(D|A)=0.015$<br>\n",
    "$P(D|B)=0.020$<br>\n",
    "$P(D|C)=0.010$\n",
    "\n",
    "- What is the probability that a randomly selected defective computer will be produced by company B?"
   ]
  },
  {
   "cell_type": "code",
   "execution_count": 1,
   "metadata": {
    "colab": {
     "base_uri": "https://localhost:8080/"
    },
    "id": "GlI0hM8SoeYG",
    "outputId": "592a8a16-6d54-4b64-ddbd-22b618830884"
   },
   "outputs": [
    {
     "name": "stdout",
     "output_type": "stream",
     "text": [
      "The probability that a randomly selected defective computer will be produced by company B : 0.5\n"
     ]
    }
   ],
   "source": [
    "p_a = 0.4\n",
    "p_b = 0.4 \n",
    "p_c = 0.2\n",
    "\n",
    "d_a = 0.015\n",
    "d_b = 0.02\n",
    "d_c = 0.01\n",
    "\n",
    "defective  = (p_a * d_a) + (p_b * d_b) + (p_c * d_c)\n",
    "by_b = (p_b * d_b) / defective\n",
    "\n",
    "print(\"The probability that a randomly selected defective computer will be produced by company B :\", by_b)"
   ]
  }
 ],
 "metadata": {
  "colab": {
   "name": "A_02_Probability_en.ipynb adlı not defterinin kopyası",
   "provenance": []
  },
  "kernelspec": {
   "display_name": "Python 3 (ipykernel)",
   "language": "python",
   "name": "python3"
  },
  "language_info": {
   "codemirror_mode": {
    "name": "ipython",
    "version": 3
   },
   "file_extension": ".py",
   "mimetype": "text/x-python",
   "name": "python",
   "nbconvert_exporter": "python",
   "pygments_lexer": "ipython3",
   "version": "3.8.2"
  }
 },
 "nbformat": 4,
 "nbformat_minor": 4
}
