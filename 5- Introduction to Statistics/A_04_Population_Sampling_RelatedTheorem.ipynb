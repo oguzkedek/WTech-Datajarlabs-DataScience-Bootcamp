{
 "cells": [
  {
   "cell_type": "markdown",
   "metadata": {
    "id": "3NsK-y2beTyt"
   },
   "source": [
    "**(1)** In this assignment, you test whether the central limit theorem works. You generate 1000 variables with two normal distributions. You can determine the mean and standard deviation of these variables yourself. All you have to do is generate the first variable 50 times and averaged it each time. Generate the second variable 1000 times and averages this variable each time. Then plot the histogram of the averages of the two variables. Which of the variables has a mean distribution closer to the normal distribution? Do you think the Central Limit Theorem seems to have worked?"
   ]
  },
  {
   "cell_type": "code",
   "execution_count": 1,
   "metadata": {
    "id": "ja7IfWSueTyy"
   },
   "outputs": [],
   "source": [
    "import numpy as np\n",
    "import pandas as pd\n",
    "import matplotlib.pyplot as plt\n",
    "\n",
    "%matplotlib inline"
   ]
  },
  {
   "cell_type": "code",
   "execution_count": 2,
   "metadata": {
    "id": "prkAm8X0ferQ"
   },
   "outputs": [],
   "source": [
    "np.random.seed(42)\n",
    "\n",
    "first_avg = []\n",
    "second_avg = []\n",
    "\n",
    "for i in range(50):\n",
    "    variable = np.random.normal(200, 25, 1000)\n",
    "    first_avg.append(np.mean(variable))\n",
    "\n",
    "for i in range(1000):\n",
    "    variable = np.random.normal(200, 25, 1000)\n",
    "    second_avg.append(np.mean(variable))"
   ]
  },
  {
   "cell_type": "code",
   "execution_count": 3,
   "metadata": {
    "colab": {
     "base_uri": "https://localhost:8080/",
     "height": 483
    },
    "id": "FJtKw3BVgTBv",
    "outputId": "ac7d4249-90ff-40b6-ede5-ad0198ced247"
   },
   "outputs": [
    {
     "data": {
      "image/png": "[encoded data removed]",
      "text/plain": [
       "<Figure size 720x576 with 1 Axes>"
      ]
     },
     "metadata": {
      "needs_background": "light"
     },
     "output_type": "display_data"
    }
   ],
   "source": [
    "plt.figure(figsize=(10, 8))\n",
    "plt.hist(first_avg, color='brown', alpha=.5, density=True, label='50 samples', bins=30)\n",
    "plt.hist(second_avg, color='darkblue', alpha=.5, density=True, label='1000 samples', bins=30)\n",
    "plt.legend(loc=2)\n",
    "plt.show()"
   ]
  },
  {
   "cell_type": "markdown",
   "metadata": {
    "id": "w9XhPbPihP5E"
   },
   "source": [
    "We get closer to the normal distribution as we do more trials. The experiment with a sample size of 1000 is closer to the normal distribution as in the figure. I definitely think the Central Limit Theorem seems to have worked for this experiment .\n"
   ]
  }
 ],
 "metadata": {
  "colab": {
   "name": "A_04_Population_Sampling_RelatedTheorem_en.ipynb adlı not defterinin kopyası",
   "provenance": []
  },
  "kernelspec": {
   "display_name": "Python 3 (ipykernel)",
   "language": "python",
   "name": "python3"
  },
  "language_info": {
   "codemirror_mode": {
    "name": "ipython",
    "version": 3
   },
   "file_extension": ".py",
   "mimetype": "text/x-python",
   "name": "python",
   "nbconvert_exporter": "python",
   "pygments_lexer": "ipython3",
   "version": "3.8.2"
  }
 },
 "nbformat": 4,
 "nbformat_minor": 4
}
