{
 "cells": [
  {
   "cell_type": "markdown",
   "id": "073f1c78-218d-4975-9d6e-ae0dbddfea88",
   "metadata": {
    "id": "073f1c78-218d-4975-9d6e-ae0dbddfea88"
   },
   "source": [
    "## Determine whether the following examples are classification problems or regression problems:\n",
    "\n",
    "- Given the size of the house, estimating the price of it  : **Regression**\n",
    "- From the clothes of those who come to see the house, to conclude who has a high or low probability of buying the house :     **(Binary) Classification**\n",
    "- Estimating a one's salary using parameters such as education and experience : **Regression**\n",
    "- Estimation one's age : **Multiclass Classification - Regression**\n",
    "- Estimation one's income : **Regression**\n",
    "- Estimate the direction of price of any stock : **Classification**"
   ]
  }
 ],
 "metadata": {
  "colab": {
   "collapsed_sections": [],
   "name": "Classification_1.ipynb",
   "provenance": []
  },
  "kernelspec": {
   "display_name": "Python 3 (ipykernel)",
   "language": "python",
   "name": "python3"
  },
  "language_info": {
   "codemirror_mode": {
    "name": "ipython",
    "version": 3
   },
   "file_extension": ".py",
   "mimetype": "text/x-python",
   "name": "python",
   "nbconvert_exporter": "python",
   "pygments_lexer": "ipython3",
   "version": "3.8.2"
  }
 },
 "nbformat": 4,
 "nbformat_minor": 5
}
