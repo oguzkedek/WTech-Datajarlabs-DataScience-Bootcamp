{
 "cells": [
  {
   "cell_type": "markdown",
   "id": "11498222-8743-45b1-af62-bd02bd3ca225",
   "metadata": {
    "id": "11498222-8743-45b1-af62-bd02bd3ca225"
   },
   "source": [
    "- In this assignment, you are going to use your model to predict survival of the Titanic disaster. For this assignment, send a link to a Jupyter notebook containing solutions to the following tasks.\n",
    "\n",
    "  -  Download Titanic data from Kaggle. The data in the train.csv file meets your need.\n",
    "  -  Split your data into training and test sets.\n",
    "  -  Predict the survival based on the test data you split by creating your model.\n",
    "  -  Is your model's performance satisfactory? Explain.\n",
    "  -  Try to improve your model's performance by adding or subtracting some variables. \n",
    "  \n",
    "\n",
    "- Explore the advantages and disadvantages of Logistic Regression and discuss with your mentor."
   ]
  },
  {
   "cell_type": "code",
   "execution_count": 1,
   "id": "e64d2693-c97b-40b2-9c35-318038d18b11",
   "metadata": {
    "id": "e64d2693-c97b-40b2-9c35-318038d18b11"
   },
   "outputs": [],
   "source": [
    "import numpy as np\n",
    "import pandas as pd\n",
    "\n",
    "from sklearn.model_selection import train_test_split\n",
    "from sklearn.linear_model import LogisticRegression\n",
    "\n",
    "import seaborn as sns\n",
    "import matplotlib.pyplot as plt\n",
    "\n",
    "from sklearn.metrics import accuracy_score, classification_report, confusion_matrix\n",
    "\n",
    "import re"
   ]
  },
  {
   "cell_type": "code",
   "execution_count": 2,
   "id": "e601c2cc-0c30-4a2a-83a5-8a79bb45067f",
   "metadata": {
    "id": "e601c2cc-0c30-4a2a-83a5-8a79bb45067f",
    "outputId": "6a5aeed6-6cab-4f73-b929-22f5d628faec"
   },
   "outputs": [
    {
     "data": {
      "text/html": [
       "<div>\n",
       "<style scoped>\n",
       "    .dataframe tbody tr th:only-of-type {\n",
       "        vertical-align: middle;\n",
       "    }\n",
       "\n",
       "    .dataframe tbody tr th {\n",
       "        vertical-align: top;\n",
       "    }\n",
       "\n",
       "    .dataframe thead th {\n",
       "        text-align: right;\n",
       "    }\n",
       "</style>\n",
       "<table border=\"1\" class=\"dataframe\">\n",
       "  <thead>\n",
       "    <tr style=\"text-align: right;\">\n",
       "      <th></th>\n",
       "      <th>PassengerId</th>\n",
       "      <th>Survived</th>\n",
       "      <th>Pclass</th>\n",
       "      <th>Name</th>\n",
       "      <th>Sex</th>\n",
       "      <th>Age</th>\n",
       "      <th>SibSp</th>\n",
       "      <th>Parch</th>\n",
       "      <th>Ticket</th>\n",
       "      <th>Fare</th>\n",
       "      <th>Cabin</th>\n",
       "      <th>Embarked</th>\n",
       "    </tr>\n",
       "  </thead>\n",
       "  <tbody>\n",
       "    <tr>\n",
       "      <th>0</th>\n",
       "      <td>1</td>\n",
       "      <td>0</td>\n",
       "      <td>3</td>\n",
       "      <td>Braund, Mr. Owen Harris</td>\n",
       "      <td>male</td>\n",
       "      <td>22.0</td>\n",
       "      <td>1</td>\n",
       "      <td>0</td>\n",
       "      <td>A/5 21171</td>\n",
       "      <td>7.2500</td>\n",
       "      <td>NaN</td>\n",
       "      <td>S</td>\n",
       "    </tr>\n",
       "    <tr>\n",
       "      <th>1</th>\n",
       "      <td>2</td>\n",
       "      <td>1</td>\n",
       "      <td>1</td>\n",
       "      <td>Cumings, Mrs. John Bradley (Florence Briggs Th...</td>\n",
       "      <td>female</td>\n",
       "      <td>38.0</td>\n",
       "      <td>1</td>\n",
       "      <td>0</td>\n",
       "      <td>PC 17599</td>\n",
       "      <td>71.2833</td>\n",
       "      <td>C85</td>\n",
       "      <td>C</td>\n",
       "    </tr>\n",
       "    <tr>\n",
       "      <th>2</th>\n",
       "      <td>3</td>\n",
       "      <td>1</td>\n",
       "      <td>3</td>\n",
       "      <td>Heikkinen, Miss. Laina</td>\n",
       "      <td>female</td>\n",
       "      <td>26.0</td>\n",
       "      <td>0</td>\n",
       "      <td>0</td>\n",
       "      <td>STON/O2. 3101282</td>\n",
       "      <td>7.9250</td>\n",
       "      <td>NaN</td>\n",
       "      <td>S</td>\n",
       "    </tr>\n",
       "    <tr>\n",
       "      <th>3</th>\n",
       "      <td>4</td>\n",
       "      <td>1</td>\n",
       "      <td>1</td>\n",
       "      <td>Futrelle, Mrs. Jacques Heath (Lily May Peel)</td>\n",
       "      <td>female</td>\n",
       "      <td>35.0</td>\n",
       "      <td>1</td>\n",
       "      <td>0</td>\n",
       "      <td>113803</td>\n",
       "      <td>53.1000</td>\n",
       "      <td>C123</td>\n",
       "      <td>S</td>\n",
       "    </tr>\n",
       "    <tr>\n",
       "      <th>4</th>\n",
       "      <td>5</td>\n",
       "      <td>0</td>\n",
       "      <td>3</td>\n",
       "      <td>Allen, Mr. William Henry</td>\n",
       "      <td>male</td>\n",
       "      <td>35.0</td>\n",
       "      <td>0</td>\n",
       "      <td>0</td>\n",
       "      <td>373450</td>\n",
       "      <td>8.0500</td>\n",
       "      <td>NaN</td>\n",
       "      <td>S</td>\n",
       "    </tr>\n",
       "  </tbody>\n",
       "</table>\n",
       "</div>"
      ],
      "text/plain": [
       "   PassengerId  Survived  Pclass  \\\n",
       "0            1         0       3   \n",
       "1            2         1       1   \n",
       "2            3         1       3   \n",
       "3            4         1       1   \n",
       "4            5         0       3   \n",
       "\n",
       "                                                Name     Sex   Age  SibSp  \\\n",
       "0                            Braund, Mr. Owen Harris    male  22.0      1   \n",
       "1  Cumings, Mrs. John Bradley (Florence Briggs Th...  female  38.0      1   \n",
       "2                             Heikkinen, Miss. Laina  female  26.0      0   \n",
       "3       Futrelle, Mrs. Jacques Heath (Lily May Peel)  female  35.0      1   \n",
       "4                           Allen, Mr. William Henry    male  35.0      0   \n",
       "\n",
       "   Parch            Ticket     Fare Cabin Embarked  \n",
       "0      0         A/5 21171   7.2500   NaN        S  \n",
       "1      0          PC 17599  71.2833   C85        C  \n",
       "2      0  STON/O2. 3101282   7.9250   NaN        S  \n",
       "3      0            113803  53.1000  C123        S  \n",
       "4      0            373450   8.0500   NaN        S  "
      ]
     },
     "execution_count": 2,
     "metadata": {},
     "output_type": "execute_result"
    }
   ],
   "source": [
    "df = pd.read_csv('train.csv')\n",
    "\n",
    "df.head()"
   ]
  },
  {
   "cell_type": "code",
   "execution_count": 3,
   "id": "3e0c76dc-b242-457d-a3a8-52961393a5f2",
   "metadata": {
    "id": "3e0c76dc-b242-457d-a3a8-52961393a5f2",
    "outputId": "38bc8722-ac42-4095-b3a3-825318d3a882"
   },
   "outputs": [
    {
     "name": "stdout",
     "output_type": "stream",
     "text": [
      "<class 'pandas.core.frame.DataFrame'>\n",
      "RangeIndex: 891 entries, 0 to 890\n",
      "Data columns (total 12 columns):\n",
      " #   Column       Non-Null Count  Dtype  \n",
      "---  ------       --------------  -----  \n",
      " 0   PassengerId  891 non-null    int64  \n",
      " 1   Survived     891 non-null    int64  \n",
      " 2   Pclass       891 non-null    int64  \n",
      " 3   Name         891 non-null    object \n",
      " 4   Sex          891 non-null    object \n",
      " 5   Age          714 non-null    float64\n",
      " 6   SibSp        891 non-null    int64  \n",
      " 7   Parch        891 non-null    int64  \n",
      " 8   Ticket       891 non-null    object \n",
      " 9   Fare         891 non-null    float64\n",
      " 10  Cabin        204 non-null    object \n",
      " 11  Embarked     889 non-null    object \n",
      "dtypes: float64(2), int64(5), object(5)\n",
      "memory usage: 83.7+ KB\n"
     ]
    }
   ],
   "source": [
    "df.info()"
   ]
  },
  {
   "cell_type": "code",
   "execution_count": 4,
   "id": "00be3d80-7eaa-4a21-97b3-678e2b23f46d",
   "metadata": {
    "id": "00be3d80-7eaa-4a21-97b3-678e2b23f46d",
    "outputId": "e5ef2bd4-e48a-48e6-ca21-104846581d73"
   },
   "outputs": [
    {
     "data": {
      "image/png": "[encoded data removed]",
      "text/plain": [
       "<Figure size 432x288 with 1 Axes>"
      ]
     },
     "metadata": {
      "needs_background": "light"
     },
     "output_type": "display_data"
    }
   ],
   "source": [
    "sns.countplot(x=\"Survived\", data=df, palette='Blues');"
   ]
  },
  {
   "cell_type": "code",
   "execution_count": 5,
   "id": "da756396-2a13-462d-bb36-17f8cba3a695",
   "metadata": {
    "id": "da756396-2a13-462d-bb36-17f8cba3a695",
    "outputId": "c5cb8e4e-11d4-45ea-b5bd-a8ae7d762747"
   },
   "outputs": [
    {
     "data": {
      "text/plain": [
       "Cabin          77.104377\n",
       "Age            19.865320\n",
       "Embarked        0.224467\n",
       "PassengerId     0.000000\n",
       "Survived        0.000000\n",
       "Pclass          0.000000\n",
       "Name            0.000000\n",
       "Sex             0.000000\n",
       "SibSp           0.000000\n",
       "Parch           0.000000\n",
       "Ticket          0.000000\n",
       "Fare            0.000000\n",
       "dtype: float64"
      ]
     },
     "execution_count": 5,
     "metadata": {},
     "output_type": "execute_result"
    }
   ],
   "source": [
    "(df.isnull().sum() *100 / df.shape[0]).sort_values(ascending=False)"
   ]
  },
  {
   "cell_type": "code",
   "execution_count": 6,
   "id": "f225db1e-b070-4435-824c-f1c4a14ba8df",
   "metadata": {
    "id": "f225db1e-b070-4435-824c-f1c4a14ba8df"
   },
   "outputs": [],
   "source": [
    "def title(name):\n",
    "    title_search = re.search(' ([A-Za-z]+)\\.', name)\n",
    "    if title_search:\n",
    "        return title_search.group(1)\n",
    "    return \"\"\n",
    "df['Title'] = df['Name'].map(title) "
   ]
  },
  {
   "cell_type": "code",
   "execution_count": 7,
   "id": "cd032fd0-190d-4f94-a061-bd3498d4c542",
   "metadata": {
    "id": "cd032fd0-190d-4f94-a061-bd3498d4c542"
   },
   "outputs": [],
   "source": [
    "df['Title'] = df['Title'].replace(['Capt', 'Col','Dr', 'Major', 'Rev'], 'Officer') \n",
    "df['Title'] = df['Title'].replace(['Countess', 'Lady', 'Sir','Jonkheer','Don','Dona'], 'Royal')\n",
    "df['Title'] = df['Title'].replace('Mlle', 'Miss')\n",
    "df['Title'] = df['Title'].replace('Ms', 'Miss')\n",
    "df['Title'] = df['Title'].replace('Mme', 'Mrs')"
   ]
  },
  {
   "cell_type": "code",
   "execution_count": 8,
   "id": "eae7254d-ee41-4bf8-87d8-cec1297fa406",
   "metadata": {
    "id": "eae7254d-ee41-4bf8-87d8-cec1297fa406",
    "outputId": "cb02107d-0b4d-45c0-b9a4-773fb532246a"
   },
   "outputs": [
    {
     "data": {
      "text/html": [
       "<div>\n",
       "<style scoped>\n",
       "    .dataframe tbody tr th:only-of-type {\n",
       "        vertical-align: middle;\n",
       "    }\n",
       "\n",
       "    .dataframe tbody tr th {\n",
       "        vertical-align: top;\n",
       "    }\n",
       "\n",
       "    .dataframe thead th {\n",
       "        text-align: right;\n",
       "    }\n",
       "</style>\n",
       "<table border=\"1\" class=\"dataframe\">\n",
       "  <thead>\n",
       "    <tr style=\"text-align: right;\">\n",
       "      <th></th>\n",
       "      <th></th>\n",
       "      <th></th>\n",
       "      <th>Age</th>\n",
       "    </tr>\n",
       "    <tr>\n",
       "      <th>Sex</th>\n",
       "      <th>Pclass</th>\n",
       "      <th>Title</th>\n",
       "      <th></th>\n",
       "    </tr>\n",
       "  </thead>\n",
       "  <tbody>\n",
       "    <tr>\n",
       "      <th rowspan=\"8\" valign=\"top\">female</th>\n",
       "      <th rowspan=\"4\" valign=\"top\">1</th>\n",
       "      <th>Miss</th>\n",
       "      <td>29.744681</td>\n",
       "    </tr>\n",
       "    <tr>\n",
       "      <th>Mrs</th>\n",
       "      <td>40.400000</td>\n",
       "    </tr>\n",
       "    <tr>\n",
       "      <th>Officer</th>\n",
       "      <td>49.000000</td>\n",
       "    </tr>\n",
       "    <tr>\n",
       "      <th>Royal</th>\n",
       "      <td>40.500000</td>\n",
       "    </tr>\n",
       "    <tr>\n",
       "      <th rowspan=\"2\" valign=\"top\">2</th>\n",
       "      <th>Miss</th>\n",
       "      <td>22.560606</td>\n",
       "    </tr>\n",
       "    <tr>\n",
       "      <th>Mrs</th>\n",
       "      <td>33.682927</td>\n",
       "    </tr>\n",
       "    <tr>\n",
       "      <th rowspan=\"2\" valign=\"top\">3</th>\n",
       "      <th>Miss</th>\n",
       "      <td>16.123188</td>\n",
       "    </tr>\n",
       "    <tr>\n",
       "      <th>Mrs</th>\n",
       "      <td>33.515152</td>\n",
       "    </tr>\n",
       "    <tr>\n",
       "      <th rowspan=\"9\" valign=\"top\">male</th>\n",
       "      <th rowspan=\"4\" valign=\"top\">1</th>\n",
       "      <th>Master</th>\n",
       "      <td>5.306667</td>\n",
       "    </tr>\n",
       "    <tr>\n",
       "      <th>Mr</th>\n",
       "      <td>41.580460</td>\n",
       "    </tr>\n",
       "    <tr>\n",
       "      <th>Officer</th>\n",
       "      <td>51.125000</td>\n",
       "    </tr>\n",
       "    <tr>\n",
       "      <th>Royal</th>\n",
       "      <td>42.333333</td>\n",
       "    </tr>\n",
       "    <tr>\n",
       "      <th rowspan=\"3\" valign=\"top\">2</th>\n",
       "      <th>Master</th>\n",
       "      <td>2.258889</td>\n",
       "    </tr>\n",
       "    <tr>\n",
       "      <th>Mr</th>\n",
       "      <td>32.768293</td>\n",
       "    </tr>\n",
       "    <tr>\n",
       "      <th>Officer</th>\n",
       "      <td>42.000000</td>\n",
       "    </tr>\n",
       "    <tr>\n",
       "      <th rowspan=\"2\" valign=\"top\">3</th>\n",
       "      <th>Master</th>\n",
       "      <td>5.350833</td>\n",
       "    </tr>\n",
       "    <tr>\n",
       "      <th>Mr</th>\n",
       "      <td>28.724891</td>\n",
       "    </tr>\n",
       "  </tbody>\n",
       "</table>\n",
       "</div>"
      ],
      "text/plain": [
       "                             Age\n",
       "Sex    Pclass Title             \n",
       "female 1      Miss     29.744681\n",
       "              Mrs      40.400000\n",
       "              Officer  49.000000\n",
       "              Royal    40.500000\n",
       "       2      Miss     22.560606\n",
       "              Mrs      33.682927\n",
       "       3      Miss     16.123188\n",
       "              Mrs      33.515152\n",
       "male   1      Master    5.306667\n",
       "              Mr       41.580460\n",
       "              Officer  51.125000\n",
       "              Royal    42.333333\n",
       "       2      Master    2.258889\n",
       "              Mr       32.768293\n",
       "              Officer  42.000000\n",
       "       3      Master    5.350833\n",
       "              Mr       28.724891"
      ]
     },
     "execution_count": 8,
     "metadata": {},
     "output_type": "execute_result"
    }
   ],
   "source": [
    "df.groupby(['Sex', 'Pclass', 'Title'])[['Age']].mean()"
   ]
  },
  {
   "cell_type": "code",
   "execution_count": 9,
   "id": "8728fce8-fa81-4bf5-b5c3-4904c63764d0",
   "metadata": {
    "id": "8728fce8-fa81-4bf5-b5c3-4904c63764d0"
   },
   "outputs": [],
   "source": [
    "df['Age'] = df.groupby(['Sex', 'Pclass', 'Title']).Age.apply(lambda x: x.fillna(x.mean()))"
   ]
  },
  {
   "cell_type": "code",
   "execution_count": 10,
   "id": "bec85c3a-2194-4fbb-b31b-b96eb6a660fc",
   "metadata": {
    "id": "bec85c3a-2194-4fbb-b31b-b96eb6a660fc"
   },
   "outputs": [],
   "source": [
    "drops = ['PassengerId', 'Ticket', 'Name', 'Cabin']\n",
    "df.drop(drops,axis=1,inplace=True)"
   ]
  },
  {
   "cell_type": "code",
   "execution_count": 11,
   "id": "0cf55330-a19f-440a-b8cb-39ccce626f32",
   "metadata": {},
   "outputs": [
    {
     "data": {
      "image/png": "[encoded data removed]",
      "text/plain": [
       "<Figure size 432x288 with 1 Axes>"
      ]
     },
     "metadata": {
      "needs_background": "light"
     },
     "output_type": "display_data"
    }
   ],
   "source": [
    "sns.countplot(x=\"Embarked\", data=df, palette='Blues');"
   ]
  },
  {
   "cell_type": "code",
   "execution_count": 12,
   "id": "9dfe20d6-28a1-422a-b67c-e96382bb56b3",
   "metadata": {
    "id": "9dfe20d6-28a1-422a-b67c-e96382bb56b3"
   },
   "outputs": [],
   "source": [
    "df['Embarked'] = df['Embarked'].fillna('S')"
   ]
  },
  {
   "cell_type": "code",
   "execution_count": 13,
   "id": "b034e3d0-a032-450d-a65c-21ad547e8174",
   "metadata": {
    "id": "b034e3d0-a032-450d-a65c-21ad547e8174",
    "outputId": "9a98ac15-645a-46c4-a1b4-a6a7e5e9328e"
   },
   "outputs": [
    {
     "name": "stdout",
     "output_type": "stream",
     "text": [
      "<class 'pandas.core.frame.DataFrame'>\n",
      "RangeIndex: 891 entries, 0 to 890\n",
      "Data columns (total 9 columns):\n",
      " #   Column    Non-Null Count  Dtype  \n",
      "---  ------    --------------  -----  \n",
      " 0   Survived  891 non-null    int64  \n",
      " 1   Pclass    891 non-null    int64  \n",
      " 2   Sex       891 non-null    object \n",
      " 3   Age       891 non-null    float64\n",
      " 4   SibSp     891 non-null    int64  \n",
      " 5   Parch     891 non-null    int64  \n",
      " 6   Fare      891 non-null    float64\n",
      " 7   Embarked  891 non-null    object \n",
      " 8   Title     891 non-null    object \n",
      "dtypes: float64(2), int64(4), object(3)\n",
      "memory usage: 62.8+ KB\n"
     ]
    }
   ],
   "source": [
    "df.info()"
   ]
  },
  {
   "cell_type": "code",
   "execution_count": 14,
   "id": "2cf511a7-3204-4dc9-9c58-93618639ffdd",
   "metadata": {},
   "outputs": [],
   "source": [
    "df = pd.get_dummies(df, columns=['Embarked', 'Sex', 'Title'],\n",
    "                    drop_first=True)"
   ]
  },
  {
   "cell_type": "code",
   "execution_count": 15,
   "id": "6f92966e-efc4-4a91-a431-be0c6476723b",
   "metadata": {
    "id": "6f92966e-efc4-4a91-a431-be0c6476723b",
    "outputId": "5758d181-3ee5-4806-f550-778f18db186f"
   },
   "outputs": [
    {
     "name": "stdout",
     "output_type": "stream",
     "text": [
      "<class 'pandas.core.frame.DataFrame'>\n",
      "RangeIndex: 891 entries, 0 to 890\n",
      "Data columns (total 14 columns):\n",
      " #   Column         Non-Null Count  Dtype  \n",
      "---  ------         --------------  -----  \n",
      " 0   Survived       891 non-null    int64  \n",
      " 1   Pclass         891 non-null    int64  \n",
      " 2   Age            891 non-null    float64\n",
      " 3   SibSp          891 non-null    int64  \n",
      " 4   Parch          891 non-null    int64  \n",
      " 5   Fare           891 non-null    float64\n",
      " 6   Embarked_Q     891 non-null    uint8  \n",
      " 7   Embarked_S     891 non-null    uint8  \n",
      " 8   Sex_male       891 non-null    uint8  \n",
      " 9   Title_Miss     891 non-null    uint8  \n",
      " 10  Title_Mr       891 non-null    uint8  \n",
      " 11  Title_Mrs      891 non-null    uint8  \n",
      " 12  Title_Officer  891 non-null    uint8  \n",
      " 13  Title_Royal    891 non-null    uint8  \n",
      "dtypes: float64(2), int64(4), uint8(8)\n",
      "memory usage: 48.9 KB\n"
     ]
    }
   ],
   "source": [
    "df.info()"
   ]
  },
  {
   "cell_type": "code",
   "execution_count": 16,
   "id": "735268b8-c0e7-408c-b1e1-3c2dd3954b7e",
   "metadata": {
    "id": "735268b8-c0e7-408c-b1e1-3c2dd3954b7e",
    "outputId": "aa5f8436-c2b9-4525-8b2a-11fa225cf348"
   },
   "outputs": [
    {
     "data": {
      "text/html": [
       "<div>\n",
       "<style scoped>\n",
       "    .dataframe tbody tr th:only-of-type {\n",
       "        vertical-align: middle;\n",
       "    }\n",
       "\n",
       "    .dataframe tbody tr th {\n",
       "        vertical-align: top;\n",
       "    }\n",
       "\n",
       "    .dataframe thead th {\n",
       "        text-align: right;\n",
       "    }\n",
       "</style>\n",
       "<table border=\"1\" class=\"dataframe\">\n",
       "  <thead>\n",
       "    <tr style=\"text-align: right;\">\n",
       "      <th></th>\n",
       "      <th>Survived</th>\n",
       "      <th>Pclass</th>\n",
       "      <th>Age</th>\n",
       "      <th>SibSp</th>\n",
       "      <th>Parch</th>\n",
       "      <th>Fare</th>\n",
       "      <th>Embarked_Q</th>\n",
       "      <th>Embarked_S</th>\n",
       "      <th>Sex_male</th>\n",
       "      <th>Title_Miss</th>\n",
       "      <th>Title_Mr</th>\n",
       "      <th>Title_Mrs</th>\n",
       "      <th>Title_Officer</th>\n",
       "      <th>Title_Royal</th>\n",
       "    </tr>\n",
       "  </thead>\n",
       "  <tbody>\n",
       "    <tr>\n",
       "      <th>0</th>\n",
       "      <td>0</td>\n",
       "      <td>3</td>\n",
       "      <td>22.0</td>\n",
       "      <td>1</td>\n",
       "      <td>0</td>\n",
       "      <td>7.2500</td>\n",
       "      <td>0</td>\n",
       "      <td>1</td>\n",
       "      <td>1</td>\n",
       "      <td>0</td>\n",
       "      <td>1</td>\n",
       "      <td>0</td>\n",
       "      <td>0</td>\n",
       "      <td>0</td>\n",
       "    </tr>\n",
       "    <tr>\n",
       "      <th>1</th>\n",
       "      <td>1</td>\n",
       "      <td>1</td>\n",
       "      <td>38.0</td>\n",
       "      <td>1</td>\n",
       "      <td>0</td>\n",
       "      <td>71.2833</td>\n",
       "      <td>0</td>\n",
       "      <td>0</td>\n",
       "      <td>0</td>\n",
       "      <td>0</td>\n",
       "      <td>0</td>\n",
       "      <td>1</td>\n",
       "      <td>0</td>\n",
       "      <td>0</td>\n",
       "    </tr>\n",
       "    <tr>\n",
       "      <th>2</th>\n",
       "      <td>1</td>\n",
       "      <td>3</td>\n",
       "      <td>26.0</td>\n",
       "      <td>0</td>\n",
       "      <td>0</td>\n",
       "      <td>7.9250</td>\n",
       "      <td>0</td>\n",
       "      <td>1</td>\n",
       "      <td>0</td>\n",
       "      <td>1</td>\n",
       "      <td>0</td>\n",
       "      <td>0</td>\n",
       "      <td>0</td>\n",
       "      <td>0</td>\n",
       "    </tr>\n",
       "    <tr>\n",
       "      <th>3</th>\n",
       "      <td>1</td>\n",
       "      <td>1</td>\n",
       "      <td>35.0</td>\n",
       "      <td>1</td>\n",
       "      <td>0</td>\n",
       "      <td>53.1000</td>\n",
       "      <td>0</td>\n",
       "      <td>1</td>\n",
       "      <td>0</td>\n",
       "      <td>0</td>\n",
       "      <td>0</td>\n",
       "      <td>1</td>\n",
       "      <td>0</td>\n",
       "      <td>0</td>\n",
       "    </tr>\n",
       "    <tr>\n",
       "      <th>4</th>\n",
       "      <td>0</td>\n",
       "      <td>3</td>\n",
       "      <td>35.0</td>\n",
       "      <td>0</td>\n",
       "      <td>0</td>\n",
       "      <td>8.0500</td>\n",
       "      <td>0</td>\n",
       "      <td>1</td>\n",
       "      <td>1</td>\n",
       "      <td>0</td>\n",
       "      <td>1</td>\n",
       "      <td>0</td>\n",
       "      <td>0</td>\n",
       "      <td>0</td>\n",
       "    </tr>\n",
       "  </tbody>\n",
       "</table>\n",
       "</div>"
      ],
      "text/plain": [
       "   Survived  Pclass   Age  SibSp  Parch     Fare  Embarked_Q  Embarked_S  \\\n",
       "0         0       3  22.0      1      0   7.2500           0           1   \n",
       "1         1       1  38.0      1      0  71.2833           0           0   \n",
       "2         1       3  26.0      0      0   7.9250           0           1   \n",
       "3         1       1  35.0      1      0  53.1000           0           1   \n",
       "4         0       3  35.0      0      0   8.0500           0           1   \n",
       "\n",
       "   Sex_male  Title_Miss  Title_Mr  Title_Mrs  Title_Officer  Title_Royal  \n",
       "0         1           0         1          0              0            0  \n",
       "1         0           0         0          1              0            0  \n",
       "2         0           1         0          0              0            0  \n",
       "3         0           0         0          1              0            0  \n",
       "4         1           0         1          0              0            0  "
      ]
     },
     "execution_count": 16,
     "metadata": {},
     "output_type": "execute_result"
    }
   ],
   "source": [
    "df.head()"
   ]
  },
  {
   "cell_type": "code",
   "execution_count": 17,
   "id": "0edcbb00-f8dd-4cfb-af31-f1e57f613bfd",
   "metadata": {
    "id": "0edcbb00-f8dd-4cfb-af31-f1e57f613bfd"
   },
   "outputs": [],
   "source": [
    "X = df.drop('Survived', axis=1)\n",
    "y = df['Survived']"
   ]
  },
  {
   "cell_type": "code",
   "execution_count": 18,
   "id": "75cb97c9-1031-42bf-bd46-3f71b1edc56f",
   "metadata": {
    "id": "75cb97c9-1031-42bf-bd46-3f71b1edc56f"
   },
   "outputs": [],
   "source": [
    "X_train, X_test, y_train, y_test =  train_test_split(X, y, test_size=0.3, random_state=42)"
   ]
  },
  {
   "cell_type": "code",
   "execution_count": 19,
   "id": "594f05c7-e587-4c51-808a-e3da85c49cff",
   "metadata": {
    "id": "594f05c7-e587-4c51-808a-e3da85c49cff"
   },
   "outputs": [],
   "source": [
    "log = LogisticRegression(max_iter=10000)\n",
    "log_model = log.fit(X_train, y_train)"
   ]
  },
  {
   "cell_type": "code",
   "execution_count": 20,
   "id": "3586b77c-e0e2-4c5f-b7e1-96a2a6e2cbe0",
   "metadata": {
    "id": "3586b77c-e0e2-4c5f-b7e1-96a2a6e2cbe0"
   },
   "outputs": [],
   "source": [
    "y_pred_test = log_model.predict(X_test)\n",
    "y_pred_train = log_model.predict(X_train)"
   ]
  },
  {
   "cell_type": "code",
   "execution_count": 21,
   "id": "04c740bc-3098-4668-8837-374ee1793d2f",
   "metadata": {
    "id": "04c740bc-3098-4668-8837-374ee1793d2f"
   },
   "outputs": [],
   "source": [
    "train_accuracy = log_model.score(X_train, y_train)\n",
    "test_accuracy = log_model.score(X_test, y_test)"
   ]
  },
  {
   "cell_type": "code",
   "execution_count": 22,
   "id": "1662cc7c-7782-4c3a-a8e7-0e4b37498c68",
   "metadata": {
    "id": "1662cc7c-7782-4c3a-a8e7-0e4b37498c68",
    "outputId": "f13b5a90-8162-4125-8325-2413b26a4674"
   },
   "outputs": [
    {
     "name": "stdout",
     "output_type": "stream",
     "text": [
      "Train accuracy: 0.8362760834670947\n",
      "Test accuracy: 0.8208955223880597\n"
     ]
    }
   ],
   "source": [
    "print(\"Train accuracy: {}\".format(train_accuracy))\n",
    "print(\"Test accuracy: {}\".format(test_accuracy))"
   ]
  },
  {
   "cell_type": "code",
   "execution_count": 23,
   "id": "b8bddf8a-aa39-4f48-be6d-71a617132df2",
   "metadata": {
    "id": "b8bddf8a-aa39-4f48-be6d-71a617132df2",
    "outputId": "febe8020-7eda-4b14-82c6-afa0173c7238"
   },
   "outputs": [
    {
     "name": "stdout",
     "output_type": "stream",
     "text": [
      "              precision    recall  f1-score   support\n",
      "\n",
      "           0       0.85      0.89      0.87       392\n",
      "           1       0.80      0.74      0.77       231\n",
      "\n",
      "    accuracy                           0.84       623\n",
      "   macro avg       0.83      0.82      0.82       623\n",
      "weighted avg       0.83      0.84      0.83       623\n",
      "\n"
     ]
    }
   ],
   "source": [
    "print(classification_report(y_train, y_pred_train))"
   ]
  },
  {
   "cell_type": "code",
   "execution_count": 24,
   "id": "70c0c475-ed5f-4b03-923e-bc1c0f8a686a",
   "metadata": {
    "id": "70c0c475-ed5f-4b03-923e-bc1c0f8a686a",
    "outputId": "46c862ab-78cc-4f7f-ca84-8b1cbc69fc4c"
   },
   "outputs": [
    {
     "name": "stdout",
     "output_type": "stream",
     "text": [
      "              precision    recall  f1-score   support\n",
      "\n",
      "           0       0.84      0.86      0.85       157\n",
      "           1       0.79      0.77      0.78       111\n",
      "\n",
      "    accuracy                           0.82       268\n",
      "   macro avg       0.82      0.81      0.81       268\n",
      "weighted avg       0.82      0.82      0.82       268\n",
      "\n"
     ]
    }
   ],
   "source": [
    "print(classification_report(y_test, y_pred_test))"
   ]
  },
  {
   "cell_type": "code",
   "execution_count": 25,
   "id": "8090c3b2-b2e8-45aa-b4f5-6704ad0ce829",
   "metadata": {},
   "outputs": [
    {
     "data": {
      "image/png": "[encoded data removed]",
      "text/plain": [
       "<Figure size 432x432 with 1 Axes>"
      ]
     },
     "metadata": {
      "needs_background": "light"
     },
     "output_type": "display_data"
    }
   ],
   "source": [
    "plt.figure(figsize=(6,6))\n",
    "sns.heatmap(confusion_matrix(y_test,y_pred_test),annot=True, fmt='g', cmap='Blues', cbar=False)\n",
    "plt.title('Confusion Matrix', fontsize=15)\n",
    "plt.xlabel('Predicted label', fontsize=12)\n",
    "plt.ylabel('True Label', fontsize=12);"
   ]
  },
  {
   "cell_type": "code",
   "execution_count": 26,
   "id": "9005ae73-5a85-45d6-a7d5-0b3e67f6d9bc",
   "metadata": {
    "id": "9005ae73-5a85-45d6-a7d5-0b3e67f6d9bc",
    "outputId": "1343c643-486c-48f0-a468-ccc603394916"
   },
   "outputs": [
    {
     "data": {
      "text/html": [
       "<div>\n",
       "<style scoped>\n",
       "    .dataframe tbody tr th:only-of-type {\n",
       "        vertical-align: middle;\n",
       "    }\n",
       "\n",
       "    .dataframe tbody tr th {\n",
       "        vertical-align: top;\n",
       "    }\n",
       "\n",
       "    .dataframe thead th {\n",
       "        text-align: right;\n",
       "    }\n",
       "</style>\n",
       "<table border=\"1\" class=\"dataframe\">\n",
       "  <thead>\n",
       "    <tr style=\"text-align: right;\">\n",
       "      <th></th>\n",
       "      <th>C_values</th>\n",
       "      <th>Solver</th>\n",
       "      <th>Train Accuracy</th>\n",
       "      <th>Test Accuracy</th>\n",
       "    </tr>\n",
       "  </thead>\n",
       "  <tbody>\n",
       "    <tr>\n",
       "      <th>0</th>\n",
       "      <td>10.000</td>\n",
       "      <td>lbfgs</td>\n",
       "      <td>0.839486</td>\n",
       "      <td>0.824627</td>\n",
       "    </tr>\n",
       "    <tr>\n",
       "      <th>1</th>\n",
       "      <td>10000.000</td>\n",
       "      <td>newton-cg</td>\n",
       "      <td>0.837881</td>\n",
       "      <td>0.828358</td>\n",
       "    </tr>\n",
       "    <tr>\n",
       "      <th>2</th>\n",
       "      <td>10.000</td>\n",
       "      <td>newton-cg</td>\n",
       "      <td>0.837881</td>\n",
       "      <td>0.824627</td>\n",
       "    </tr>\n",
       "    <tr>\n",
       "      <th>3</th>\n",
       "      <td>100.000</td>\n",
       "      <td>newton-cg</td>\n",
       "      <td>0.837881</td>\n",
       "      <td>0.824627</td>\n",
       "    </tr>\n",
       "    <tr>\n",
       "      <th>4</th>\n",
       "      <td>1000.000</td>\n",
       "      <td>newton-cg</td>\n",
       "      <td>0.837881</td>\n",
       "      <td>0.824627</td>\n",
       "    </tr>\n",
       "    <tr>\n",
       "      <th>5</th>\n",
       "      <td>10000.000</td>\n",
       "      <td>liblinear</td>\n",
       "      <td>0.837881</td>\n",
       "      <td>0.824627</td>\n",
       "    </tr>\n",
       "    <tr>\n",
       "      <th>6</th>\n",
       "      <td>100.000</td>\n",
       "      <td>lbfgs</td>\n",
       "      <td>0.837881</td>\n",
       "      <td>0.824627</td>\n",
       "    </tr>\n",
       "    <tr>\n",
       "      <th>7</th>\n",
       "      <td>1000.000</td>\n",
       "      <td>lbfgs</td>\n",
       "      <td>0.837881</td>\n",
       "      <td>0.824627</td>\n",
       "    </tr>\n",
       "    <tr>\n",
       "      <th>8</th>\n",
       "      <td>10000.000</td>\n",
       "      <td>lbfgs</td>\n",
       "      <td>0.837881</td>\n",
       "      <td>0.824627</td>\n",
       "    </tr>\n",
       "    <tr>\n",
       "      <th>9</th>\n",
       "      <td>10.000</td>\n",
       "      <td>liblinear</td>\n",
       "      <td>0.837881</td>\n",
       "      <td>0.820896</td>\n",
       "    </tr>\n",
       "    <tr>\n",
       "      <th>10</th>\n",
       "      <td>100.000</td>\n",
       "      <td>liblinear</td>\n",
       "      <td>0.836276</td>\n",
       "      <td>0.824627</td>\n",
       "    </tr>\n",
       "    <tr>\n",
       "      <th>11</th>\n",
       "      <td>1000.000</td>\n",
       "      <td>liblinear</td>\n",
       "      <td>0.836276</td>\n",
       "      <td>0.824627</td>\n",
       "    </tr>\n",
       "    <tr>\n",
       "      <th>12</th>\n",
       "      <td>1.000</td>\n",
       "      <td>newton-cg</td>\n",
       "      <td>0.836276</td>\n",
       "      <td>0.820896</td>\n",
       "    </tr>\n",
       "    <tr>\n",
       "      <th>13</th>\n",
       "      <td>1.000</td>\n",
       "      <td>lbfgs</td>\n",
       "      <td>0.836276</td>\n",
       "      <td>0.820896</td>\n",
       "    </tr>\n",
       "    <tr>\n",
       "      <th>14</th>\n",
       "      <td>0.100</td>\n",
       "      <td>newton-cg</td>\n",
       "      <td>0.834671</td>\n",
       "      <td>0.809701</td>\n",
       "    </tr>\n",
       "    <tr>\n",
       "      <th>15</th>\n",
       "      <td>1.000</td>\n",
       "      <td>liblinear</td>\n",
       "      <td>0.834671</td>\n",
       "      <td>0.809701</td>\n",
       "    </tr>\n",
       "    <tr>\n",
       "      <th>16</th>\n",
       "      <td>0.100</td>\n",
       "      <td>lbfgs</td>\n",
       "      <td>0.834671</td>\n",
       "      <td>0.809701</td>\n",
       "    </tr>\n",
       "    <tr>\n",
       "      <th>17</th>\n",
       "      <td>0.100</td>\n",
       "      <td>liblinear</td>\n",
       "      <td>0.802568</td>\n",
       "      <td>0.805970</td>\n",
       "    </tr>\n",
       "    <tr>\n",
       "      <th>18</th>\n",
       "      <td>1.000</td>\n",
       "      <td>sag</td>\n",
       "      <td>0.794543</td>\n",
       "      <td>0.809701</td>\n",
       "    </tr>\n",
       "    <tr>\n",
       "      <th>19</th>\n",
       "      <td>10.000</td>\n",
       "      <td>sag</td>\n",
       "      <td>0.794543</td>\n",
       "      <td>0.809701</td>\n",
       "    </tr>\n",
       "    <tr>\n",
       "      <th>20</th>\n",
       "      <td>100.000</td>\n",
       "      <td>sag</td>\n",
       "      <td>0.794543</td>\n",
       "      <td>0.809701</td>\n",
       "    </tr>\n",
       "    <tr>\n",
       "      <th>21</th>\n",
       "      <td>1000.000</td>\n",
       "      <td>sag</td>\n",
       "      <td>0.794543</td>\n",
       "      <td>0.809701</td>\n",
       "    </tr>\n",
       "    <tr>\n",
       "      <th>22</th>\n",
       "      <td>10000.000</td>\n",
       "      <td>sag</td>\n",
       "      <td>0.794543</td>\n",
       "      <td>0.809701</td>\n",
       "    </tr>\n",
       "    <tr>\n",
       "      <th>23</th>\n",
       "      <td>0.100</td>\n",
       "      <td>saga</td>\n",
       "      <td>0.794543</td>\n",
       "      <td>0.802239</td>\n",
       "    </tr>\n",
       "    <tr>\n",
       "      <th>24</th>\n",
       "      <td>0.100</td>\n",
       "      <td>sag</td>\n",
       "      <td>0.792937</td>\n",
       "      <td>0.809701</td>\n",
       "    </tr>\n",
       "    <tr>\n",
       "      <th>25</th>\n",
       "      <td>10.000</td>\n",
       "      <td>saga</td>\n",
       "      <td>0.792937</td>\n",
       "      <td>0.809701</td>\n",
       "    </tr>\n",
       "    <tr>\n",
       "      <th>26</th>\n",
       "      <td>100.000</td>\n",
       "      <td>saga</td>\n",
       "      <td>0.792937</td>\n",
       "      <td>0.809701</td>\n",
       "    </tr>\n",
       "    <tr>\n",
       "      <th>27</th>\n",
       "      <td>1000.000</td>\n",
       "      <td>saga</td>\n",
       "      <td>0.792937</td>\n",
       "      <td>0.809701</td>\n",
       "    </tr>\n",
       "    <tr>\n",
       "      <th>28</th>\n",
       "      <td>10000.000</td>\n",
       "      <td>saga</td>\n",
       "      <td>0.792937</td>\n",
       "      <td>0.809701</td>\n",
       "    </tr>\n",
       "    <tr>\n",
       "      <th>29</th>\n",
       "      <td>1.000</td>\n",
       "      <td>saga</td>\n",
       "      <td>0.791332</td>\n",
       "      <td>0.809701</td>\n",
       "    </tr>\n",
       "    <tr>\n",
       "      <th>30</th>\n",
       "      <td>0.010</td>\n",
       "      <td>newton-cg</td>\n",
       "      <td>0.778491</td>\n",
       "      <td>0.791045</td>\n",
       "    </tr>\n",
       "    <tr>\n",
       "      <th>31</th>\n",
       "      <td>0.010</td>\n",
       "      <td>lbfgs</td>\n",
       "      <td>0.778491</td>\n",
       "      <td>0.791045</td>\n",
       "    </tr>\n",
       "    <tr>\n",
       "      <th>32</th>\n",
       "      <td>0.010</td>\n",
       "      <td>liblinear</td>\n",
       "      <td>0.736758</td>\n",
       "      <td>0.720149</td>\n",
       "    </tr>\n",
       "    <tr>\n",
       "      <th>33</th>\n",
       "      <td>0.010</td>\n",
       "      <td>sag</td>\n",
       "      <td>0.735152</td>\n",
       "      <td>0.720149</td>\n",
       "    </tr>\n",
       "    <tr>\n",
       "      <th>34</th>\n",
       "      <td>0.010</td>\n",
       "      <td>saga</td>\n",
       "      <td>0.731942</td>\n",
       "      <td>0.716418</td>\n",
       "    </tr>\n",
       "    <tr>\n",
       "      <th>35</th>\n",
       "      <td>0.001</td>\n",
       "      <td>liblinear</td>\n",
       "      <td>0.693419</td>\n",
       "      <td>0.675373</td>\n",
       "    </tr>\n",
       "    <tr>\n",
       "      <th>36</th>\n",
       "      <td>0.001</td>\n",
       "      <td>sag</td>\n",
       "      <td>0.690209</td>\n",
       "      <td>0.675373</td>\n",
       "    </tr>\n",
       "    <tr>\n",
       "      <th>37</th>\n",
       "      <td>0.001</td>\n",
       "      <td>saga</td>\n",
       "      <td>0.690209</td>\n",
       "      <td>0.675373</td>\n",
       "    </tr>\n",
       "    <tr>\n",
       "      <th>38</th>\n",
       "      <td>0.001</td>\n",
       "      <td>newton-cg</td>\n",
       "      <td>0.680578</td>\n",
       "      <td>0.671642</td>\n",
       "    </tr>\n",
       "    <tr>\n",
       "      <th>39</th>\n",
       "      <td>0.001</td>\n",
       "      <td>lbfgs</td>\n",
       "      <td>0.680578</td>\n",
       "      <td>0.671642</td>\n",
       "    </tr>\n",
       "  </tbody>\n",
       "</table>\n",
       "</div>"
      ],
      "text/plain": [
       "     C_values     Solver  Train Accuracy  Test Accuracy\n",
       "0      10.000      lbfgs        0.839486       0.824627\n",
       "1   10000.000  newton-cg        0.837881       0.828358\n",
       "2      10.000  newton-cg        0.837881       0.824627\n",
       "3     100.000  newton-cg        0.837881       0.824627\n",
       "4    1000.000  newton-cg        0.837881       0.824627\n",
       "5   10000.000  liblinear        0.837881       0.824627\n",
       "6     100.000      lbfgs        0.837881       0.824627\n",
       "7    1000.000      lbfgs        0.837881       0.824627\n",
       "8   10000.000      lbfgs        0.837881       0.824627\n",
       "9      10.000  liblinear        0.837881       0.820896\n",
       "10    100.000  liblinear        0.836276       0.824627\n",
       "11   1000.000  liblinear        0.836276       0.824627\n",
       "12      1.000  newton-cg        0.836276       0.820896\n",
       "13      1.000      lbfgs        0.836276       0.820896\n",
       "14      0.100  newton-cg        0.834671       0.809701\n",
       "15      1.000  liblinear        0.834671       0.809701\n",
       "16      0.100      lbfgs        0.834671       0.809701\n",
       "17      0.100  liblinear        0.802568       0.805970\n",
       "18      1.000        sag        0.794543       0.809701\n",
       "19     10.000        sag        0.794543       0.809701\n",
       "20    100.000        sag        0.794543       0.809701\n",
       "21   1000.000        sag        0.794543       0.809701\n",
       "22  10000.000        sag        0.794543       0.809701\n",
       "23      0.100       saga        0.794543       0.802239\n",
       "24      0.100        sag        0.792937       0.809701\n",
       "25     10.000       saga        0.792937       0.809701\n",
       "26    100.000       saga        0.792937       0.809701\n",
       "27   1000.000       saga        0.792937       0.809701\n",
       "28  10000.000       saga        0.792937       0.809701\n",
       "29      1.000       saga        0.791332       0.809701\n",
       "30      0.010  newton-cg        0.778491       0.791045\n",
       "31      0.010      lbfgs        0.778491       0.791045\n",
       "32      0.010  liblinear        0.736758       0.720149\n",
       "33      0.010        sag        0.735152       0.720149\n",
       "34      0.010       saga        0.731942       0.716418\n",
       "35      0.001  liblinear        0.693419       0.675373\n",
       "36      0.001        sag        0.690209       0.675373\n",
       "37      0.001       saga        0.690209       0.675373\n",
       "38      0.001  newton-cg        0.680578       0.671642\n",
       "39      0.001      lbfgs        0.680578       0.671642"
      ]
     },
     "metadata": {},
     "output_type": "display_data"
    }
   ],
   "source": [
    "C_values = [0.001,0.01, 0.1,1,10,100, 1000,10000]\n",
    "solvers = ['newton-cg','liblinear','lbfgs','sag','saga']\n",
    "\n",
    "accuracy_values = pd.DataFrame(columns=['C_values','Solver','Train Accuracy', 'Test Accuracy'])\n",
    "\n",
    "for solver in solvers:\n",
    "    \n",
    "    for c in C_values:\n",
    "   \n",
    "        log = LogisticRegression(max_iter=10000, C = c, random_state = 142,solver = solver)\n",
    "        log_model = log.fit(X_train, y_train)\n",
    "        accuracy_values = accuracy_values.append({'C_values': c,\n",
    "                                                  'Solver':solver,\n",
    "                                                  'Train Accuracy': log_model.score(X_train, y_train),\n",
    "                                                  'Test Accuracy': log_model.score(X_test, y_test)\n",
    "                                                 }, ignore_index=True)\n",
    "        \n",
    "display(accuracy_values.sort_values(['Train Accuracy', 'Test Accuracy'],ascending=False).reset_index(drop=True))"
   ]
  },
  {
   "cell_type": "markdown",
   "id": "a0e6ffc7-20d5-4fea-872b-9017ed40043c",
   "metadata": {
    "id": "a0e6ffc7-20d5-4fea-872b-9017ed40043c"
   },
   "source": [
    "##### c = 10 and solver = lbfgs return the best result for train set and c = 10000 and solver = newton_cg return the best result for test set.  "
   ]
  },
  {
   "cell_type": "code",
   "execution_count": 27,
   "id": "0e8b78fa-df7c-49f1-94e1-bc7a11ba162e",
   "metadata": {
    "id": "0e8b78fa-df7c-49f1-94e1-bc7a11ba162e"
   },
   "outputs": [],
   "source": [
    "def fare_cat(fare): #we can better observe the effect of fare by grouping\n",
    "    if fare <= 7.91:\n",
    "        return 'low_fare'\n",
    "    elif fare <= 14.454:\n",
    "        return 'low_mid_fare'\n",
    "    elif fare <= 31:\n",
    "        return 'mid_fare'\n",
    "    elif fare <= 60:\n",
    "        return  'high_low_fare'\n",
    "    elif fare <= 100:\n",
    "        return 'high_fare'\n",
    "    else:\n",
    "        return 'top_fare'"
   ]
  },
  {
   "cell_type": "code",
   "execution_count": 28,
   "id": "c110c95f-25e8-486f-93b9-1592441c4cb5",
   "metadata": {
    "id": "c110c95f-25e8-486f-93b9-1592441c4cb5"
   },
   "outputs": [],
   "source": [
    "X_train['fare_group'] = X_train['Fare'].map(fare_cat)\n",
    "X_test['fare_group'] = X_test['Fare'].map(fare_cat)"
   ]
  },
  {
   "cell_type": "code",
   "execution_count": 29,
   "id": "9435727d-a57d-426d-99ac-305cfebece56",
   "metadata": {
    "id": "9435727d-a57d-426d-99ac-305cfebece56"
   },
   "outputs": [],
   "source": [
    "X_train['FamilySize'] = X_train['Parch'] + X_train['SibSp'] + 1 #we can combine all family members in one feature\n",
    "X_test['FamilySize'] = X_test['Parch'] + X_test['SibSp'] + 1"
   ]
  },
  {
   "cell_type": "code",
   "execution_count": 30,
   "id": "84c8c0f9-5bc9-446f-b77a-bd267bb7925a",
   "metadata": {
    "id": "84c8c0f9-5bc9-446f-b77a-bd267bb7925a"
   },
   "outputs": [],
   "source": [
    "data = [X_train, X_test]   #calculating the average fare per family member\n",
    "for dataset in data:\n",
    "    dataset['Fare_Per_Person'] = dataset['Fare'] / (dataset['FamilySize'])"
   ]
  },
  {
   "cell_type": "code",
   "execution_count": 31,
   "id": "c8bed65d-52b5-491f-85a3-17eea0931f71",
   "metadata": {
    "id": "c8bed65d-52b5-491f-85a3-17eea0931f71"
   },
   "outputs": [],
   "source": [
    "drops_3 = ['SibSp', 'Parch']\n",
    "\n",
    "X_train.drop(drops_3, axis=1, inplace=True)\n",
    "X_test.drop(drops_3, axis=1, inplace=True)"
   ]
  },
  {
   "cell_type": "code",
   "execution_count": 32,
   "id": "5faf0dd2-6be1-4fc7-806a-b533353f2463",
   "metadata": {
    "id": "5faf0dd2-6be1-4fc7-806a-b533353f2463"
   },
   "outputs": [],
   "source": [
    "from sklearn.preprocessing import LabelEncoder"
   ]
  },
  {
   "cell_type": "code",
   "execution_count": 33,
   "id": "f532fba6-1c3e-494e-858c-106b12d43205",
   "metadata": {
    "id": "f532fba6-1c3e-494e-858c-106b12d43205"
   },
   "outputs": [],
   "source": [
    "data = [X_train, X_test]\n",
    "for dataset in data:\n",
    "    le = LabelEncoder()    \n",
    "    dataset['fare_group'] = le.fit_transform(dataset['fare_group'])\n",
    "    dataset['fare_group'] = le.fit_transform(dataset['fare_group'])"
   ]
  },
  {
   "cell_type": "code",
   "execution_count": 34,
   "id": "f5a04c6d-c2f5-4c8e-a5e5-88e9da54d6f7",
   "metadata": {
    "id": "f5a04c6d-c2f5-4c8e-a5e5-88e9da54d6f7",
    "outputId": "c49d9546-8eca-4e28-c51d-33f1e4e8b80a"
   },
   "outputs": [
    {
     "data": {
      "text/html": [
       "<div>\n",
       "<style scoped>\n",
       "    .dataframe tbody tr th:only-of-type {\n",
       "        vertical-align: middle;\n",
       "    }\n",
       "\n",
       "    .dataframe tbody tr th {\n",
       "        vertical-align: top;\n",
       "    }\n",
       "\n",
       "    .dataframe thead th {\n",
       "        text-align: right;\n",
       "    }\n",
       "</style>\n",
       "<table border=\"1\" class=\"dataframe\">\n",
       "  <thead>\n",
       "    <tr style=\"text-align: right;\">\n",
       "      <th></th>\n",
       "      <th>Pclass</th>\n",
       "      <th>Age</th>\n",
       "      <th>Fare</th>\n",
       "      <th>Embarked_Q</th>\n",
       "      <th>Embarked_S</th>\n",
       "      <th>Sex_male</th>\n",
       "      <th>Title_Miss</th>\n",
       "      <th>Title_Mr</th>\n",
       "      <th>Title_Mrs</th>\n",
       "      <th>Title_Officer</th>\n",
       "      <th>Title_Royal</th>\n",
       "      <th>fare_group</th>\n",
       "      <th>FamilySize</th>\n",
       "      <th>Fare_Per_Person</th>\n",
       "    </tr>\n",
       "  </thead>\n",
       "  <tbody>\n",
       "    <tr>\n",
       "      <th>445</th>\n",
       "      <td>1</td>\n",
       "      <td>4.000000</td>\n",
       "      <td>81.8583</td>\n",
       "      <td>0</td>\n",
       "      <td>1</td>\n",
       "      <td>1</td>\n",
       "      <td>0</td>\n",
       "      <td>0</td>\n",
       "      <td>0</td>\n",
       "      <td>0</td>\n",
       "      <td>0</td>\n",
       "      <td>0</td>\n",
       "      <td>3</td>\n",
       "      <td>27.2861</td>\n",
       "    </tr>\n",
       "    <tr>\n",
       "      <th>650</th>\n",
       "      <td>3</td>\n",
       "      <td>28.724891</td>\n",
       "      <td>7.8958</td>\n",
       "      <td>0</td>\n",
       "      <td>1</td>\n",
       "      <td>1</td>\n",
       "      <td>0</td>\n",
       "      <td>1</td>\n",
       "      <td>0</td>\n",
       "      <td>0</td>\n",
       "      <td>0</td>\n",
       "      <td>2</td>\n",
       "      <td>1</td>\n",
       "      <td>7.8958</td>\n",
       "    </tr>\n",
       "    <tr>\n",
       "      <th>172</th>\n",
       "      <td>3</td>\n",
       "      <td>1.000000</td>\n",
       "      <td>11.1333</td>\n",
       "      <td>0</td>\n",
       "      <td>1</td>\n",
       "      <td>0</td>\n",
       "      <td>1</td>\n",
       "      <td>0</td>\n",
       "      <td>0</td>\n",
       "      <td>0</td>\n",
       "      <td>0</td>\n",
       "      <td>3</td>\n",
       "      <td>3</td>\n",
       "      <td>3.7111</td>\n",
       "    </tr>\n",
       "    <tr>\n",
       "      <th>450</th>\n",
       "      <td>2</td>\n",
       "      <td>36.000000</td>\n",
       "      <td>27.7500</td>\n",
       "      <td>0</td>\n",
       "      <td>1</td>\n",
       "      <td>1</td>\n",
       "      <td>0</td>\n",
       "      <td>1</td>\n",
       "      <td>0</td>\n",
       "      <td>0</td>\n",
       "      <td>0</td>\n",
       "      <td>4</td>\n",
       "      <td>4</td>\n",
       "      <td>6.9375</td>\n",
       "    </tr>\n",
       "    <tr>\n",
       "      <th>314</th>\n",
       "      <td>2</td>\n",
       "      <td>43.000000</td>\n",
       "      <td>26.2500</td>\n",
       "      <td>0</td>\n",
       "      <td>1</td>\n",
       "      <td>1</td>\n",
       "      <td>0</td>\n",
       "      <td>1</td>\n",
       "      <td>0</td>\n",
       "      <td>0</td>\n",
       "      <td>0</td>\n",
       "      <td>4</td>\n",
       "      <td>3</td>\n",
       "      <td>8.7500</td>\n",
       "    </tr>\n",
       "  </tbody>\n",
       "</table>\n",
       "</div>"
      ],
      "text/plain": [
       "     Pclass        Age     Fare  Embarked_Q  Embarked_S  Sex_male  Title_Miss  \\\n",
       "445       1   4.000000  81.8583           0           1         1           0   \n",
       "650       3  28.724891   7.8958           0           1         1           0   \n",
       "172       3   1.000000  11.1333           0           1         0           1   \n",
       "450       2  36.000000  27.7500           0           1         1           0   \n",
       "314       2  43.000000  26.2500           0           1         1           0   \n",
       "\n",
       "     Title_Mr  Title_Mrs  Title_Officer  Title_Royal  fare_group  FamilySize  \\\n",
       "445         0          0              0            0           0           3   \n",
       "650         1          0              0            0           2           1   \n",
       "172         0          0              0            0           3           3   \n",
       "450         1          0              0            0           4           4   \n",
       "314         1          0              0            0           4           3   \n",
       "\n",
       "     Fare_Per_Person  \n",
       "445          27.2861  \n",
       "650           7.8958  \n",
       "172           3.7111  \n",
       "450           6.9375  \n",
       "314           8.7500  "
      ]
     },
     "execution_count": 34,
     "metadata": {},
     "output_type": "execute_result"
    }
   ],
   "source": [
    "X_train.head()"
   ]
  },
  {
   "cell_type": "code",
   "execution_count": 35,
   "id": "8a3df53c-404e-4d3b-bbdf-dde950d567f7",
   "metadata": {
    "id": "8a3df53c-404e-4d3b-bbdf-dde950d567f7"
   },
   "outputs": [],
   "source": [
    "log = LogisticRegression(max_iter=1000)\n",
    "log_model_2 = log.fit(X_train, y_train)"
   ]
  },
  {
   "cell_type": "code",
   "execution_count": 36,
   "id": "4594e11b-188b-4141-85f6-903d8d899cad",
   "metadata": {
    "id": "4594e11b-188b-4141-85f6-903d8d899cad"
   },
   "outputs": [],
   "source": [
    "y_pred_test = log_model_2.predict(X_test)\n",
    "y_pred_train = log_model_2.predict(X_train)"
   ]
  },
  {
   "cell_type": "code",
   "execution_count": 37,
   "id": "13fef314-f286-4627-8df2-ba9c24bdeca2",
   "metadata": {
    "id": "13fef314-f286-4627-8df2-ba9c24bdeca2"
   },
   "outputs": [],
   "source": [
    "train_accuracy = log_model_2.score(X_train, y_train)\n",
    "test_accuracy = log_model_2.score(X_test, y_test)"
   ]
  },
  {
   "cell_type": "code",
   "execution_count": 38,
   "id": "637b2b32-b708-4bcb-b8f5-939a3a3c3271",
   "metadata": {
    "id": "637b2b32-b708-4bcb-b8f5-939a3a3c3271",
    "outputId": "216afafe-6fc0-4282-f2ed-66bc40fcb5db"
   },
   "outputs": [
    {
     "name": "stdout",
     "output_type": "stream",
     "text": [
      "Train accuracy: 0.8330658105939005\n",
      "Test accuracy: 0.8246268656716418\n"
     ]
    }
   ],
   "source": [
    "print(\"Train accuracy: {}\".format(train_accuracy))\n",
    "print(\"Test accuracy: {}\".format(test_accuracy))"
   ]
  },
  {
   "cell_type": "code",
   "execution_count": 39,
   "id": "c740382d-4141-4562-a83b-3c8c7a17d0c3",
   "metadata": {
    "id": "c740382d-4141-4562-a83b-3c8c7a17d0c3",
    "outputId": "790d75d3-37a7-41cb-9d07-d7a361f691a9"
   },
   "outputs": [
    {
     "name": "stdout",
     "output_type": "stream",
     "text": [
      "              precision    recall  f1-score   support\n",
      "\n",
      "           0       0.85      0.89      0.87       392\n",
      "           1       0.80      0.74      0.77       231\n",
      "\n",
      "    accuracy                           0.83       623\n",
      "   macro avg       0.82      0.81      0.82       623\n",
      "weighted avg       0.83      0.83      0.83       623\n",
      "\n"
     ]
    }
   ],
   "source": [
    "print(classification_report(y_train, y_pred_train))"
   ]
  },
  {
   "cell_type": "code",
   "execution_count": 40,
   "id": "f4dfebcd-b292-486f-bc99-e96ce638e46e",
   "metadata": {
    "id": "f4dfebcd-b292-486f-bc99-e96ce638e46e",
    "outputId": "3e6131d6-7840-4fdb-a40f-746a980b7990"
   },
   "outputs": [
    {
     "name": "stdout",
     "output_type": "stream",
     "text": [
      "              precision    recall  f1-score   support\n",
      "\n",
      "           0       0.84      0.87      0.85       157\n",
      "           1       0.80      0.77      0.78       111\n",
      "\n",
      "    accuracy                           0.82       268\n",
      "   macro avg       0.82      0.82      0.82       268\n",
      "weighted avg       0.82      0.82      0.82       268\n",
      "\n"
     ]
    }
   ],
   "source": [
    "print(classification_report(y_test, y_pred_test))"
   ]
  },
  {
   "cell_type": "code",
   "execution_count": 41,
   "id": "089bf1ed-0706-4fbd-ad5c-ff1de40ae213",
   "metadata": {},
   "outputs": [
    {
     "data": {
      "image/png": "[encoded data removed]",
      "text/plain": [
       "<Figure size 432x432 with 1 Axes>"
      ]
     },
     "metadata": {
      "needs_background": "light"
     },
     "output_type": "display_data"
    }
   ],
   "source": [
    "plt.figure(figsize=(6,6))\n",
    "sns.heatmap(confusion_matrix(y_test, y_pred_test),annot=True, fmt='g', cmap='Blues', cbar=False)\n",
    "plt.title('Confusion Matrix', fontsize=15)\n",
    "plt.xlabel('Predicted label', fontsize=12)\n",
    "plt.ylabel('True Label', fontsize=12);"
   ]
  },
  {
   "cell_type": "markdown",
   "id": "e7a8fe31-19cb-4f31-9620-5f3600f82963",
   "metadata": {
    "id": "e7a8fe31-19cb-4f31-9620-5f3600f82963"
   },
   "source": [
    "#### The performance of the model is at satisfactory levels.There is no overfitting or underfitting and it has a high accuracy rate."
   ]
  }
 ],
 "metadata": {
  "colab": {
   "collapsed_sections": [
    "e7a8fe31-19cb-4f31-9620-5f3600f82963"
   ],
   "name": "Titanic.ipynb",
   "provenance": []
  },
  "kernelspec": {
   "display_name": "Python 3 (ipykernel)",
   "language": "python",
   "name": "python3"
  },
  "language_info": {
   "codemirror_mode": {
    "name": "ipython",
    "version": 3
   },
   "file_extension": ".py",
   "mimetype": "text/x-python",
   "name": "python",
   "nbconvert_exporter": "python",
   "pygments_lexer": "ipython3",
   "version": "3.8.2"
  }
 },
 "nbformat": 4,
 "nbformat_minor": 5
}
