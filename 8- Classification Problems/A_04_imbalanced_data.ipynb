{
 "cells": [
  {
   "cell_type": "markdown",
   "id": "c2d91db6-98de-4bc0-8965-bd9975e34e89",
   "metadata": {
    "id": "c2d91db6-98de-4bc0-8965-bd9975e34e89"
   },
   "source": [
    "Using the dataset for the risk of heart attack with class imbalance:\n",
    "\n",
    " 1. Create a logistic regression model and measure the performance of it.\n",
    " 2. By experimenting with different methods and class ratios; overcome class imbalance, determine the best performing method and class ratio."
   ]
  },
  {
   "cell_type": "code",
   "execution_count": 1,
   "id": "fbe8310c-c28e-469e-b088-a31e31052ff6",
   "metadata": {
    "id": "fbe8310c-c28e-469e-b088-a31e31052ff6"
   },
   "outputs": [],
   "source": [
    "import pandas as pd\n",
    "import numpy as np \n",
    "\n",
    "import seaborn as sns\n",
    "import matplotlib.pyplot as plt\n",
    "\n",
    "from sklearn.linear_model import LogisticRegression\n",
    "from sklearn.metrics import accuracy_score, classification_report, confusion_matrix\n",
    "from sklearn.model_selection import train_test_split\n",
    "\n",
    "from sklearn.utils import resample\n",
    "from imblearn.over_sampling import SMOTE, ADASYN"
   ]
  },
  {
   "cell_type": "code",
   "execution_count": 2,
   "id": "a1e09eb0-b053-4947-a419-3aa0c9aba4a9",
   "metadata": {
    "id": "a1e09eb0-b053-4947-a419-3aa0c9aba4a9"
   },
   "outputs": [],
   "source": [
    "clv =  pd.read_csv('cleveland-0_vs_4.csv')"
   ]
  },
  {
   "cell_type": "code",
   "execution_count": 3,
   "id": "5855508c-a6ba-4da8-a8de-b53464261d5e",
   "metadata": {
    "id": "5855508c-a6ba-4da8-a8de-b53464261d5e",
    "outputId": "d37d3007-2d74-4312-ae18-41b998835a84"
   },
   "outputs": [
    {
     "data": {
      "text/html": [
       "<div>\n",
       "<style scoped>\n",
       "    .dataframe tbody tr th:only-of-type {\n",
       "        vertical-align: middle;\n",
       "    }\n",
       "\n",
       "    .dataframe tbody tr th {\n",
       "        vertical-align: top;\n",
       "    }\n",
       "\n",
       "    .dataframe thead th {\n",
       "        text-align: right;\n",
       "    }\n",
       "</style>\n",
       "<table border=\"1\" class=\"dataframe\">\n",
       "  <thead>\n",
       "    <tr style=\"text-align: right;\">\n",
       "      <th></th>\n",
       "      <th>age</th>\n",
       "      <th>sex</th>\n",
       "      <th>cp</th>\n",
       "      <th>trestbps</th>\n",
       "      <th>chol</th>\n",
       "      <th>fbs</th>\n",
       "      <th>restecg</th>\n",
       "      <th>thalach</th>\n",
       "      <th>exang</th>\n",
       "      <th>oldpeak</th>\n",
       "      <th>slope</th>\n",
       "      <th>ca</th>\n",
       "      <th>thal</th>\n",
       "      <th>num</th>\n",
       "    </tr>\n",
       "  </thead>\n",
       "  <tbody>\n",
       "    <tr>\n",
       "      <th>0</th>\n",
       "      <td>63.0</td>\n",
       "      <td>1.0</td>\n",
       "      <td>1.0</td>\n",
       "      <td>145.0</td>\n",
       "      <td>233.0</td>\n",
       "      <td>1.0</td>\n",
       "      <td>2.0</td>\n",
       "      <td>150.0</td>\n",
       "      <td>0.0</td>\n",
       "      <td>2.3</td>\n",
       "      <td>3.0</td>\n",
       "      <td>0.0</td>\n",
       "      <td>6.0</td>\n",
       "      <td>negative</td>\n",
       "    </tr>\n",
       "    <tr>\n",
       "      <th>1</th>\n",
       "      <td>37.0</td>\n",
       "      <td>1.0</td>\n",
       "      <td>3.0</td>\n",
       "      <td>130.0</td>\n",
       "      <td>250.0</td>\n",
       "      <td>0.0</td>\n",
       "      <td>0.0</td>\n",
       "      <td>187.0</td>\n",
       "      <td>0.0</td>\n",
       "      <td>3.5</td>\n",
       "      <td>3.0</td>\n",
       "      <td>0.0</td>\n",
       "      <td>3.0</td>\n",
       "      <td>negative</td>\n",
       "    </tr>\n",
       "    <tr>\n",
       "      <th>2</th>\n",
       "      <td>41.0</td>\n",
       "      <td>0.0</td>\n",
       "      <td>2.0</td>\n",
       "      <td>130.0</td>\n",
       "      <td>204.0</td>\n",
       "      <td>0.0</td>\n",
       "      <td>2.0</td>\n",
       "      <td>172.0</td>\n",
       "      <td>0.0</td>\n",
       "      <td>1.4</td>\n",
       "      <td>1.0</td>\n",
       "      <td>0.0</td>\n",
       "      <td>3.0</td>\n",
       "      <td>negative</td>\n",
       "    </tr>\n",
       "    <tr>\n",
       "      <th>3</th>\n",
       "      <td>56.0</td>\n",
       "      <td>1.0</td>\n",
       "      <td>2.0</td>\n",
       "      <td>120.0</td>\n",
       "      <td>236.0</td>\n",
       "      <td>0.0</td>\n",
       "      <td>0.0</td>\n",
       "      <td>178.0</td>\n",
       "      <td>0.0</td>\n",
       "      <td>0.8</td>\n",
       "      <td>1.0</td>\n",
       "      <td>0.0</td>\n",
       "      <td>3.0</td>\n",
       "      <td>negative</td>\n",
       "    </tr>\n",
       "    <tr>\n",
       "      <th>4</th>\n",
       "      <td>57.0</td>\n",
       "      <td>0.0</td>\n",
       "      <td>4.0</td>\n",
       "      <td>120.0</td>\n",
       "      <td>354.0</td>\n",
       "      <td>0.0</td>\n",
       "      <td>0.0</td>\n",
       "      <td>163.0</td>\n",
       "      <td>1.0</td>\n",
       "      <td>0.6</td>\n",
       "      <td>1.0</td>\n",
       "      <td>0.0</td>\n",
       "      <td>3.0</td>\n",
       "      <td>negative</td>\n",
       "    </tr>\n",
       "  </tbody>\n",
       "</table>\n",
       "</div>"
      ],
      "text/plain": [
       "    age  sex   cp  trestbps   chol  fbs  restecg  thalach  exang  oldpeak  \\\n",
       "0  63.0  1.0  1.0     145.0  233.0  1.0      2.0    150.0    0.0      2.3   \n",
       "1  37.0  1.0  3.0     130.0  250.0  0.0      0.0    187.0    0.0      3.5   \n",
       "2  41.0  0.0  2.0     130.0  204.0  0.0      2.0    172.0    0.0      1.4   \n",
       "3  56.0  1.0  2.0     120.0  236.0  0.0      0.0    178.0    0.0      0.8   \n",
       "4  57.0  0.0  4.0     120.0  354.0  0.0      0.0    163.0    1.0      0.6   \n",
       "\n",
       "   slope   ca thal       num  \n",
       "0    3.0  0.0  6.0  negative  \n",
       "1    3.0  0.0  3.0  negative  \n",
       "2    1.0  0.0  3.0  negative  \n",
       "3    1.0  0.0  3.0  negative  \n",
       "4    1.0  0.0  3.0  negative  "
      ]
     },
     "execution_count": 3,
     "metadata": {},
     "output_type": "execute_result"
    }
   ],
   "source": [
    "clv.head()"
   ]
  },
  {
   "cell_type": "code",
   "execution_count": 4,
   "id": "3a9675c4-8300-4648-bdb4-fcf2f7b78eed",
   "metadata": {
    "id": "3a9675c4-8300-4648-bdb4-fcf2f7b78eed",
    "outputId": "5f29a140-93d3-40d3-b2a5-3e5ae481686d"
   },
   "outputs": [
    {
     "name": "stdout",
     "output_type": "stream",
     "text": [
      "<class 'pandas.core.frame.DataFrame'>\n",
      "RangeIndex: 177 entries, 0 to 176\n",
      "Data columns (total 14 columns):\n",
      " #   Column    Non-Null Count  Dtype  \n",
      "---  ------    --------------  -----  \n",
      " 0   age       177 non-null    float64\n",
      " 1   sex       177 non-null    float64\n",
      " 2   cp        177 non-null    float64\n",
      " 3   trestbps  177 non-null    float64\n",
      " 4   chol      177 non-null    float64\n",
      " 5   fbs       177 non-null    float64\n",
      " 6   restecg   177 non-null    float64\n",
      " 7   thalach   177 non-null    float64\n",
      " 8   exang     177 non-null    float64\n",
      " 9   oldpeak   177 non-null    float64\n",
      " 10  slope     177 non-null    float64\n",
      " 11  ca        177 non-null    object \n",
      " 12  thal      177 non-null    object \n",
      " 13  num       177 non-null    object \n",
      "dtypes: float64(11), object(3)\n",
      "memory usage: 19.5+ KB\n"
     ]
    }
   ],
   "source": [
    "clv.info()"
   ]
  },
  {
   "cell_type": "code",
   "execution_count": 5,
   "id": "c844e67f-7052-41f6-9059-c892cd5b018e",
   "metadata": {
    "id": "c844e67f-7052-41f6-9059-c892cd5b018e",
    "outputId": "a7fdae9b-58f2-4aa1-ee76-7278c601e9f5"
   },
   "outputs": [
    {
     "data": {
      "text/html": [
       "<div>\n",
       "<style scoped>\n",
       "    .dataframe tbody tr th:only-of-type {\n",
       "        vertical-align: middle;\n",
       "    }\n",
       "\n",
       "    .dataframe tbody tr th {\n",
       "        vertical-align: top;\n",
       "    }\n",
       "\n",
       "    .dataframe thead th {\n",
       "        text-align: right;\n",
       "    }\n",
       "</style>\n",
       "<table border=\"1\" class=\"dataframe\">\n",
       "  <thead>\n",
       "    <tr style=\"text-align: right;\">\n",
       "      <th></th>\n",
       "      <th>count</th>\n",
       "      <th>mean</th>\n",
       "      <th>std</th>\n",
       "      <th>min</th>\n",
       "      <th>25%</th>\n",
       "      <th>50%</th>\n",
       "      <th>75%</th>\n",
       "      <th>max</th>\n",
       "    </tr>\n",
       "  </thead>\n",
       "  <tbody>\n",
       "    <tr>\n",
       "      <th>age</th>\n",
       "      <td>177.0</td>\n",
       "      <td>53.107345</td>\n",
       "      <td>9.659240</td>\n",
       "      <td>29.0</td>\n",
       "      <td>45.0</td>\n",
       "      <td>53.0</td>\n",
       "      <td>60.0</td>\n",
       "      <td>77.0</td>\n",
       "    </tr>\n",
       "    <tr>\n",
       "      <th>sex</th>\n",
       "      <td>177.0</td>\n",
       "      <td>0.581921</td>\n",
       "      <td>0.494643</td>\n",
       "      <td>0.0</td>\n",
       "      <td>0.0</td>\n",
       "      <td>1.0</td>\n",
       "      <td>1.0</td>\n",
       "      <td>1.0</td>\n",
       "    </tr>\n",
       "    <tr>\n",
       "      <th>cp</th>\n",
       "      <td>177.0</td>\n",
       "      <td>2.858757</td>\n",
       "      <td>0.939865</td>\n",
       "      <td>1.0</td>\n",
       "      <td>2.0</td>\n",
       "      <td>3.0</td>\n",
       "      <td>4.0</td>\n",
       "      <td>4.0</td>\n",
       "    </tr>\n",
       "    <tr>\n",
       "      <th>trestbps</th>\n",
       "      <td>177.0</td>\n",
       "      <td>129.949153</td>\n",
       "      <td>16.417587</td>\n",
       "      <td>94.0</td>\n",
       "      <td>120.0</td>\n",
       "      <td>130.0</td>\n",
       "      <td>140.0</td>\n",
       "      <td>180.0</td>\n",
       "    </tr>\n",
       "    <tr>\n",
       "      <th>chol</th>\n",
       "      <td>177.0</td>\n",
       "      <td>243.429379</td>\n",
       "      <td>54.350994</td>\n",
       "      <td>126.0</td>\n",
       "      <td>209.0</td>\n",
       "      <td>234.0</td>\n",
       "      <td>269.0</td>\n",
       "      <td>564.0</td>\n",
       "    </tr>\n",
       "    <tr>\n",
       "      <th>fbs</th>\n",
       "      <td>177.0</td>\n",
       "      <td>0.135593</td>\n",
       "      <td>0.343327</td>\n",
       "      <td>0.0</td>\n",
       "      <td>0.0</td>\n",
       "      <td>0.0</td>\n",
       "      <td>0.0</td>\n",
       "      <td>1.0</td>\n",
       "    </tr>\n",
       "    <tr>\n",
       "      <th>restecg</th>\n",
       "      <td>177.0</td>\n",
       "      <td>0.892655</td>\n",
       "      <td>0.991327</td>\n",
       "      <td>0.0</td>\n",
       "      <td>0.0</td>\n",
       "      <td>0.0</td>\n",
       "      <td>2.0</td>\n",
       "      <td>2.0</td>\n",
       "    </tr>\n",
       "    <tr>\n",
       "      <th>thalach</th>\n",
       "      <td>177.0</td>\n",
       "      <td>157.073446</td>\n",
       "      <td>19.746410</td>\n",
       "      <td>96.0</td>\n",
       "      <td>146.0</td>\n",
       "      <td>160.0</td>\n",
       "      <td>172.0</td>\n",
       "      <td>202.0</td>\n",
       "    </tr>\n",
       "    <tr>\n",
       "      <th>exang</th>\n",
       "      <td>177.0</td>\n",
       "      <td>0.163842</td>\n",
       "      <td>0.371182</td>\n",
       "      <td>0.0</td>\n",
       "      <td>0.0</td>\n",
       "      <td>0.0</td>\n",
       "      <td>0.0</td>\n",
       "      <td>1.0</td>\n",
       "    </tr>\n",
       "    <tr>\n",
       "      <th>oldpeak</th>\n",
       "      <td>177.0</td>\n",
       "      <td>0.716949</td>\n",
       "      <td>0.953430</td>\n",
       "      <td>0.0</td>\n",
       "      <td>0.0</td>\n",
       "      <td>0.3</td>\n",
       "      <td>1.2</td>\n",
       "      <td>4.4</td>\n",
       "    </tr>\n",
       "    <tr>\n",
       "      <th>slope</th>\n",
       "      <td>177.0</td>\n",
       "      <td>1.457627</td>\n",
       "      <td>0.612058</td>\n",
       "      <td>1.0</td>\n",
       "      <td>1.0</td>\n",
       "      <td>1.0</td>\n",
       "      <td>2.0</td>\n",
       "      <td>3.0</td>\n",
       "    </tr>\n",
       "  </tbody>\n",
       "</table>\n",
       "</div>"
      ],
      "text/plain": [
       "          count        mean        std    min    25%    50%    75%    max\n",
       "age       177.0   53.107345   9.659240   29.0   45.0   53.0   60.0   77.0\n",
       "sex       177.0    0.581921   0.494643    0.0    0.0    1.0    1.0    1.0\n",
       "cp        177.0    2.858757   0.939865    1.0    2.0    3.0    4.0    4.0\n",
       "trestbps  177.0  129.949153  16.417587   94.0  120.0  130.0  140.0  180.0\n",
       "chol      177.0  243.429379  54.350994  126.0  209.0  234.0  269.0  564.0\n",
       "fbs       177.0    0.135593   0.343327    0.0    0.0    0.0    0.0    1.0\n",
       "restecg   177.0    0.892655   0.991327    0.0    0.0    0.0    2.0    2.0\n",
       "thalach   177.0  157.073446  19.746410   96.0  146.0  160.0  172.0  202.0\n",
       "exang     177.0    0.163842   0.371182    0.0    0.0    0.0    0.0    1.0\n",
       "oldpeak   177.0    0.716949   0.953430    0.0    0.0    0.3    1.2    4.4\n",
       "slope     177.0    1.457627   0.612058    1.0    1.0    1.0    2.0    3.0"
      ]
     },
     "execution_count": 5,
     "metadata": {},
     "output_type": "execute_result"
    }
   ],
   "source": [
    "clv.describe().T"
   ]
  },
  {
   "cell_type": "code",
   "execution_count": 6,
   "id": "f72117ae-d6df-477b-afb0-02c6de69ea23",
   "metadata": {
    "id": "f72117ae-d6df-477b-afb0-02c6de69ea23",
    "outputId": "7e978c2d-36c4-4a0f-a05c-2a3273006f50"
   },
   "outputs": [
    {
     "name": "stdout",
     "output_type": "stream",
     "text": [
      "Value counts: 0.0       133\n",
      "1.0        24\n",
      "2.0         9\n",
      "3.0         8\n",
      "<null>      3\n",
      "Name: ca, dtype: int64\n",
      "==============================\n",
      "Value counts: 3.0       131\n",
      "7.0        37\n",
      "6.0         8\n",
      "<null>      1\n",
      "Name: thal, dtype: int64\n",
      "==============================\n",
      "Value counts: negative    164\n",
      "positive     13\n",
      "Name: num, dtype: int64\n",
      "==============================\n"
     ]
    }
   ],
   "source": [
    "categorical = [col for col in clv.columns if clv[col].dtype=='O']\n",
    "for i in categorical:\n",
    "    print('Value counts:', clv[i].value_counts())\n",
    "    print('='*30)"
   ]
  },
  {
   "cell_type": "code",
   "execution_count": 7,
   "id": "a9184b40-f686-4e4f-b429-8bef29ac3ab9",
   "metadata": {
    "id": "a9184b40-f686-4e4f-b429-8bef29ac3ab9"
   },
   "outputs": [],
   "source": [
    "for col in categorical:\n",
    "    clv[col].replace({'<null>':clv[col].value_counts().idxmax()}, inplace=True)"
   ]
  },
  {
   "cell_type": "code",
   "execution_count": 8,
   "id": "9d844214-f502-4cd3-bae9-c405fa5e66a1",
   "metadata": {
    "id": "9d844214-f502-4cd3-bae9-c405fa5e66a1",
    "outputId": "cf75629d-b234-4556-8400-58c081258d58"
   },
   "outputs": [
    {
     "data": {
      "image/png": "[encoded data removed]",
      "text/plain": [
       "<Figure size 720x288 with 1 Axes>"
      ]
     },
     "metadata": {
      "needs_background": "light"
     },
     "output_type": "display_data"
    }
   ],
   "source": [
    "plt.figure(figsize=(10, 4))\n",
    "ax = sns.countplot(y='num',data=clv, palette='Blues')\n",
    "for p in ax.patches:\n",
    "    ax.annotate(int(p.get_width()),((p.get_x() + p.get_width()), p.get_y()), xytext=(20, -40), fontsize=11, color='black', textcoords='offset points',\n",
    "                horizontalalignment='right')"
   ]
  },
  {
   "cell_type": "code",
   "execution_count": 9,
   "id": "2ab91580-c71e-4409-802d-202700914f29",
   "metadata": {
    "id": "2ab91580-c71e-4409-802d-202700914f29"
   },
   "outputs": [],
   "source": [
    "X = clv.drop('num', axis=1)\n",
    "y = clv['num']"
   ]
  },
  {
   "cell_type": "code",
   "execution_count": 10,
   "id": "b14abff0-161d-4534-b7f8-866ace141a78",
   "metadata": {
    "id": "b14abff0-161d-4534-b7f8-866ace141a78"
   },
   "outputs": [],
   "source": [
    "X_train, X_test, y_train, y_test = train_test_split(X, y, test_size=0.20, random_state=42, stratify=y)"
   ]
  },
  {
   "cell_type": "code",
   "execution_count": 11,
   "id": "32ffabb6-fea3-4a21-bf5e-9bcf29e0b369",
   "metadata": {
    "id": "32ffabb6-fea3-4a21-bf5e-9bcf29e0b369"
   },
   "outputs": [],
   "source": [
    "log = LogisticRegression(max_iter=1000)\n",
    "log_model = log.fit(X_train, y_train)\n"
   ]
  },
  {
   "cell_type": "code",
   "execution_count": 12,
   "id": "2631f788-19dd-4620-8f08-dcfa4bb01c20",
   "metadata": {
    "id": "2631f788-19dd-4620-8f08-dcfa4bb01c20"
   },
   "outputs": [],
   "source": [
    "y_pred_test = log_model.predict(X_test)\n",
    "y_pred_train = log_model.predict(X_train)"
   ]
  },
  {
   "cell_type": "code",
   "execution_count": 13,
   "id": "d25f061c-3557-4697-b69d-8996d327db1c",
   "metadata": {
    "id": "d25f061c-3557-4697-b69d-8996d327db1c",
    "outputId": "9804bdf5-0119-477d-bfff-e152f75311d4"
   },
   "outputs": [
    {
     "name": "stdout",
     "output_type": "stream",
     "text": [
      "Train Accuracy: 0.9858156028368794\n",
      "Test Accuracy: 0.9444444444444444\n"
     ]
    }
   ],
   "source": [
    "print(\"Train Accuracy: {}\".format(log_model.score(X_train, y_train)))\n",
    "print(\"Test Accuracy: {}\".format(log_model.score(X_test, y_test)))"
   ]
  },
  {
   "cell_type": "markdown",
   "id": "d84f138d-1c39-40c8-8e2f-e4433b8df007",
   "metadata": {
    "id": "d84f138d-1c39-40c8-8e2f-e4433b8df007"
   },
   "source": [
    "#### Only 7.34% of the data points is classified as positive. Therefore, it can easily be said that the dataset is not balanced . We should change the performance measure metric of model . Because accuracy may be misleading. "
   ]
  },
  {
   "cell_type": "code",
   "execution_count": 14,
   "id": "89aa456d-5f61-424d-8d67-40e5ecd253ef",
   "metadata": {
    "id": "89aa456d-5f61-424d-8d67-40e5ecd253ef"
   },
   "outputs": [],
   "source": [
    "confusion_matrix_train = confusion_matrix(y_train, y_pred_train)\n",
    "confusion_matrix_test = confusion_matrix(y_test, y_pred_test)"
   ]
  },
  {
   "cell_type": "code",
   "execution_count": 15,
   "id": "de39fdd8-37a7-4bf3-8cb9-e0774e068f3a",
   "metadata": {
    "id": "de39fdd8-37a7-4bf3-8cb9-e0774e068f3a",
    "outputId": "1f914cf3-09df-4d80-f709-8cd738583ea0"
   },
   "outputs": [
    {
     "data": {
      "image/png": "[encoded data removed]",
      "text/plain": [
       "<Figure size 864x360 with 2 Axes>"
      ]
     },
     "metadata": {
      "needs_background": "light"
     },
     "output_type": "display_data"
    }
   ],
   "source": [
    "plt.figure(figsize=(12,5))\n",
    "plt.subplot(1,2,1)\n",
    "sns.heatmap(confusion_matrix_train,annot=True,fmt='d', cmap='Blues', cbar=False)\n",
    "plt.title('Confusion matrix train')  \n",
    "plt.xlabel(\"Predicted\")\n",
    "plt.ylabel(\"Actual\")\n",
    "\n",
    "plt.subplot(1,2,2)\n",
    "sns.heatmap(confusion_matrix_test,annot=True,fmt='d', cmap='Blues', cbar=False)\n",
    "plt.title('Confusion matrix test') \n",
    "plt.xlabel(\"Predicted\")\n",
    "plt.ylabel(\"Actual\")\n",
    "plt.show()"
   ]
  },
  {
   "cell_type": "markdown",
   "id": "e74d5eb3-5e21-4247-a5a9-0f259087f4d9",
   "metadata": {
    "id": "e74d5eb3-5e21-4247-a5a9-0f259087f4d9"
   },
   "source": [
    "#### 1 of 3 'positive' classes in the test set is misclassified ."
   ]
  },
  {
   "cell_type": "markdown",
   "id": "7b0fc516-9178-4101-a875-c99e5d7ea7da",
   "metadata": {
    "id": "7b0fc516-9178-4101-a875-c99e5d7ea7da"
   },
   "source": [
    "## Resampling Dataset"
   ]
  },
  {
   "cell_type": "code",
   "execution_count": 16,
   "id": "f0563fb8-1d09-4b8a-9c05-232191c1dca0",
   "metadata": {
    "id": "f0563fb8-1d09-4b8a-9c05-232191c1dca0"
   },
   "outputs": [],
   "source": [
    "def create_model(X, y):\n",
    "    X_train, X_test, y_train, y_test =  train_test_split(X, y, test_size=0.20, random_state=42, stratify = y)\n",
    "    \n",
    "    log = LogisticRegression(max_iter=1000)\n",
    "    log_model = log.fit(X_train, y_train)\n",
    "\n",
    "    y_pred_train = log_model.predict(X_train)\n",
    "    y_pred_test = log_model.predict(X_test)\n",
    "    \n",
    "    print(\"Accuracy : {}\\n\".format(log_model.score(X_test, y_test)))\n",
    "    \n",
    "    print(\"Train Dataset\")\n",
    "    print(classification_report(y_train, y_pred_train))\n",
    "    \n",
    "    print(\"Test Dataset\")\n",
    "    print(classification_report(y_test, y_pred_test))\n",
    "    \n",
    "    confusion_matrix_train = confusion_matrix(y_train, y_pred_train)\n",
    "    confusion_matrix_test = confusion_matrix(y_test, y_pred_test)\n",
    "    plt.figure(figsize=(12, 5))\n",
    "    plt.subplot(1, 2, 1)\n",
    "    sns.heatmap(confusion_matrix_train,annot=True,fmt='d',cmap='Blues', cbar=False)\n",
    "    plt.title('Confusion matrix train')  \n",
    "    plt.xlabel(\"Predicted\")\n",
    "    plt.ylabel(\"Actual\")\n",
    "    plt.subplot(1, 2, 2)\n",
    "    sns.heatmap(confusion_matrix_test,annot=True,fmt='d',cmap='Blues', cbar=False)\n",
    "    plt.title('Confusion matrix test') \n",
    "    plt.xlabel(\"Predicted\")\n",
    "    plt.ylabel(\"Actual\")\n",
    "    plt.show()"
   ]
  },
  {
   "cell_type": "markdown",
   "id": "0ee28950-d5a3-48dd-ae44-75bb9d1c8e2a",
   "metadata": {
    "id": "0ee28950-d5a3-48dd-ae44-75bb9d1c8e2a"
   },
   "source": [
    "### Up-Sampling"
   ]
  },
  {
   "cell_type": "code",
   "execution_count": 17,
   "id": "30d3d99c-f86a-472d-819b-703d36ace377",
   "metadata": {
    "id": "30d3d99c-f86a-472d-819b-703d36ace377",
    "outputId": "1c7623b9-5ef2-47cd-c95b-f6a34b341211"
   },
   "outputs": [
    {
     "data": {
      "text/plain": [
       "negative    164\n",
       "positive    164\n",
       "Name: num, dtype: int64"
      ]
     },
     "execution_count": 17,
     "metadata": {},
     "output_type": "execute_result"
    }
   ],
   "source": [
    "negative = clv[clv['num'] == 'negative']\n",
    "positive = clv[clv['num'] == 'positive']\n",
    "\n",
    "positive_upsampled = resample(positive,\n",
    "                              replace=True,\n",
    "                              n_samples=len(negative),\n",
    "                              random_state=42)\n",
    "\n",
    "upsampled_clv = pd.concat([negative, positive_upsampled])\n",
    "\n",
    "upsampled_clv['num'].value_counts()"
   ]
  },
  {
   "cell_type": "code",
   "execution_count": 18,
   "id": "5d291a3b-428f-41a3-8eac-8e4b5696ab95",
   "metadata": {
    "id": "5d291a3b-428f-41a3-8eac-8e4b5696ab95",
    "outputId": "393b4eab-bacf-4b52-de2a-92ec4613d557"
   },
   "outputs": [
    {
     "name": "stdout",
     "output_type": "stream",
     "text": [
      "Accuracy : 0.9848484848484849\n",
      "\n",
      "Train Dataset\n",
      "              precision    recall  f1-score   support\n",
      "\n",
      "    negative       1.00      0.97      0.98       131\n",
      "    positive       0.97      1.00      0.98       131\n",
      "\n",
      "    accuracy                           0.98       262\n",
      "   macro avg       0.99      0.98      0.98       262\n",
      "weighted avg       0.99      0.98      0.98       262\n",
      "\n",
      "Test Dataset\n",
      "              precision    recall  f1-score   support\n",
      "\n",
      "    negative       1.00      0.97      0.98        33\n",
      "    positive       0.97      1.00      0.99        33\n",
      "\n",
      "    accuracy                           0.98        66\n",
      "   macro avg       0.99      0.98      0.98        66\n",
      "weighted avg       0.99      0.98      0.98        66\n",
      "\n"
     ]
    },
    {
     "data": {
      "image/png": "[encoded data removed]",
      "text/plain": [
       "<Figure size 864x360 with 2 Axes>"
      ]
     },
     "metadata": {
      "needs_background": "light"
     },
     "output_type": "display_data"
    }
   ],
   "source": [
    "X = upsampled_clv.drop('num', axis=1)\n",
    "y = upsampled_clv['num']\n",
    "\n",
    "create_model(X, y)"
   ]
  },
  {
   "cell_type": "markdown",
   "id": "bfb3c095-6564-44d4-b8f2-3314aae751e5",
   "metadata": {
    "id": "bfb3c095-6564-44d4-b8f2-3314aae751e5"
   },
   "source": [
    "### Down-Sampling"
   ]
  },
  {
   "cell_type": "code",
   "execution_count": 19,
   "id": "a0e9a2f7-62c0-49f9-ad3c-c768bb99a301",
   "metadata": {
    "id": "a0e9a2f7-62c0-49f9-ad3c-c768bb99a301",
    "outputId": "def627f1-b290-4a97-e8c0-a18e04e859f2"
   },
   "outputs": [
    {
     "data": {
      "text/plain": [
       "negative    13\n",
       "positive    13\n",
       "Name: num, dtype: int64"
      ]
     },
     "execution_count": 19,
     "metadata": {},
     "output_type": "execute_result"
    }
   ],
   "source": [
    "negative_downsampled = resample(negative,\n",
    "                                replace=True,\n",
    "                                n_samples=len(positive),\n",
    "                                random_state=42)\n",
    "\n",
    "downsampled_clv = pd.concat([negative_downsampled, positive])\n",
    "\n",
    "downsampled_clv['num'].value_counts()"
   ]
  },
  {
   "cell_type": "code",
   "execution_count": 20,
   "id": "b8b19f76-a4aa-4786-93f4-391999b53f98",
   "metadata": {
    "id": "b8b19f76-a4aa-4786-93f4-391999b53f98",
    "outputId": "92ae9c75-3d86-4543-828c-b581f2ea9871"
   },
   "outputs": [
    {
     "name": "stdout",
     "output_type": "stream",
     "text": [
      "Accuracy : 0.6666666666666666\n",
      "\n",
      "Train Dataset\n",
      "              precision    recall  f1-score   support\n",
      "\n",
      "    negative       1.00      1.00      1.00        10\n",
      "    positive       1.00      1.00      1.00        10\n",
      "\n",
      "    accuracy                           1.00        20\n",
      "   macro avg       1.00      1.00      1.00        20\n",
      "weighted avg       1.00      1.00      1.00        20\n",
      "\n",
      "Test Dataset\n",
      "              precision    recall  f1-score   support\n",
      "\n",
      "    negative       0.60      1.00      0.75         3\n",
      "    positive       1.00      0.33      0.50         3\n",
      "\n",
      "    accuracy                           0.67         6\n",
      "   macro avg       0.80      0.67      0.62         6\n",
      "weighted avg       0.80      0.67      0.62         6\n",
      "\n"
     ]
    },
    {
     "data": {
      "image/png": "[encoded data removed]",
      "text/plain": [
       "<Figure size 864x360 with 2 Axes>"
      ]
     },
     "metadata": {
      "needs_background": "light"
     },
     "output_type": "display_data"
    }
   ],
   "source": [
    "X = downsampled_clv.drop('num', axis=1)\n",
    "y = downsampled_clv['num']\n",
    "\n",
    "create_model(X, y)"
   ]
  },
  {
   "cell_type": "markdown",
   "id": "d34058e1-2d15-4da7-8d51-2b32863dd09d",
   "metadata": {
    "id": "d34058e1-2d15-4da7-8d51-2b32863dd09d"
   },
   "source": [
    "#### Since we have less data, it failed more than the other method.2 of 3 'positive' classes in the test set is misclassified ."
   ]
  },
  {
   "cell_type": "markdown",
   "id": "16b6e497-ef23-4cc6-9de9-c1a2a3d04741",
   "metadata": {
    "id": "16b6e497-ef23-4cc6-9de9-c1a2a3d04741"
   },
   "source": [
    "## Producing Synthetic Samples\n"
   ]
  },
  {
   "cell_type": "markdown",
   "id": "e12965c5-8a47-4192-99e2-b98bca95f6e3",
   "metadata": {
    "id": "e12965c5-8a47-4192-99e2-b98bca95f6e3"
   },
   "source": [
    "### SMOTE"
   ]
  },
  {
   "cell_type": "code",
   "execution_count": 21,
   "id": "835e2aab-9950-4385-a9a7-f36dc023bff6",
   "metadata": {
    "id": "835e2aab-9950-4385-a9a7-f36dc023bff6"
   },
   "outputs": [],
   "source": [
    "X = clv.drop('num', axis=1)\n",
    "y = clv['num']\n",
    "\n",
    "sm = SMOTE(random_state=27, sampling_strategy=1.0)\n",
    "X_smote, y_smote = sm.fit_resample(X, y)"
   ]
  },
  {
   "cell_type": "code",
   "execution_count": 22,
   "id": "e72b4172-4123-45f5-9540-8f5a16eec7c7",
   "metadata": {
    "id": "e72b4172-4123-45f5-9540-8f5a16eec7c7",
    "outputId": "3251eeb6-9b99-4199-f65f-426f3b18a50a"
   },
   "outputs": [
    {
     "name": "stdout",
     "output_type": "stream",
     "text": [
      "Accuracy : 0.9848484848484849\n",
      "\n",
      "Train Dataset\n",
      "              precision    recall  f1-score   support\n",
      "\n",
      "    negative       1.00      0.98      0.99       131\n",
      "    positive       0.98      1.00      0.99       131\n",
      "\n",
      "    accuracy                           0.99       262\n",
      "   macro avg       0.99      0.99      0.99       262\n",
      "weighted avg       0.99      0.99      0.99       262\n",
      "\n",
      "Test Dataset\n",
      "              precision    recall  f1-score   support\n",
      "\n",
      "    negative       1.00      0.97      0.98        33\n",
      "    positive       0.97      1.00      0.99        33\n",
      "\n",
      "    accuracy                           0.98        66\n",
      "   macro avg       0.99      0.98      0.98        66\n",
      "weighted avg       0.99      0.98      0.98        66\n",
      "\n"
     ]
    },
    {
     "data": {
      "image/png": "[encoded data removed]",
      "text/plain": [
       "<Figure size 864x360 with 2 Axes>"
      ]
     },
     "metadata": {
      "needs_background": "light"
     },
     "output_type": "display_data"
    }
   ],
   "source": [
    "create_model(X_smote, y_smote)"
   ]
  },
  {
   "cell_type": "markdown",
   "id": "8f3360c9-a6fb-4e9d-9726-483dd38089ba",
   "metadata": {
    "id": "8f3360c9-a6fb-4e9d-9726-483dd38089ba"
   },
   "source": [
    "### ADASYN"
   ]
  },
  {
   "cell_type": "code",
   "execution_count": 23,
   "id": "d0752761-de91-4a16-8e87-76fc19106038",
   "metadata": {
    "id": "d0752761-de91-4a16-8e87-76fc19106038"
   },
   "outputs": [],
   "source": [
    "X = clv.drop('num', axis=1)\n",
    "y = clv['num']\n",
    "\n",
    "ad = ADASYN(random_state=27, sampling_strategy=1.0)\n",
    "X_adasyn, y_adasyn = ad.fit_resample(X, y)"
   ]
  },
  {
   "cell_type": "code",
   "execution_count": 24,
   "id": "5cf1315c-9682-4f20-99f7-4c870245ff16",
   "metadata": {
    "id": "5cf1315c-9682-4f20-99f7-4c870245ff16",
    "outputId": "e6395128-4377-4302-8571-76912fe5d622"
   },
   "outputs": [
    {
     "name": "stdout",
     "output_type": "stream",
     "text": [
      "Accuracy : 0.9848484848484849\n",
      "\n",
      "Train Dataset\n",
      "              precision    recall  f1-score   support\n",
      "\n",
      "    negative       1.00      0.98      0.99       131\n",
      "    positive       0.98      1.00      0.99       132\n",
      "\n",
      "    accuracy                           0.99       263\n",
      "   macro avg       0.99      0.99      0.99       263\n",
      "weighted avg       0.99      0.99      0.99       263\n",
      "\n",
      "Test Dataset\n",
      "              precision    recall  f1-score   support\n",
      "\n",
      "    negative       1.00      0.97      0.98        33\n",
      "    positive       0.97      1.00      0.99        33\n",
      "\n",
      "    accuracy                           0.98        66\n",
      "   macro avg       0.99      0.98      0.98        66\n",
      "weighted avg       0.99      0.98      0.98        66\n",
      "\n"
     ]
    },
    {
     "data": {
      "image/png": "[encoded data removed]",
      "text/plain": [
       "<Figure size 864x360 with 2 Axes>"
      ]
     },
     "metadata": {
      "needs_background": "light"
     },
     "output_type": "display_data"
    }
   ],
   "source": [
    "create_model(X_adasyn, y_adasyn)"
   ]
  },
  {
   "cell_type": "markdown",
   "id": "9c831a81-b94d-4d42-a1ad-0572b2ff1074",
   "metadata": {
    "id": "9c831a81-b94d-4d42-a1ad-0572b2ff1074"
   },
   "source": [
    "#### Producing Synthetic Samples methods gave best results."
   ]
  }
 ],
 "metadata": {
  "colab": {
   "name": "imbalanced-2.ipynb",
   "provenance": []
  },
  "kernelspec": {
   "display_name": "Python 3 (ipykernel)",
   "language": "python",
   "name": "python3"
  },
  "language_info": {
   "codemirror_mode": {
    "name": "ipython",
    "version": 3
   },
   "file_extension": ".py",
   "mimetype": "text/x-python",
   "name": "python",
   "nbconvert_exporter": "python",
   "pygments_lexer": "ipython3",
   "version": "3.8.2"
  }
 },
 "nbformat": 4,
 "nbformat_minor": 5
}
