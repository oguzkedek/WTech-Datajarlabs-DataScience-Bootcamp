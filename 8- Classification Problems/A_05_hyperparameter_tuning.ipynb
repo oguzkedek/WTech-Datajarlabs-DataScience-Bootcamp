{
 "cells": [
  {
   "cell_type": "markdown",
   "id": "11498222-8743-45b1-af62-bd02bd3ca225",
   "metadata": {
    "id": "11498222-8743-45b1-af62-bd02bd3ca225"
   },
   "source": [
    "In this assignment, you are going to measure the performance of the model you created with the Titanic dataset in the previous lesson. To complete this assignment, send a link to a Jupyter notebook containing solutions to the following tasks.\n",
    "\n",
    "   -  Evaluate your model's performance with cross validation and using different metrics.\n",
    "   -  Determine the model with the most appropriate parameters by hyperparameter tuning."
   ]
  },
  {
   "cell_type": "code",
   "execution_count": 1,
   "id": "e64d2693-c97b-40b2-9c35-318038d18b11",
   "metadata": {
    "id": "e64d2693-c97b-40b2-9c35-318038d18b11"
   },
   "outputs": [],
   "source": [
    "import numpy as np\n",
    "import pandas as pd\n",
    "\n",
    "from sklearn.model_selection import train_test_split\n",
    "from sklearn.linear_model import LogisticRegression\n",
    "\n",
    "from sklearn.metrics import accuracy_score, classification_report, confusion_matrix, mean_squared_error\n",
    "from sklearn.model_selection import cross_validate, cross_val_score\n",
    "\n",
    "from sklearn.model_selection import GridSearchCV\n",
    "from sklearn.model_selection import RandomizedSearchCV\n",
    "\n",
    "import warnings\n",
    "warnings.filterwarnings('ignore')\n",
    "\n",
    "import re"
   ]
  },
  {
   "cell_type": "code",
   "execution_count": 2,
   "id": "e601c2cc-0c30-4a2a-83a5-8a79bb45067f",
   "metadata": {
    "id": "e601c2cc-0c30-4a2a-83a5-8a79bb45067f",
    "outputId": "1c37ff3d-c8da-46c5-85ad-5095c5395a0c"
   },
   "outputs": [
    {
     "data": {
      "text/html": [
       "<div>\n",
       "<style scoped>\n",
       "    .dataframe tbody tr th:only-of-type {\n",
       "        vertical-align: middle;\n",
       "    }\n",
       "\n",
       "    .dataframe tbody tr th {\n",
       "        vertical-align: top;\n",
       "    }\n",
       "\n",
       "    .dataframe thead th {\n",
       "        text-align: right;\n",
       "    }\n",
       "</style>\n",
       "<table border=\"1\" class=\"dataframe\">\n",
       "  <thead>\n",
       "    <tr style=\"text-align: right;\">\n",
       "      <th></th>\n",
       "      <th>Survived</th>\n",
       "      <th>Pclass</th>\n",
       "      <th>Age</th>\n",
       "      <th>SibSp</th>\n",
       "      <th>Parch</th>\n",
       "      <th>Fare</th>\n",
       "      <th>Embarked_Q</th>\n",
       "      <th>Embarked_S</th>\n",
       "      <th>Sex_male</th>\n",
       "      <th>Title_Miss</th>\n",
       "      <th>Title_Mr</th>\n",
       "      <th>Title_Mrs</th>\n",
       "      <th>Title_Officer</th>\n",
       "      <th>Title_Royal</th>\n",
       "    </tr>\n",
       "  </thead>\n",
       "  <tbody>\n",
       "    <tr>\n",
       "      <th>0</th>\n",
       "      <td>0</td>\n",
       "      <td>3</td>\n",
       "      <td>22.0</td>\n",
       "      <td>1</td>\n",
       "      <td>0</td>\n",
       "      <td>7.2500</td>\n",
       "      <td>0</td>\n",
       "      <td>1</td>\n",
       "      <td>1</td>\n",
       "      <td>0</td>\n",
       "      <td>1</td>\n",
       "      <td>0</td>\n",
       "      <td>0</td>\n",
       "      <td>0</td>\n",
       "    </tr>\n",
       "    <tr>\n",
       "      <th>1</th>\n",
       "      <td>1</td>\n",
       "      <td>1</td>\n",
       "      <td>38.0</td>\n",
       "      <td>1</td>\n",
       "      <td>0</td>\n",
       "      <td>71.2833</td>\n",
       "      <td>0</td>\n",
       "      <td>0</td>\n",
       "      <td>0</td>\n",
       "      <td>0</td>\n",
       "      <td>0</td>\n",
       "      <td>1</td>\n",
       "      <td>0</td>\n",
       "      <td>0</td>\n",
       "    </tr>\n",
       "    <tr>\n",
       "      <th>2</th>\n",
       "      <td>1</td>\n",
       "      <td>3</td>\n",
       "      <td>26.0</td>\n",
       "      <td>0</td>\n",
       "      <td>0</td>\n",
       "      <td>7.9250</td>\n",
       "      <td>0</td>\n",
       "      <td>1</td>\n",
       "      <td>0</td>\n",
       "      <td>1</td>\n",
       "      <td>0</td>\n",
       "      <td>0</td>\n",
       "      <td>0</td>\n",
       "      <td>0</td>\n",
       "    </tr>\n",
       "    <tr>\n",
       "      <th>3</th>\n",
       "      <td>1</td>\n",
       "      <td>1</td>\n",
       "      <td>35.0</td>\n",
       "      <td>1</td>\n",
       "      <td>0</td>\n",
       "      <td>53.1000</td>\n",
       "      <td>0</td>\n",
       "      <td>1</td>\n",
       "      <td>0</td>\n",
       "      <td>0</td>\n",
       "      <td>0</td>\n",
       "      <td>1</td>\n",
       "      <td>0</td>\n",
       "      <td>0</td>\n",
       "    </tr>\n",
       "    <tr>\n",
       "      <th>4</th>\n",
       "      <td>0</td>\n",
       "      <td>3</td>\n",
       "      <td>35.0</td>\n",
       "      <td>0</td>\n",
       "      <td>0</td>\n",
       "      <td>8.0500</td>\n",
       "      <td>0</td>\n",
       "      <td>1</td>\n",
       "      <td>1</td>\n",
       "      <td>0</td>\n",
       "      <td>1</td>\n",
       "      <td>0</td>\n",
       "      <td>0</td>\n",
       "      <td>0</td>\n",
       "    </tr>\n",
       "  </tbody>\n",
       "</table>\n",
       "</div>"
      ],
      "text/plain": [
       "   Survived  Pclass   Age  SibSp  Parch     Fare  Embarked_Q  Embarked_S  \\\n",
       "0         0       3  22.0      1      0   7.2500           0           1   \n",
       "1         1       1  38.0      1      0  71.2833           0           0   \n",
       "2         1       3  26.0      0      0   7.9250           0           1   \n",
       "3         1       1  35.0      1      0  53.1000           0           1   \n",
       "4         0       3  35.0      0      0   8.0500           0           1   \n",
       "\n",
       "   Sex_male  Title_Miss  Title_Mr  Title_Mrs  Title_Officer  Title_Royal  \n",
       "0         1           0         1          0              0            0  \n",
       "1         0           0         0          1              0            0  \n",
       "2         0           1         0          0              0            0  \n",
       "3         0           0         0          1              0            0  \n",
       "4         1           0         1          0              0            0  "
      ]
     },
     "execution_count": 2,
     "metadata": {},
     "output_type": "execute_result"
    }
   ],
   "source": [
    "df = pd.read_csv('titanic_final.csv', index_col=0)\n",
    "\n",
    "df.head()"
   ]
  },
  {
   "cell_type": "code",
   "execution_count": 3,
   "id": "3e0c76dc-b242-457d-a3a8-52961393a5f2",
   "metadata": {
    "id": "3e0c76dc-b242-457d-a3a8-52961393a5f2",
    "outputId": "838fef7d-2892-4486-8968-d22ecd15abb9"
   },
   "outputs": [
    {
     "name": "stdout",
     "output_type": "stream",
     "text": [
      "<class 'pandas.core.frame.DataFrame'>\n",
      "Int64Index: 891 entries, 0 to 890\n",
      "Data columns (total 14 columns):\n",
      " #   Column         Non-Null Count  Dtype  \n",
      "---  ------         --------------  -----  \n",
      " 0   Survived       891 non-null    int64  \n",
      " 1   Pclass         891 non-null    int64  \n",
      " 2   Age            891 non-null    float64\n",
      " 3   SibSp          891 non-null    int64  \n",
      " 4   Parch          891 non-null    int64  \n",
      " 5   Fare           891 non-null    float64\n",
      " 6   Embarked_Q     891 non-null    int64  \n",
      " 7   Embarked_S     891 non-null    int64  \n",
      " 8   Sex_male       891 non-null    int64  \n",
      " 9   Title_Miss     891 non-null    int64  \n",
      " 10  Title_Mr       891 non-null    int64  \n",
      " 11  Title_Mrs      891 non-null    int64  \n",
      " 12  Title_Officer  891 non-null    int64  \n",
      " 13  Title_Royal    891 non-null    int64  \n",
      "dtypes: float64(2), int64(12)\n",
      "memory usage: 104.4 KB\n"
     ]
    }
   ],
   "source": [
    "df.info()"
   ]
  },
  {
   "cell_type": "code",
   "execution_count": 4,
   "id": "0edcbb00-f8dd-4cfb-af31-f1e57f613bfd",
   "metadata": {
    "id": "0edcbb00-f8dd-4cfb-af31-f1e57f613bfd"
   },
   "outputs": [],
   "source": [
    "X = df.drop('Survived', axis=1)\n",
    "y = df['Survived']"
   ]
  },
  {
   "cell_type": "code",
   "execution_count": 5,
   "id": "75cb97c9-1031-42bf-bd46-3f71b1edc56f",
   "metadata": {
    "id": "75cb97c9-1031-42bf-bd46-3f71b1edc56f"
   },
   "outputs": [],
   "source": [
    "X_train, X_test, y_train, y_test =  train_test_split(X, y, test_size=0.3, random_state=42)"
   ]
  },
  {
   "cell_type": "code",
   "execution_count": 6,
   "id": "8a3df53c-404e-4d3b-bbdf-dde950d567f7",
   "metadata": {
    "id": "8a3df53c-404e-4d3b-bbdf-dde950d567f7"
   },
   "outputs": [],
   "source": [
    "log = LogisticRegression(max_iter=1000, C=10000, solver = 'newton-cg')\n",
    "log_model = log.fit(X_train, y_train)"
   ]
  },
  {
   "cell_type": "code",
   "execution_count": 7,
   "id": "c6212924-e852-46f8-9429-0e8870d06b67",
   "metadata": {
    "id": "c6212924-e852-46f8-9429-0e8870d06b67"
   },
   "outputs": [],
   "source": [
    "y_pred_test = log_model.predict(X_test)\n",
    "y_pred_train = log_model.predict(X_train)"
   ]
  },
  {
   "cell_type": "code",
   "execution_count": 8,
   "id": "96615533-ef64-4382-a511-c6e0a3330b4d",
   "metadata": {
    "id": "96615533-ef64-4382-a511-c6e0a3330b4d",
    "outputId": "90d525af-10c0-48b2-9ea1-129ec25eb731"
   },
   "outputs": [
    {
     "name": "stdout",
     "output_type": "stream",
     "text": [
      "Accuracy score : 0.8283582089552238\n"
     ]
    }
   ],
   "source": [
    "print('Accuracy score :',log_model.score(X_test, y_test))"
   ]
  },
  {
   "cell_type": "markdown",
   "id": "606210f2-077b-4ceb-976e-5bbea7e32c51",
   "metadata": {
    "id": "606210f2-077b-4ceb-976e-5bbea7e32c51"
   },
   "source": [
    "### Cross Validation"
   ]
  },
  {
   "cell_type": "markdown",
   "id": "d104ce09-76eb-44f2-8166-8f5d0fd741d2",
   "metadata": {
    "id": "d104ce09-76eb-44f2-8166-8f5d0fd741d2"
   },
   "source": [
    "##### We have 10 different training and test sets. "
   ]
  },
  {
   "cell_type": "code",
   "execution_count": 9,
   "id": "186f1c55-8fe6-4a88-9cf7-df513db08719",
   "metadata": {
    "id": "186f1c55-8fe6-4a88-9cf7-df513db08719",
    "outputId": "657d10ec-0ded-46de-ae2f-27e4def7571a"
   },
   "outputs": [
    {
     "name": "stdout",
     "output_type": "stream",
     "text": [
      "Train Set Mean Accuracy  : 0.83  \n",
      "Train Set Mean Recall    : 0.75  \n",
      "Train Set Mean Precision : 0.80\n",
      "\n",
      "Test Set Mean Accuracy   : 0.83  \n",
      "Test Set Mean Precision  : 0.80  \n",
      "Test Set Mean Recall     : 0.75  \n"
     ]
    }
   ],
   "source": [
    "log = LogisticRegression(max_iter=1000)\n",
    "\n",
    "cv = cross_validate(estimator=log,\n",
    "                    X=X,\n",
    "                    y=y,\n",
    "                    cv=10,\n",
    "                    return_train_score=True,\n",
    "                    scoring = ['accuracy', 'precision', 'recall']\n",
    "                   )\n",
    "\n",
    "print('Train Set Mean Accuracy  : {:.2f}  '.format(cv['train_accuracy'].mean()))\n",
    "print('Train Set Mean Recall    : {:.2f}  '.format(cv['train_recall'].mean()))\n",
    "print('Train Set Mean Precision : {:.2f}\\n'.format(cv['train_precision'].mean()))\n",
    "\n",
    "print('Test Set Mean Accuracy   : {:.2f}  '.format(cv['test_accuracy'].mean()))\n",
    "print('Test Set Mean Precision  : {:.2f}  '.format(cv['test_precision'].mean()))\n",
    "print('Test Set Mean Recall     : {:.2f}  '.format(cv['test_recall'].mean()))"
   ]
  },
  {
   "cell_type": "code",
   "execution_count": 10,
   "id": "085cb85d-b658-4ef3-825b-0b9c8c731128",
   "metadata": {
    "id": "085cb85d-b658-4ef3-825b-0b9c8c731128",
    "outputId": "233e44ae-3756-40d3-d1ad-ba73590c6bb3"
   },
   "outputs": [
    {
     "name": "stdout",
     "output_type": "stream",
     "text": [
      "Model Scores : \n",
      " [0.82222222 0.84269663 0.7752809  0.87640449 0.82022472 0.78651685\n",
      " 0.80898876 0.82022472 0.86516854 0.86516854]\n"
     ]
    }
   ],
   "source": [
    "cv = cross_val_score(estimator=log,\n",
    "                     X=X,\n",
    "                     y=y,\n",
    "                     cv=10,\n",
    "                    )\n",
    "\n",
    "print('Model Scores : \\n', cv)"
   ]
  },
  {
   "cell_type": "markdown",
   "id": "8c2627f2-2af1-4cab-87d2-be527a2d1210",
   "metadata": {
    "id": "8c2627f2-2af1-4cab-87d2-be527a2d1210"
   },
   "source": [
    "## Hyperparameter Tuning"
   ]
  },
  {
   "cell_type": "markdown",
   "id": "88a8e6c8-4183-4438-8720-f72a6352b032",
   "metadata": {
    "id": "88a8e6c8-4183-4438-8720-f72a6352b032"
   },
   "source": [
    "### GridSearch"
   ]
  },
  {
   "cell_type": "code",
   "execution_count": 11,
   "id": "7f04334e-b35a-4acd-a334-15fb872e8226",
   "metadata": {
    "id": "7f04334e-b35a-4acd-a334-15fb872e8226"
   },
   "outputs": [],
   "source": [
    "params = {\"C\": [10 ** x for x in range (-5, 5, 1)],\n",
    "              \"penalty\": ['l1', 'l2']\n",
    "             }"
   ]
  },
  {
   "cell_type": "code",
   "execution_count": 12,
   "id": "ffe0443c-f154-4bfa-b06d-23db2bd48fb9",
   "metadata": {
    "id": "ffe0443c-f154-4bfa-b06d-23db2bd48fb9"
   },
   "outputs": [],
   "source": [
    "grid_cv = GridSearchCV(estimator=log,\n",
    "                       param_grid=params,\n",
    "                       cv=10\n",
    "                      ).fit(X,y)"
   ]
  },
  {
   "cell_type": "code",
   "execution_count": 13,
   "id": "62c3e20f-b4f6-4d52-bb96-4c4a2bc2d87c",
   "metadata": {
    "id": "62c3e20f-b4f6-4d52-bb96-4c4a2bc2d87c",
    "outputId": "38fd0522-4200-4dc8-e5d1-4aab15a5d4ed"
   },
   "outputs": [
    {
     "name": "stdout",
     "output_type": "stream",
     "text": [
      "Best Parameters :  {'C': 10, 'penalty': 'l2'}\n",
      "Best Score      :  0.8305493133583022\n"
     ]
    }
   ],
   "source": [
    "print(\"Best Parameters : \", grid_cv.best_params_)\n",
    "print(\"Best Score      : \", grid_cv.best_score_)"
   ]
  },
  {
   "cell_type": "code",
   "execution_count": 14,
   "id": "72a2eebe-b89e-477b-8611-edc92aa0fc70",
   "metadata": {
    "id": "72a2eebe-b89e-477b-8611-edc92aa0fc70",
    "outputId": "93b3c2bd-cd55-49de-8788-cdd904616da5"
   },
   "outputs": [
    {
     "data": {
      "text/html": [
       "<div>\n",
       "<style scoped>\n",
       "    .dataframe tbody tr th:only-of-type {\n",
       "        vertical-align: middle;\n",
       "    }\n",
       "\n",
       "    .dataframe tbody tr th {\n",
       "        vertical-align: top;\n",
       "    }\n",
       "\n",
       "    .dataframe thead th {\n",
       "        text-align: right;\n",
       "    }\n",
       "</style>\n",
       "<table border=\"1\" class=\"dataframe\">\n",
       "  <thead>\n",
       "    <tr style=\"text-align: right;\">\n",
       "      <th></th>\n",
       "      <th>mean_fit_time</th>\n",
       "      <th>std_fit_time</th>\n",
       "      <th>mean_score_time</th>\n",
       "      <th>std_score_time</th>\n",
       "      <th>param_C</th>\n",
       "      <th>param_penalty</th>\n",
       "    </tr>\n",
       "  </thead>\n",
       "  <tbody>\n",
       "    <tr>\n",
       "      <th>0</th>\n",
       "      <td>0.000645</td>\n",
       "      <td>0.000199</td>\n",
       "      <td>0.000000</td>\n",
       "      <td>0.000000</td>\n",
       "      <td>0.00001</td>\n",
       "      <td>l1</td>\n",
       "    </tr>\n",
       "    <tr>\n",
       "      <th>1</th>\n",
       "      <td>0.007551</td>\n",
       "      <td>0.001094</td>\n",
       "      <td>0.001521</td>\n",
       "      <td>0.000221</td>\n",
       "      <td>0.00001</td>\n",
       "      <td>l2</td>\n",
       "    </tr>\n",
       "    <tr>\n",
       "      <th>2</th>\n",
       "      <td>0.000419</td>\n",
       "      <td>0.000056</td>\n",
       "      <td>0.000000</td>\n",
       "      <td>0.000000</td>\n",
       "      <td>0.0001</td>\n",
       "      <td>l1</td>\n",
       "    </tr>\n",
       "    <tr>\n",
       "      <th>3</th>\n",
       "      <td>0.008093</td>\n",
       "      <td>0.000755</td>\n",
       "      <td>0.001434</td>\n",
       "      <td>0.000107</td>\n",
       "      <td>0.0001</td>\n",
       "      <td>l2</td>\n",
       "    </tr>\n",
       "    <tr>\n",
       "      <th>4</th>\n",
       "      <td>0.000396</td>\n",
       "      <td>0.000035</td>\n",
       "      <td>0.000000</td>\n",
       "      <td>0.000000</td>\n",
       "      <td>0.001</td>\n",
       "      <td>l1</td>\n",
       "    </tr>\n",
       "  </tbody>\n",
       "</table>\n",
       "</div>"
      ],
      "text/plain": [
       "   mean_fit_time  std_fit_time  mean_score_time  std_score_time  param_C  \\\n",
       "0       0.000645      0.000199         0.000000        0.000000  0.00001   \n",
       "1       0.007551      0.001094         0.001521        0.000221  0.00001   \n",
       "2       0.000419      0.000056         0.000000        0.000000   0.0001   \n",
       "3       0.008093      0.000755         0.001434        0.000107   0.0001   \n",
       "4       0.000396      0.000035         0.000000        0.000000    0.001   \n",
       "\n",
       "  param_penalty  \n",
       "0            l1  \n",
       "1            l2  \n",
       "2            l1  \n",
       "3            l2  \n",
       "4            l1  "
      ]
     },
     "metadata": {},
     "output_type": "display_data"
    }
   ],
   "source": [
    "results = grid_cv.cv_results_\n",
    "\n",
    "df = pd.DataFrame(results)\n",
    "display(df.head().iloc[:,:6])"
   ]
  },
  {
   "cell_type": "code",
   "execution_count": 15,
   "id": "afb77480-7e2e-4f03-879a-cce2d5bfd56b",
   "metadata": {
    "id": "afb77480-7e2e-4f03-879a-cce2d5bfd56b",
    "outputId": "451974a0-2bee-40b6-d830-f4e81c9e6ef1"
   },
   "outputs": [
    {
     "data": {
      "text/plain": [
       "Index(['mean_fit_time', 'std_fit_time', 'mean_score_time', 'std_score_time',\n",
       "       'param_C', 'param_penalty', 'params', 'split0_test_score',\n",
       "       'split1_test_score', 'split2_test_score', 'split3_test_score',\n",
       "       'split4_test_score', 'split5_test_score', 'split6_test_score',\n",
       "       'split7_test_score', 'split8_test_score', 'split9_test_score',\n",
       "       'mean_test_score', 'std_test_score', 'rank_test_score'],\n",
       "      dtype='object')"
      ]
     },
     "execution_count": 15,
     "metadata": {},
     "output_type": "execute_result"
    }
   ],
   "source": [
    "df.columns"
   ]
  },
  {
   "cell_type": "code",
   "execution_count": 16,
   "id": "f7cb3e95-f0c9-4d08-a7a3-976a022c4d5a",
   "metadata": {
    "id": "f7cb3e95-f0c9-4d08-a7a3-976a022c4d5a",
    "outputId": "4fc3dceb-4d07-46eb-abb9-095c69f7430d"
   },
   "outputs": [
    {
     "data": {
      "text/html": [
       "<div>\n",
       "<style scoped>\n",
       "    .dataframe tbody tr th:only-of-type {\n",
       "        vertical-align: middle;\n",
       "    }\n",
       "\n",
       "    .dataframe tbody tr th {\n",
       "        vertical-align: top;\n",
       "    }\n",
       "\n",
       "    .dataframe thead th {\n",
       "        text-align: right;\n",
       "    }\n",
       "</style>\n",
       "<table border=\"1\" class=\"dataframe\">\n",
       "  <thead>\n",
       "    <tr style=\"text-align: right;\">\n",
       "      <th></th>\n",
       "      <th>param_penalty</th>\n",
       "      <th>param_C</th>\n",
       "      <th>mean_test_score</th>\n",
       "    </tr>\n",
       "  </thead>\n",
       "  <tbody>\n",
       "    <tr>\n",
       "      <th>13</th>\n",
       "      <td>l2</td>\n",
       "      <td>10</td>\n",
       "      <td>0.830549</td>\n",
       "    </tr>\n",
       "    <tr>\n",
       "      <th>15</th>\n",
       "      <td>l2</td>\n",
       "      <td>100</td>\n",
       "      <td>0.828315</td>\n",
       "    </tr>\n",
       "    <tr>\n",
       "      <th>11</th>\n",
       "      <td>l2</td>\n",
       "      <td>1</td>\n",
       "      <td>0.828290</td>\n",
       "    </tr>\n",
       "    <tr>\n",
       "      <th>17</th>\n",
       "      <td>l2</td>\n",
       "      <td>1000</td>\n",
       "      <td>0.827191</td>\n",
       "    </tr>\n",
       "    <tr>\n",
       "      <th>19</th>\n",
       "      <td>l2</td>\n",
       "      <td>10000</td>\n",
       "      <td>0.827191</td>\n",
       "    </tr>\n",
       "    <tr>\n",
       "      <th>9</th>\n",
       "      <td>l2</td>\n",
       "      <td>0.1</td>\n",
       "      <td>0.817079</td>\n",
       "    </tr>\n",
       "    <tr>\n",
       "      <th>7</th>\n",
       "      <td>l2</td>\n",
       "      <td>0.01</td>\n",
       "      <td>0.800262</td>\n",
       "    </tr>\n",
       "    <tr>\n",
       "      <th>5</th>\n",
       "      <td>l2</td>\n",
       "      <td>0.001</td>\n",
       "      <td>0.682422</td>\n",
       "    </tr>\n",
       "    <tr>\n",
       "      <th>3</th>\n",
       "      <td>l2</td>\n",
       "      <td>0.0001</td>\n",
       "      <td>0.662247</td>\n",
       "    </tr>\n",
       "    <tr>\n",
       "      <th>1</th>\n",
       "      <td>l2</td>\n",
       "      <td>0.00001</td>\n",
       "      <td>0.656642</td>\n",
       "    </tr>\n",
       "  </tbody>\n",
       "</table>\n",
       "</div>"
      ],
      "text/plain": [
       "   param_penalty  param_C  mean_test_score\n",
       "13            l2       10         0.830549\n",
       "15            l2      100         0.828315\n",
       "11            l2        1         0.828290\n",
       "17            l2     1000         0.827191\n",
       "19            l2    10000         0.827191\n",
       "9             l2      0.1         0.817079\n",
       "7             l2     0.01         0.800262\n",
       "5             l2    0.001         0.682422\n",
       "3             l2   0.0001         0.662247\n",
       "1             l2  0.00001         0.656642"
      ]
     },
     "execution_count": 16,
     "metadata": {},
     "output_type": "execute_result"
    }
   ],
   "source": [
    "df = df[['param_penalty','param_C', 'mean_test_score']]\n",
    "df = df.sort_values(by='mean_test_score', ascending = False)\n",
    "df[:10]"
   ]
  },
  {
   "cell_type": "markdown",
   "id": "c409ccc8-d2d7-46f7-961e-3fc757cbb7f3",
   "metadata": {
    "id": "c409ccc8-d2d7-46f7-961e-3fc757cbb7f3"
   },
   "source": [
    "### Random Search "
   ]
  },
  {
   "cell_type": "code",
   "execution_count": 17,
   "id": "bdc1d572-ee6a-4503-876c-894984b20bd4",
   "metadata": {
    "id": "bdc1d572-ee6a-4503-876c-894984b20bd4"
   },
   "outputs": [],
   "source": [
    "params = {\"C\": [10 ** x for x in range (-5, 5, 1)],\n",
    "              \"penalty\": ['l1', 'l2']\n",
    "             }"
   ]
  },
  {
   "cell_type": "code",
   "execution_count": 18,
   "id": "af7437a9-b446-4fa9-90eb-788f190e7b34",
   "metadata": {
    "id": "af7437a9-b446-4fa9-90eb-788f190e7b34",
    "outputId": "42832a1a-69fc-4602-d755-049e06ed4eed"
   },
   "outputs": [
    {
     "data": {
      "text/plain": [
       "RandomizedSearchCV(cv=10, estimator=LogisticRegression(max_iter=1000),\n",
       "                   param_distributions={'C': [1e-05, 0.0001, 0.001, 0.01, 0.1,\n",
       "                                              1, 10, 100, 1000, 10000],\n",
       "                                        'penalty': ['l1', 'l2']},\n",
       "                   random_state=42, scoring='precision')"
      ]
     },
     "execution_count": 18,
     "metadata": {},
     "output_type": "execute_result"
    }
   ],
   "source": [
    "rs_cv = RandomizedSearchCV(estimator=log,\n",
    "                           param_distributions=params,\n",
    "                           cv=10,\n",
    "                           n_iter=10,\n",
    "                           random_state=42,\n",
    "                           scoring='precision'\n",
    "                      )\n",
    "\n",
    "rs_cv.fit(X, y)"
   ]
  },
  {
   "cell_type": "code",
   "execution_count": 19,
   "id": "8d2a5de1-9384-432b-b8e1-7a09a90f8b46",
   "metadata": {
    "id": "8d2a5de1-9384-432b-b8e1-7a09a90f8b46",
    "outputId": "558d7534-910e-4e67-b33b-2596aec3f87f"
   },
   "outputs": [
    {
     "name": "stdout",
     "output_type": "stream",
     "text": [
      "Best parameters      :  {'penalty': 'l2', 'C': 1} \n",
      "\n",
      "All precision values :  [       nan 0.79218561 0.79304583 0.7052381         nan 0.72873822\n",
      " 0.79592061 0.66405559        nan        nan] \n",
      "\n",
      "Best precision value :  0.7959206113834063\n"
     ]
    }
   ],
   "source": [
    "print(\"Best parameters      : \", rs_cv.best_params_, \"\\n\")\n",
    "print(\"All precision values : \", rs_cv.cv_results_['mean_test_score'], \"\\n\")\n",
    "print(\"Best precision value : \", rs_cv.best_score_)"
   ]
  },
  {
   "cell_type": "code",
   "execution_count": 20,
   "id": "88978165-d827-45d2-b5e3-d686064abc87",
   "metadata": {
    "id": "88978165-d827-45d2-b5e3-d686064abc87",
    "outputId": "0aee07de-b45a-43b6-9da8-feed8a3dc32d"
   },
   "outputs": [
    {
     "data": {
      "text/html": [
       "<div>\n",
       "<style scoped>\n",
       "    .dataframe tbody tr th:only-of-type {\n",
       "        vertical-align: middle;\n",
       "    }\n",
       "\n",
       "    .dataframe tbody tr th {\n",
       "        vertical-align: top;\n",
       "    }\n",
       "\n",
       "    .dataframe thead th {\n",
       "        text-align: right;\n",
       "    }\n",
       "</style>\n",
       "<table border=\"1\" class=\"dataframe\">\n",
       "  <thead>\n",
       "    <tr style=\"text-align: right;\">\n",
       "      <th></th>\n",
       "      <th>param_penalty</th>\n",
       "      <th>param_C</th>\n",
       "      <th>mean_test_score</th>\n",
       "    </tr>\n",
       "  </thead>\n",
       "  <tbody>\n",
       "    <tr>\n",
       "      <th>6</th>\n",
       "      <td>l2</td>\n",
       "      <td>1</td>\n",
       "      <td>0.795921</td>\n",
       "    </tr>\n",
       "    <tr>\n",
       "      <th>2</th>\n",
       "      <td>l2</td>\n",
       "      <td>100</td>\n",
       "      <td>0.793046</td>\n",
       "    </tr>\n",
       "    <tr>\n",
       "      <th>1</th>\n",
       "      <td>l2</td>\n",
       "      <td>1000</td>\n",
       "      <td>0.792186</td>\n",
       "    </tr>\n",
       "    <tr>\n",
       "      <th>5</th>\n",
       "      <td>l2</td>\n",
       "      <td>0.001</td>\n",
       "      <td>0.728738</td>\n",
       "    </tr>\n",
       "    <tr>\n",
       "      <th>3</th>\n",
       "      <td>l2</td>\n",
       "      <td>0.00001</td>\n",
       "      <td>0.705238</td>\n",
       "    </tr>\n",
       "  </tbody>\n",
       "</table>\n",
       "</div>"
      ],
      "text/plain": [
       "  param_penalty  param_C  mean_test_score\n",
       "6            l2        1         0.795921\n",
       "2            l2      100         0.793046\n",
       "1            l2     1000         0.792186\n",
       "5            l2    0.001         0.728738\n",
       "3            l2  0.00001         0.705238"
      ]
     },
     "execution_count": 20,
     "metadata": {},
     "output_type": "execute_result"
    }
   ],
   "source": [
    "results_rs = rs_cv.cv_results_\n",
    "\n",
    "df_rs = pd.DataFrame(results_rs)\n",
    "df_rs = df_rs[['param_penalty','param_C', 'mean_test_score']]\n",
    "df_rs = df_rs.sort_values(by='mean_test_score', ascending = False)\n",
    "\n",
    "df_rs[:5]"
   ]
  }
 ],
 "metadata": {
  "colab": {
   "collapsed_sections": [
    "606210f2-077b-4ceb-976e-5bbea7e32c51",
    "88a8e6c8-4183-4438-8720-f72a6352b032"
   ],
   "name": "Titanic_opti.ipynb",
   "provenance": []
  },
  "kernelspec": {
   "display_name": "Python 3 (ipykernel)",
   "language": "python",
   "name": "python3"
  },
  "language_info": {
   "codemirror_mode": {
    "name": "ipython",
    "version": 3
   },
   "file_extension": ".py",
   "mimetype": "text/x-python",
   "name": "python",
   "nbconvert_exporter": "python",
   "pygments_lexer": "ipython3",
   "version": "3.8.2"
  }
 },
 "nbformat": 4,
 "nbformat_minor": 5
}
