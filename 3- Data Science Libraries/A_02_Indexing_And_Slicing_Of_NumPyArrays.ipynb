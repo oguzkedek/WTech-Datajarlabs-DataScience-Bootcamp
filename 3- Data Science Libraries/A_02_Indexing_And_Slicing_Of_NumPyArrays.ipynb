{
 "cells": [
  {
   "cell_type": "markdown",
   "metadata": {
    "id": "4YAWoqArSjVH"
   },
   "source": [
    "For the assignment, you are going to use [Earthquakes](https://bootrain-lms-assets.s3.eu-central-1.amazonaws.com/bootrain-lms-static/datasets/Earthquakes.csv) dataset."
   ]
  },
  {
   "cell_type": "markdown",
   "metadata": {
    "id": "O0JAdwf0SjVN"
   },
   "source": [
    "**(1)** Load the Earthquakes dataset. Export the dataset to an array as you covered in the previous lesson."
   ]
  },
  {
   "cell_type": "code",
   "execution_count": 1,
   "metadata": {
    "id": "NA-_akpRSjVO"
   },
   "outputs": [],
   "source": [
    "import numpy as np \n",
    "np.set_printoptions(suppress=True)"
   ]
  },
  {
   "cell_type": "code",
   "execution_count": 2,
   "metadata": {
    "colab": {
     "base_uri": "https://localhost:8080/"
    },
    "id": "HgjnPJKfivNl",
    "outputId": "f5b42215-8c1b-4f2d-f9fa-a793b1654f6d"
   },
   "outputs": [
    {
     "name": "stdout",
     "output_type": "stream",
     "text": [
      "[[   0.     0.     0.  ...    4.     7.     0. ]\n",
      " [   1.     0.     0.  ...    4.1    7.     0. ]\n",
      " [   2.     0.     0.  ...    4.4    7.     0. ]\n",
      " ...\n",
      " [6571.     4.     0.  ...    4.8    2.     0. ]\n",
      " [6572.     3.     0.  ...    5.2    2.     0. ]\n",
      " [6573.     2.     0.  ...    4.4    2.     0. ]]\n"
     ]
    }
   ],
   "source": [
    "earthquakes = np.loadtxt('Earthquakes.csv', delimiter=',')\n",
    "print(earthquakes)\n"
   ]
  },
  {
   "cell_type": "markdown",
   "metadata": {
    "id": "RMXOWGHASjVO"
   },
   "source": [
    "**(2)** Slice first 20 rows and column numbers 3, 5, 6, 7, 12. Then, assign the array you sliced to a variable."
   ]
  },
  {
   "cell_type": "code",
   "execution_count": 3,
   "metadata": {
    "colab": {
     "base_uri": "https://localhost:8080/"
    },
    "id": "1CQ6Ffp0SjVO",
    "outputId": "edf23bf2-e653-4c55-cebb-05b66e6e04bd"
   },
   "outputs": [
    {
     "name": "stdout",
     "output_type": "stream",
     "text": [
      "[[ 0.     36.8578 44.4161 16.97    4.    ]\n",
      " [ 0.     37.4341 35.852   7.02    4.1   ]\n",
      " [ 0.     37.6878 37.4016 10.27    4.4   ]\n",
      " [ 0.     37.2003 30.4376 78.07    4.    ]\n",
      " [ 0.     35.6846 26.7266 42.77    4.5   ]\n",
      " [ 0.     36.4171 28.6991 14.86    4.1   ]\n",
      " [ 0.     36.0535 31.2135 36.68    5.2   ]\n",
      " [ 0.     37.1958 30.6241 50.33    4.8   ]\n",
      " [ 0.     36.9653 27.7633  6.93    4.3   ]\n",
      " [ 0.     38.893  26.4483 11.62    4.2   ]\n",
      " [ 0.     37.3773 36.3855 10.53    4.8   ]\n",
      " [ 0.     35.8861 26.0695 28.49    4.9   ]\n",
      " [ 0.     37.4635 36.3113 15.29    4.3   ]\n",
      " [ 0.     37.0201 36.0845 10.      4.1   ]\n",
      " [ 0.     37.6546 26.6698  4.5     4.5   ]\n",
      " [ 0.     37.5318 29.848  17.58    4.6   ]\n",
      " [ 0.     39.0388 44.1533  7.52    4.5   ]\n",
      " [ 0.     38.357  44.8686 10.05    4.1   ]\n",
      " [ 0.     35.7018 28.1495  6.25    4.1   ]\n",
      " [ 0.     37.6883 37.3968 10.63    4.1   ]]\n"
     ]
    }
   ],
   "source": [
    "columns = [3, 5, 6, 7, 12]\n",
    "sliced = earthquakes[:20, columns]\n",
    "print(sliced)"
   ]
  },
  {
   "cell_type": "markdown",
   "metadata": {
    "id": "jBA4bJD7SjVP"
   },
   "source": [
    "**(3)** Display the row numbers where last values are equal to 4.5 or higher."
   ]
  },
  {
   "cell_type": "code",
   "execution_count": 4,
   "metadata": {
    "colab": {
     "base_uri": "https://localhost:8080/"
    },
    "id": "xk8AQ6a7SjVP",
    "outputId": "f482c853-43b5-48ab-8a14-012a870794ec"
   },
   "outputs": [
    {
     "data": {
      "text/plain": [
       "(array([ 4,  6,  7, 10, 11, 14, 15, 16]),)"
      ]
     },
     "execution_count": 4,
     "metadata": {},
     "output_type": "execute_result"
    }
   ],
   "source": [
    "np.where(sliced[:, -1] >= 4.5)"
   ]
  },
  {
   "cell_type": "markdown",
   "metadata": {
    "id": "iRbkf3JSSjVP"
   },
   "source": [
    "**(4)** Assign 1 to first row."
   ]
  },
  {
   "cell_type": "code",
   "execution_count": 5,
   "metadata": {
    "colab": {
     "base_uri": "https://localhost:8080/"
    },
    "id": "Y1fCwbVjSjVP",
    "outputId": "02ebc09e-4885-4951-f0cb-fe4ad6805585"
   },
   "outputs": [
    {
     "data": {
      "text/plain": [
       "array([[ 1.    ,  1.    ,  1.    ,  1.    ,  1.    ],\n",
       "       [ 0.    , 37.4341, 35.852 ,  7.02  ,  4.1   ],\n",
       "       [ 0.    , 37.6878, 37.4016, 10.27  ,  4.4   ],\n",
       "       [ 0.    , 37.2003, 30.4376, 78.07  ,  4.    ],\n",
       "       [ 0.    , 35.6846, 26.7266, 42.77  ,  4.5   ],\n",
       "       [ 0.    , 36.4171, 28.6991, 14.86  ,  4.1   ],\n",
       "       [ 0.    , 36.0535, 31.2135, 36.68  ,  5.2   ],\n",
       "       [ 0.    , 37.1958, 30.6241, 50.33  ,  4.8   ],\n",
       "       [ 0.    , 36.9653, 27.7633,  6.93  ,  4.3   ],\n",
       "       [ 0.    , 38.893 , 26.4483, 11.62  ,  4.2   ],\n",
       "       [ 0.    , 37.3773, 36.3855, 10.53  ,  4.8   ],\n",
       "       [ 0.    , 35.8861, 26.0695, 28.49  ,  4.9   ],\n",
       "       [ 0.    , 37.4635, 36.3113, 15.29  ,  4.3   ],\n",
       "       [ 0.    , 37.0201, 36.0845, 10.    ,  4.1   ],\n",
       "       [ 0.    , 37.6546, 26.6698,  4.5   ,  4.5   ],\n",
       "       [ 0.    , 37.5318, 29.848 , 17.58  ,  4.6   ],\n",
       "       [ 0.    , 39.0388, 44.1533,  7.52  ,  4.5   ],\n",
       "       [ 0.    , 38.357 , 44.8686, 10.05  ,  4.1   ],\n",
       "       [ 0.    , 35.7018, 28.1495,  6.25  ,  4.1   ],\n",
       "       [ 0.    , 37.6883, 37.3968, 10.63  ,  4.1   ]])"
      ]
     },
     "execution_count": 5,
     "metadata": {},
     "output_type": "execute_result"
    }
   ],
   "source": [
    "sliced[0, :] = 1\n",
    "\n",
    "sliced"
   ]
  },
  {
   "cell_type": "markdown",
   "metadata": {
    "id": "5hit4wcTSjVQ"
   },
   "source": [
    "**(5)** Save the final state of the array to disk. You are going to use this in the next assignment."
   ]
  },
  {
   "cell_type": "code",
   "execution_count": 6,
   "metadata": {
    "id": "bvXWlaGwSjVQ"
   },
   "outputs": [],
   "source": [
    "np.save(\"sliced.npy\", sliced)"
   ]
  }
 ],
 "metadata": {
  "colab": {
   "name": "A_03_IndexingAndSlicingOfNumPyArrays_tr.ipynb adlı not defterinin kopyası",
   "provenance": []
  },
  "kernelspec": {
   "display_name": "Python 3 (ipykernel)",
   "language": "python",
   "name": "python3"
  },
  "language_info": {
   "codemirror_mode": {
    "name": "ipython",
    "version": 3
   },
   "file_extension": ".py",
   "mimetype": "text/x-python",
   "name": "python",
   "nbconvert_exporter": "python",
   "pygments_lexer": "ipython3",
   "version": "3.8.2"
  }
 },
 "nbformat": 4,
 "nbformat_minor": 4
}
