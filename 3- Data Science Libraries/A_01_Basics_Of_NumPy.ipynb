{
 "cells": [
  {
   "cell_type": "code",
   "execution_count": 1,
   "metadata": {
    "id": "7CeeUDz6SHL5"
   },
   "outputs": [],
   "source": [
    "import numpy as np "
   ]
  },
  {
   "cell_type": "markdown",
   "metadata": {
    "id": "OYGzO6ceSHLz"
   },
   "source": [
    "**(1)** Create 3 lists representing house features, each list containing 10 values. First one for squaremeter of house, second one for rooms and last one for price. Then, create an array combining these lists."
   ]
  },
  {
   "cell_type": "code",
   "execution_count": 2,
   "metadata": {
    "colab": {
     "base_uri": "https://localhost:8080/"
    },
    "id": "deDbjEPHmNl3",
    "outputId": "2c37a767-a5ca-444d-f148-0f9c58dc6314"
   },
   "outputs": [
    {
     "data": {
      "text/plain": [
       "array([[     60,      65,      80,      85,      70,      65,     105,\n",
       "             90,      80,      75],\n",
       "       [      1,       2,       2,       3,       2,       1,       3,\n",
       "              3,       2,       2],\n",
       "       [ 500000,  550000,  750000,  900000,  650000,  600000, 1000000,\n",
       "         900000,  775000,  675000]])"
      ]
     },
     "execution_count": 2,
     "metadata": {},
     "output_type": "execute_result"
    }
   ],
   "source": [
    "squaremeter = [60, 65, 80, 85, 70, 65, 105, 90, 80, 75]\n",
    "rooms = [1, 2, 2, 3, 2, 1, 3, 3, 2, 2]\n",
    "price = [500000, 550000, 750000, 900000, 650000, 600000, 1000000, 900000, 775000, 675000]\n",
    "\n",
    "houses = np.array([squaremeter, rooms, price])\n",
    "houses"
   ]
  },
  {
   "cell_type": "markdown",
   "metadata": {
    "id": "TBx9kAOGSHL6"
   },
   "source": [
    "**(2)** Transpose the array you have created, so that every line can represent features of one house."
   ]
  },
  {
   "cell_type": "code",
   "execution_count": 3,
   "metadata": {
    "colab": {
     "base_uri": "https://localhost:8080/"
    },
    "id": "2n2R_pBRSHL7",
    "outputId": "9d97d7ce-382e-45b9-d194-b0de07482848"
   },
   "outputs": [
    {
     "data": {
      "text/plain": [
       "array([[     60,       1,  500000],\n",
       "       [     65,       2,  550000],\n",
       "       [     80,       2,  750000],\n",
       "       [     85,       3,  900000],\n",
       "       [     70,       2,  650000],\n",
       "       [     65,       1,  600000],\n",
       "       [    105,       3, 1000000],\n",
       "       [     90,       3,  900000],\n",
       "       [     80,       2,  775000],\n",
       "       [     75,       2,  675000]])"
      ]
     },
     "execution_count": 3,
     "metadata": {},
     "output_type": "execute_result"
    }
   ],
   "source": [
    "houses.T"
   ]
  },
  {
   "cell_type": "markdown",
   "metadata": {
    "id": "-bp-pzruSHL7"
   },
   "source": [
    "**(3)** Display the shape of the array and explain what it means."
   ]
  },
  {
   "cell_type": "code",
   "execution_count": 4,
   "metadata": {
    "colab": {
     "base_uri": "https://localhost:8080/"
    },
    "id": "xj5t92-rSHL7",
    "outputId": "6437e05a-8749-474b-859f-099ed4708ee9"
   },
   "outputs": [
    {
     "name": "stdout",
     "output_type": "stream",
     "text": [
      "The array contains 3 rows and 10 columns\n"
     ]
    }
   ],
   "source": [
    "print(f\"The array contains {houses.shape[0]} rows and {houses.shape[1]} columns\")"
   ]
  },
  {
   "cell_type": "markdown",
   "metadata": {
    "id": "VoV2Zhz7SHL7"
   },
   "source": [
    "**(4)** Write a function that returns an array of ones with zeros where both row and column numbers are even. Sample array is below. Number of rows and columns will be entered as parameters.\n",
    "\n",
    "```python\n",
    "    shape(6 x 5) --> [[1   1   1   1   1]\n",
    "                      [1   0   1   0   1]\n",
    "                      [1   1   1   1   1]\n",
    "                      [1   0   1   0   1]\n",
    "                      [1   1   1   1   1]\n",
    "                      [1   0   1   0   1]]\n",
    "```"
   ]
  },
  {
   "cell_type": "code",
   "execution_count": 5,
   "metadata": {
    "colab": {
     "base_uri": "https://localhost:8080/"
    },
    "id": "nReM3XJCSHL8",
    "outputId": "48464ebf-7665-4e16-883f-f09a15709bfe"
   },
   "outputs": [
    {
     "name": "stdin",
     "output_type": "stream",
     "text": [
      "Enter the row number: 6\n",
      "Enter the columns number: 5\n"
     ]
    },
    {
     "data": {
      "text/plain": [
       "array([[1., 1., 1., 1., 1.],\n",
       "       [1., 0., 1., 0., 1.],\n",
       "       [1., 1., 1., 1., 1.],\n",
       "       [1., 0., 1., 0., 1.],\n",
       "       [1., 1., 1., 1., 1.],\n",
       "       [1., 0., 1., 0., 1.]])"
      ]
     },
     "execution_count": 5,
     "metadata": {},
     "output_type": "execute_result"
    }
   ],
   "source": [
    "def ones_zeros():\n",
    "    row = int(input(\"Enter the row number:\"))\n",
    "    column = int(input(\"Enter the columns number:\"))\n",
    "    array = np.ones((row, column))\n",
    "    array[1:row:2, 1:column:2] = 0\n",
    "    return array\n",
    "\n",
    "ones_zeros()"
   ]
  }
 ],
 "metadata": {
  "colab": {
   "name": "A_02_BasicsOfNumPyArray_en.ipynb adlı not defterinin kopyası",
   "provenance": []
  },
  "kernelspec": {
   "display_name": "Python 3 (ipykernel)",
   "language": "python",
   "name": "python3"
  },
  "language_info": {
   "codemirror_mode": {
    "name": "ipython",
    "version": 3
   },
   "file_extension": ".py",
   "mimetype": "text/x-python",
   "name": "python",
   "nbconvert_exporter": "python",
   "pygments_lexer": "ipython3",
   "version": "3.8.2"
  }
 },
 "nbformat": 4,
 "nbformat_minor": 4
}
