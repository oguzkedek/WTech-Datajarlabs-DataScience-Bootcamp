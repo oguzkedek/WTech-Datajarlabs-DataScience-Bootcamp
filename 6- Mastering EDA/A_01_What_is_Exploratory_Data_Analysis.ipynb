{
 "cells": [
  {
   "cell_type": "markdown",
   "metadata": {
    "id": "MHoZI7o-EYii"
   },
   "source": [
    "# <font color=blue>Assignments for \"What is Exploratory Data Analysis?\"</font>"
   ]
  },
  {
   "cell_type": "markdown",
   "metadata": {
    "id": "VRMOxKgIEYin"
   },
   "source": [
    "To complete this assignment, send the Github link of the Jupyter notebook file containing solutions to the following questions:"
   ]
  },
  {
   "cell_type": "markdown",
   "metadata": {
    "id": "WnBjbxSjEYio"
   },
   "source": [
    "**(1)** What is the purpose the data exploration?"
   ]
  },
  {
   "cell_type": "markdown",
   "metadata": {
    "id": "blTtAneJ8WBZ"
   },
   "source": [
    "The data exploration is very important part of  data analysis .We always need to investigate quality of our data .EDA is the first step of the data analysis process. It enables to summarize data's main characteristics .So we can detect outliers, missing values in the data set or visualize each feature's mean,median,mode values to understand better data .We can also understand if there is a relationship between independent variables and dependent variable. Thanks to feature engineering ,we can create a new features or transforming some features.As a result ,we use more useful features.\n"
   ]
  },
  {
   "cell_type": "markdown",
   "metadata": {
    "id": "j5M6_TCzEYio"
   },
   "source": [
    "**(2)** Suppose you are working on a dataset containing customer reviews of an e-commerce company's products. Customer reviews collected through the company's website are rated between 1 and 5 depending on whether the content is positive or negative.\n",
    "    - What kind of problems do you expect to encounter in this raw data?\n",
    "    - What kind of problems do you expect to encounter in this raw data?\n",
    "    - If your task is to identify the characteristics that reveal that the customers' comments are positive or negative, how would you do that and what methods would you use for this?\n",
    "    - What are the useful features that can be extracted from raw data? How can you access this data and understand whether it is useful?"
   ]
  },
  {
   "cell_type": "markdown",
   "metadata": {
    "id": "Fu9162C3IjVA"
   },
   "source": [
    "\n",
    "\n",
    "*   If values are entered manually, there may be incorrectly entered data and an outlier condition may occur.\n",
    "*   I examine the effect of customers' characteristics such as age, gender, educational status on their ratings.\n",
    "*   I check the frequency of expressions and words in the content that is divided into positive and negative.\n",
    "\n"
   ]
  },
  {
   "cell_type": "markdown",
   "metadata": {
    "id": "NJ2wImyAEYip"
   },
   "source": [
    "**(3)** Why do you think missing values should be taking care of?"
   ]
  },
  {
   "cell_type": "markdown",
   "metadata": {
    "id": "IMS_ZW8b_zO8"
   },
   "source": [
    "Because , many machine learning algorithms don't work effectively due to missing values. Handling missing values is so important to implement models succesfully . Missing values have a significant effect on a data. Firstly , we should if there are any missing values and then research the reasons. "
   ]
  },
  {
   "cell_type": "markdown",
   "metadata": {
    "id": "_-57cBR2EYiq"
   },
   "source": [
    "**(4)** Do you think that outliers have an impact on a dataset? If so, how would you explain this impact?"
   ]
  },
  {
   "cell_type": "markdown",
   "metadata": {
    "id": "lOrQbf47E9go"
   },
   "source": [
    "Yes , outliers can cause serious problems in data analysis . Because, they have an impact on a dataset directly. Especially , they affects the mean misleadingly. In a data set with outliers, it is more accurate to examine the median rather than the mean.They also cause many machine learning models to achieve lower-scoring results."
   ]
  },
  {
   "cell_type": "markdown",
   "metadata": {
    "id": "tc-BMmaaEYiq"
   },
   "source": [
    "**(5)** Please briefly summarize you first actions when you start analyzing the data?"
   ]
  },
  {
   "cell_type": "markdown",
   "metadata": {
    "id": "60Fmke4OFH9A"
   },
   "source": [
    "\n",
    "\n",
    "*   I check the first n observation (generally 5 ) of the data by using df.head() to understand data structure \n",
    "*   Secondly, I check the data type of each variable using the df.info() function. With this function we can also observe the missing data. So we get general information about the dataset\n",
    "*   I examine the rate of missing values in each variable. \n",
    "*   Then, use df.describe() to examine the statistical summary values of each numeric variable such as mean , median , quartiles. For categorical variables, I examine how many unique values there are. \n",
    "\n",
    "\n",
    "\n"
   ]
  }
 ],
 "metadata": {
  "colab": {
   "name": "A_01_WhatisExploratoryDataAnalysis_en.ipynb adlı not defterinin kopyası",
   "provenance": []
  },
  "kernelspec": {
   "display_name": "Python 3 (ipykernel)",
   "language": "python",
   "name": "python3"
  },
  "language_info": {
   "codemirror_mode": {
    "name": "ipython",
    "version": 3
   },
   "file_extension": ".py",
   "mimetype": "text/x-python",
   "name": "python",
   "nbconvert_exporter": "python",
   "pygments_lexer": "ipython3",
   "version": "3.8.2"
  }
 },
 "nbformat": 4,
 "nbformat_minor": 4
}
