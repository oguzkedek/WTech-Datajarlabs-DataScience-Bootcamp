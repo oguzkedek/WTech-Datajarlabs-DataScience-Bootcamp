{
 "cells": [
  {
   "cell_type": "markdown",
   "metadata": {
    "id": "EbhwzXI7QDFz"
   },
   "source": [
    "# <font color=blue>Assignments for \"Data Exploration - Multivariate Analysis\"</font>"
   ]
  },
  {
   "cell_type": "code",
   "execution_count": 1,
   "metadata": {
    "colab": {
     "base_uri": "https://localhost:8080/"
    },
    "id": "vyLN7ivAQJeP",
    "outputId": "baf1f29b-48ad-468b-e90e-f36cbc2ed6a7"
   },
   "outputs": [],
   "source": [
    "import numpy as np\n",
    "import pandas as pd\n",
    "import matplotlib.pyplot as plt\n",
    "import seaborn as sns\n",
    "from scipy.stats import ttest_1samp, shapiro, levene, ttest_ind, mannwhitneyu, \\\n",
    "    pearsonr, spearmanr, kendalltau, f_oneway, kruskal\n",
    "from statsmodels.stats.proportion import proportions_ztest"
   ]
  },
  {
   "cell_type": "markdown",
   "metadata": {
    "id": "IBcNLzdEQDF4"
   },
   "source": [
    "In this assignment, you will work on the `Students Performance` ([dataset](https://www.kaggle.com/spscientist/students-performance-in-exams/home)). You can reach the explanations of this data from Kaggle again.\n",
    "\n",
    "To complete this assignment, submit the Github link of the Jupyter notebook file containing solutions to the questions below. You can talk to your mentor on your head or ask Slack at office time."
   ]
  },
  {
   "cell_type": "code",
   "execution_count": 2,
   "metadata": {
    "colab": {
     "base_uri": "https://localhost:8080/",
     "height": 265
    },
    "id": "6cGaV7dRQSB2",
    "outputId": "9891888f-0466-495d-c6fc-71082017cc41"
   },
   "outputs": [
    {
     "data": {
      "text/html": [
       "<div>\n",
       "<style scoped>\n",
       "    .dataframe tbody tr th:only-of-type {\n",
       "        vertical-align: middle;\n",
       "    }\n",
       "\n",
       "    .dataframe tbody tr th {\n",
       "        vertical-align: top;\n",
       "    }\n",
       "\n",
       "    .dataframe thead th {\n",
       "        text-align: right;\n",
       "    }\n",
       "</style>\n",
       "<table border=\"1\" class=\"dataframe\">\n",
       "  <thead>\n",
       "    <tr style=\"text-align: right;\">\n",
       "      <th></th>\n",
       "      <th>gender</th>\n",
       "      <th>race/ethnicity</th>\n",
       "      <th>parental level of education</th>\n",
       "      <th>lunch</th>\n",
       "      <th>test preparation course</th>\n",
       "      <th>math score</th>\n",
       "      <th>reading score</th>\n",
       "      <th>writing score</th>\n",
       "    </tr>\n",
       "  </thead>\n",
       "  <tbody>\n",
       "    <tr>\n",
       "      <th>0</th>\n",
       "      <td>female</td>\n",
       "      <td>group B</td>\n",
       "      <td>bachelor's degree</td>\n",
       "      <td>standard</td>\n",
       "      <td>none</td>\n",
       "      <td>72</td>\n",
       "      <td>72</td>\n",
       "      <td>74</td>\n",
       "    </tr>\n",
       "    <tr>\n",
       "      <th>1</th>\n",
       "      <td>female</td>\n",
       "      <td>group C</td>\n",
       "      <td>some college</td>\n",
       "      <td>standard</td>\n",
       "      <td>completed</td>\n",
       "      <td>69</td>\n",
       "      <td>90</td>\n",
       "      <td>88</td>\n",
       "    </tr>\n",
       "    <tr>\n",
       "      <th>2</th>\n",
       "      <td>female</td>\n",
       "      <td>group B</td>\n",
       "      <td>master's degree</td>\n",
       "      <td>standard</td>\n",
       "      <td>none</td>\n",
       "      <td>90</td>\n",
       "      <td>95</td>\n",
       "      <td>93</td>\n",
       "    </tr>\n",
       "    <tr>\n",
       "      <th>3</th>\n",
       "      <td>male</td>\n",
       "      <td>group A</td>\n",
       "      <td>associate's degree</td>\n",
       "      <td>free/reduced</td>\n",
       "      <td>none</td>\n",
       "      <td>47</td>\n",
       "      <td>57</td>\n",
       "      <td>44</td>\n",
       "    </tr>\n",
       "    <tr>\n",
       "      <th>4</th>\n",
       "      <td>male</td>\n",
       "      <td>group C</td>\n",
       "      <td>some college</td>\n",
       "      <td>standard</td>\n",
       "      <td>none</td>\n",
       "      <td>76</td>\n",
       "      <td>78</td>\n",
       "      <td>75</td>\n",
       "    </tr>\n",
       "  </tbody>\n",
       "</table>\n",
       "</div>"
      ],
      "text/plain": [
       "   gender race/ethnicity parental level of education         lunch  \\\n",
       "0  female        group B           bachelor's degree      standard   \n",
       "1  female        group C                some college      standard   \n",
       "2  female        group B             master's degree      standard   \n",
       "3    male        group A          associate's degree  free/reduced   \n",
       "4    male        group C                some college      standard   \n",
       "\n",
       "  test preparation course  math score  reading score  writing score  \n",
       "0                    none          72             72             74  \n",
       "1               completed          69             90             88  \n",
       "2                    none          90             95             93  \n",
       "3                    none          47             57             44  \n",
       "4                    none          76             78             75  "
      ]
     },
     "execution_count": 2,
     "metadata": {},
     "output_type": "execute_result"
    }
   ],
   "source": [
    "df = pd.read_csv('StudentsPerformance.csv')\n",
    "df.head()"
   ]
  },
  {
   "cell_type": "code",
   "execution_count": 3,
   "metadata": {
    "id": "PpvttD6tUEzK"
   },
   "outputs": [],
   "source": [
    "df['total_score'] = (df['math score'] + df['reading score'] + df['writing score']) / 3"
   ]
  },
  {
   "cell_type": "markdown",
   "metadata": {
    "id": "Mmkz4A6KQDF5"
   },
   "source": [
    "**(1)** Does the performance in the exams vary according to gender, origin and education level of parents?"
   ]
  },
  {
   "cell_type": "code",
   "execution_count": 4,
   "metadata": {
    "colab": {
     "base_uri": "https://localhost:8080/",
     "height": 711
    },
    "id": "tflKsMToQDF5",
    "outputId": "6d810825-084c-480f-eb37-5fc4cf2bd076"
   },
   "outputs": [
    {
     "data": {
      "text/html": [
       "<div>\n",
       "<style scoped>\n",
       "    .dataframe tbody tr th:only-of-type {\n",
       "        vertical-align: middle;\n",
       "    }\n",
       "\n",
       "    .dataframe tbody tr th {\n",
       "        vertical-align: top;\n",
       "    }\n",
       "\n",
       "    .dataframe thead th {\n",
       "        text-align: right;\n",
       "    }\n",
       "</style>\n",
       "<table border=\"1\" class=\"dataframe\">\n",
       "  <thead>\n",
       "    <tr style=\"text-align: right;\">\n",
       "      <th></th>\n",
       "      <th>total_score</th>\n",
       "    </tr>\n",
       "    <tr>\n",
       "      <th>gender</th>\n",
       "      <th></th>\n",
       "    </tr>\n",
       "  </thead>\n",
       "  <tbody>\n",
       "    <tr>\n",
       "      <th>female</th>\n",
       "      <td>69.569498</td>\n",
       "    </tr>\n",
       "    <tr>\n",
       "      <th>male</th>\n",
       "      <td>65.837483</td>\n",
       "    </tr>\n",
       "  </tbody>\n",
       "</table>\n",
       "</div>"
      ],
      "text/plain": [
       "        total_score\n",
       "gender             \n",
       "female    69.569498\n",
       "male      65.837483"
      ]
     },
     "metadata": {},
     "output_type": "display_data"
    },
    {
     "data": {
      "text/html": [
       "<div>\n",
       "<style scoped>\n",
       "    .dataframe tbody tr th:only-of-type {\n",
       "        vertical-align: middle;\n",
       "    }\n",
       "\n",
       "    .dataframe tbody tr th {\n",
       "        vertical-align: top;\n",
       "    }\n",
       "\n",
       "    .dataframe thead th {\n",
       "        text-align: right;\n",
       "    }\n",
       "</style>\n",
       "<table border=\"1\" class=\"dataframe\">\n",
       "  <thead>\n",
       "    <tr style=\"text-align: right;\">\n",
       "      <th></th>\n",
       "      <th>total_score</th>\n",
       "    </tr>\n",
       "    <tr>\n",
       "      <th>race/ethnicity</th>\n",
       "      <th></th>\n",
       "    </tr>\n",
       "  </thead>\n",
       "  <tbody>\n",
       "    <tr>\n",
       "      <th>group A</th>\n",
       "      <td>62.992509</td>\n",
       "    </tr>\n",
       "    <tr>\n",
       "      <th>group B</th>\n",
       "      <td>65.468421</td>\n",
       "    </tr>\n",
       "    <tr>\n",
       "      <th>group C</th>\n",
       "      <td>67.131661</td>\n",
       "    </tr>\n",
       "    <tr>\n",
       "      <th>group D</th>\n",
       "      <td>69.179389</td>\n",
       "    </tr>\n",
       "    <tr>\n",
       "      <th>group E</th>\n",
       "      <td>72.752381</td>\n",
       "    </tr>\n",
       "  </tbody>\n",
       "</table>\n",
       "</div>"
      ],
      "text/plain": [
       "                total_score\n",
       "race/ethnicity             \n",
       "group A           62.992509\n",
       "group B           65.468421\n",
       "group C           67.131661\n",
       "group D           69.179389\n",
       "group E           72.752381"
      ]
     },
     "metadata": {},
     "output_type": "display_data"
    },
    {
     "data": {
      "text/html": [
       "<div>\n",
       "<style scoped>\n",
       "    .dataframe tbody tr th:only-of-type {\n",
       "        vertical-align: middle;\n",
       "    }\n",
       "\n",
       "    .dataframe tbody tr th {\n",
       "        vertical-align: top;\n",
       "    }\n",
       "\n",
       "    .dataframe thead th {\n",
       "        text-align: right;\n",
       "    }\n",
       "</style>\n",
       "<table border=\"1\" class=\"dataframe\">\n",
       "  <thead>\n",
       "    <tr style=\"text-align: right;\">\n",
       "      <th></th>\n",
       "      <th>total_score</th>\n",
       "    </tr>\n",
       "    <tr>\n",
       "      <th>parental level of education</th>\n",
       "      <th></th>\n",
       "    </tr>\n",
       "  </thead>\n",
       "  <tbody>\n",
       "    <tr>\n",
       "      <th>associate's degree</th>\n",
       "      <td>69.569069</td>\n",
       "    </tr>\n",
       "    <tr>\n",
       "      <th>bachelor's degree</th>\n",
       "      <td>71.923729</td>\n",
       "    </tr>\n",
       "    <tr>\n",
       "      <th>high school</th>\n",
       "      <td>63.096939</td>\n",
       "    </tr>\n",
       "    <tr>\n",
       "      <th>master's degree</th>\n",
       "      <td>73.598870</td>\n",
       "    </tr>\n",
       "    <tr>\n",
       "      <th>some college</th>\n",
       "      <td>68.476401</td>\n",
       "    </tr>\n",
       "    <tr>\n",
       "      <th>some high school</th>\n",
       "      <td>65.108007</td>\n",
       "    </tr>\n",
       "  </tbody>\n",
       "</table>\n",
       "</div>"
      ],
      "text/plain": [
       "                             total_score\n",
       "parental level of education             \n",
       "associate's degree             69.569069\n",
       "bachelor's degree              71.923729\n",
       "high school                    63.096939\n",
       "master's degree                73.598870\n",
       "some college                   68.476401\n",
       "some high school               65.108007"
      ]
     },
     "metadata": {},
     "output_type": "display_data"
    }
   ],
   "source": [
    "cols =['gender', 'race/ethnicity', 'parental level of education']\n",
    "\n",
    "for col in cols:\n",
    "    display(df.groupby(col)[['total_score']].mean())"
   ]
  },
  {
   "cell_type": "code",
   "execution_count": 5,
   "metadata": {
    "colab": {
     "base_uri": "https://localhost:8080/"
    },
    "id": "Hwuu0iKeYhO-",
    "outputId": "6920fe61-5db8-46d6-ed56-37b1855f2be5"
   },
   "outputs": [
    {
     "name": "stdout",
     "output_type": "stream",
     "text": [
      "Test Stat = 0.9858, p-value = 0.0001\n",
      "Test Stat = 0.9941, p-value = 0.0577\n"
     ]
    }
   ],
   "source": [
    "# normality assumption\n",
    "\n",
    "test_stat, pvalue = shapiro(df.loc[df['gender'] == 'female', \"total_score\"])\n",
    "print('Test Stat = %.4f, p-value = %.4f' % (test_stat, pvalue))\n",
    "\n",
    "test_stat, pvalue = shapiro(df.loc[df['gender'] == 'male', 'total_score'])\n",
    "print('Test Stat = %.4f, p-value = %.4f' % (test_stat, pvalue))"
   ]
  },
  {
   "cell_type": "code",
   "execution_count": 6,
   "metadata": {
    "colab": {
     "base_uri": "https://localhost:8080/"
    },
    "id": "nD2jFi-IY3kC",
    "outputId": "c330c59e-8004-43fa-ac4a-89fe49f34bfc"
   },
   "outputs": [
    {
     "name": "stdout",
     "output_type": "stream",
     "text": [
      "Test Stat = 0.1345, p-value = 0.7139\n"
     ]
    }
   ],
   "source": [
    "#variance homogeneity assumption\n",
    "\n",
    "test_stat, pvalue = levene(df.loc[df['gender'] == 'female', \"total_score\"],\n",
    "                           df.loc[df['gender'] == 'male', \"total_score\"])\n",
    "print('Test Stat = %.4f, p-value = %.4f' % (test_stat, pvalue))"
   ]
  },
  {
   "cell_type": "code",
   "execution_count": 7,
   "metadata": {
    "colab": {
     "base_uri": "https://localhost:8080/"
    },
    "id": "VnhfppbYZLcs",
    "outputId": "e3c20e64-cee1-4d17-a547-a42dcf275a4e"
   },
   "outputs": [
    {
     "name": "stdout",
     "output_type": "stream",
     "text": [
      "Test Stat = 144766.0000, p-value = 0.0000\n"
     ]
    }
   ],
   "source": [
    "test_stat, pvalue = mannwhitneyu(df.loc[df['gender'] == 'female', \"total_score\"],\n",
    "                                 df.loc[df['gender'] == 'male', \"total_score\"])\n",
    "\n",
    "print('Test Stat = %.4f, p-value = %.4f' % (test_stat, pvalue))"
   ]
  },
  {
   "cell_type": "code",
   "execution_count": 8,
   "metadata": {
    "id": "9H9UUXrdZZ3v"
   },
   "outputs": [],
   "source": [
    "# Since p<0.05, There is a statistically significant difference between the achievements of male and female students."
   ]
  },
  {
   "cell_type": "code",
   "execution_count": 9,
   "metadata": {
    "colab": {
     "base_uri": "https://localhost:8080/"
    },
    "id": "NOX6_ezJUoG1",
    "outputId": "1f8c1ba6-b893-4311-b9b0-d3dba8bfb1dc"
   },
   "outputs": [
    {
     "name": "stdout",
     "output_type": "stream",
     "text": [
      "group B p-value: 0.0199\n",
      "group C p-value: 0.0187\n",
      "group A p-value: 0.5323\n",
      "group D p-value: 0.1989\n",
      "group E p-value: 0.0804\n"
     ]
    }
   ],
   "source": [
    "for group in list(df['race/ethnicity'].unique()):\n",
    "    pvalue = shapiro(df.loc[df['race/ethnicity'] == group, \"total_score\"])[1]\n",
    "    print(group, 'p-value: %.4f' % pvalue)"
   ]
  },
  {
   "cell_type": "code",
   "execution_count": 10,
   "metadata": {
    "colab": {
     "base_uri": "https://localhost:8080/"
    },
    "id": "CaX-b6YhW6f4",
    "outputId": "990de095-64fa-4c5d-d823-bd67ad4dcf96"
   },
   "outputs": [
    {
     "name": "stdout",
     "output_type": "stream",
     "text": [
      "Test Stat = 0.5509, p-value = 0.6984\n"
     ]
    }
   ],
   "source": [
    "test_stat, pvalue = levene(df.loc[df['race/ethnicity'] == 'group A', 'total_score'],\n",
    "                           df.loc[df['race/ethnicity'] == 'group B', 'total_score'],\n",
    "                           df.loc[df['race/ethnicity'] == 'group C', 'total_score'],\n",
    "                           df.loc[df['race/ethnicity'] == 'group D', 'total_score'],\n",
    "                           df.loc[df['race/ethnicity'] == 'group E', 'total_score'])\n",
    "\n",
    "print('Test Stat = %.4f, p-value = %.4f' % (test_stat, pvalue))"
   ]
  },
  {
   "cell_type": "code",
   "execution_count": 11,
   "metadata": {
    "colab": {
     "base_uri": "https://localhost:8080/"
    },
    "id": "FZWmwqaKYCiy",
    "outputId": "102f6810-feb9-4969-d6d2-491fa9917a7e"
   },
   "outputs": [
    {
     "name": "stdout",
     "output_type": "stream",
     "text": [
      "Test Stat = 36.1764, p-value = 0.0000\n"
     ]
    }
   ],
   "source": [
    "test_stat, pvalue = kruskal(df.loc[df['race/ethnicity'] == 'group A', 'total_score'],\n",
    "                            df.loc[df['race/ethnicity'] == 'group B', 'total_score'],\n",
    "                            df.loc[df['race/ethnicity'] == 'group C', 'total_score'],\n",
    "                            df.loc[df['race/ethnicity'] == 'group D', 'total_score'],\n",
    "                            df.loc[df['race/ethnicity'] == 'group E', 'total_score'])\n",
    "\n",
    "print('Test Stat = %.4f, p-value = %.4f' % (test_stat, pvalue))"
   ]
  },
  {
   "cell_type": "code",
   "execution_count": 12,
   "metadata": {
    "id": "9rKWDfjwZr54"
   },
   "outputs": [],
   "source": [
    "# There is a statistically significant difference between the success of the groups."
   ]
  },
  {
   "cell_type": "code",
   "execution_count": 13,
   "metadata": {
    "colab": {
     "base_uri": "https://localhost:8080/"
    },
    "id": "5cKM2A9gYNgZ",
    "outputId": "72a8c01a-691f-498c-b160-caa41dbfdbbb"
   },
   "outputs": [
    {
     "name": "stdout",
     "output_type": "stream",
     "text": [
      "bachelor's degree p-value: 0.3399\n",
      "some college p-value: 0.0510\n",
      "master's degree p-value: 0.2305\n",
      "associate's degree p-value: 0.1102\n",
      "high school p-value: 0.1053\n",
      "some high school p-value: 0.0085\n"
     ]
    }
   ],
   "source": [
    "for group in list(df['parental level of education'].unique()):\n",
    "    pvalue = shapiro(df.loc[df['parental level of education'] == group, \"total_score\"])[1]\n",
    "    print(group, 'p-value: %.4f' % pvalue)"
   ]
  },
  {
   "cell_type": "code",
   "execution_count": 14,
   "metadata": {
    "colab": {
     "base_uri": "https://localhost:8080/"
    },
    "id": "ImWOmXUiWALQ",
    "outputId": "36e3830f-dd60-4c3d-88d5-cb1dea9632a8"
   },
   "outputs": [
    {
     "name": "stdout",
     "output_type": "stream",
     "text": [
      "Test Stat = 0.5085, p-value = 0.7700\n"
     ]
    }
   ],
   "source": [
    "test_stat, pvalue = levene(df.loc[df['parental level of education'] == \"associate's degree\", 'total_score'],\n",
    "                           df.loc[df['parental level of education'] == \"bachelor's degree\", 'total_score'],\n",
    "                           df.loc[df['parental level of education'] == 'high school', 'total_score'],\n",
    "                           df.loc[df['parental level of education'] == \"master's degree\", 'total_score'],\n",
    "                           df.loc[df['parental level of education'] == 'some college', 'total_score'],\n",
    "                           df.loc[df['parental level of education'] == 'some high school', 'total_score'])\n",
    "\n",
    "print('Test Stat = %.4f, p-value = %.4f' % (test_stat, pvalue))"
   ]
  },
  {
   "cell_type": "code",
   "execution_count": 15,
   "metadata": {
    "colab": {
     "base_uri": "https://localhost:8080/"
    },
    "id": "6yvBr5XEYVR_",
    "outputId": "8c73eddd-a7d9-4a7c-efec-00cffa79643d"
   },
   "outputs": [
    {
     "name": "stdout",
     "output_type": "stream",
     "text": [
      "Test Stat = 44.7284, p-value = 0.0000\n"
     ]
    }
   ],
   "source": [
    "test_stat, pvalue = kruskal(df.loc[df['parental level of education'] == \"associate's degree\", 'total_score'],\n",
    "                           df.loc[df['parental level of education'] == \"bachelor's degree\", 'total_score'],\n",
    "                           df.loc[df['parental level of education'] == 'high school', 'total_score'],\n",
    "                           df.loc[df['parental level of education'] == \"master's degree\", 'total_score'],\n",
    "                           df.loc[df['parental level of education'] == 'some college', 'total_score'],\n",
    "                           df.loc[df['parental level of education'] == 'some high school', 'total_score'])\n",
    "\n",
    "print('Test Stat = %.4f, p-value = %.4f' % (test_stat, pvalue))"
   ]
  },
  {
   "cell_type": "code",
   "execution_count": 16,
   "metadata": {
    "id": "xraeqNy7Z6Tm"
   },
   "outputs": [],
   "source": [
    "# There is a statistically significant difference between the success of the degrees."
   ]
  },
  {
   "cell_type": "markdown",
   "metadata": {
    "id": "vlZB7HYJQDF6"
   },
   "source": [
    "**(2)** Does lunch type have a relationship with exam performances? How can you explain this, if any?"
   ]
  },
  {
   "cell_type": "code",
   "execution_count": 17,
   "metadata": {
    "colab": {
     "base_uri": "https://localhost:8080/"
    },
    "id": "yqvhKRSoQDF6",
    "outputId": "bc074b07-2aef-4414-fa19-861fc6e4769f"
   },
   "outputs": [
    {
     "data": {
      "text/plain": [
       "array(['standard', 'free/reduced'], dtype=object)"
      ]
     },
     "execution_count": 17,
     "metadata": {},
     "output_type": "execute_result"
    }
   ],
   "source": [
    "df['lunch'].unique()"
   ]
  },
  {
   "cell_type": "code",
   "execution_count": 18,
   "metadata": {
    "colab": {
     "base_uri": "https://localhost:8080/"
    },
    "id": "kgCQo8nCaSdk",
    "outputId": "ed0b3f1b-45ab-485c-e469-7d0cf014786c"
   },
   "outputs": [
    {
     "name": "stdout",
     "output_type": "stream",
     "text": [
      "Test Stat = 0.9943, p-value = 0.0164\n",
      "Test Stat = 0.9924, p-value = 0.0660\n"
     ]
    }
   ],
   "source": [
    "# normality assumption\n",
    "\n",
    "test_stat, pvalue = shapiro(df.loc[df['lunch'] == 'standard', \"total_score\"])\n",
    "print('Test Stat = %.4f, p-value = %.4f' % (test_stat, pvalue))\n",
    "\n",
    "test_stat, pvalue = shapiro(df.loc[df['lunch'] == 'free/reduced', 'total_score'])\n",
    "print('Test Stat = %.4f, p-value = %.4f' % (test_stat, pvalue))"
   ]
  },
  {
   "cell_type": "code",
   "execution_count": 19,
   "metadata": {
    "colab": {
     "base_uri": "https://localhost:8080/"
    },
    "id": "52kRXXHUahHK",
    "outputId": "528584e5-e5ec-4bfa-eeff-7c5249898a42"
   },
   "outputs": [
    {
     "name": "stdout",
     "output_type": "stream",
     "text": [
      "Test Stat = 3.5494, p-value = 0.0599\n"
     ]
    }
   ],
   "source": [
    "#variance homogeneity assumption\n",
    "\n",
    "test_stat, pvalue = levene(df.loc[df['lunch'] == 'standard', \"total_score\"],\n",
    "                           df.loc[df['lunch'] == 'free/reduced', \"total_score\"])\n",
    "print('Test Stat = %.4f, p-value = %.4f' % (test_stat, pvalue))"
   ]
  },
  {
   "cell_type": "code",
   "execution_count": 20,
   "metadata": {
    "colab": {
     "base_uri": "https://localhost:8080/"
    },
    "id": "KWxiwyNkaqkq",
    "outputId": "4dbe9646-35b9-4dfc-c836-d0af67b4a2a7"
   },
   "outputs": [
    {
     "name": "stdout",
     "output_type": "stream",
     "text": [
      "Test Stat = 152822.0000, p-value = 0.0000\n"
     ]
    }
   ],
   "source": [
    "test_stat, pvalue = mannwhitneyu(df.loc[df['lunch'] == 'standard', \"total_score\"],\n",
    "                           df.loc[df['lunch'] == 'free/reduced', \"total_score\"])\n",
    "\n",
    "print('Test Stat = %.4f, p-value = %.4f' % (test_stat, pvalue))"
   ]
  },
  {
   "cell_type": "code",
   "execution_count": 21,
   "metadata": {
    "colab": {
     "base_uri": "https://localhost:8080/",
     "height": 142
    },
    "id": "zjIGpY_Ya3I9",
    "outputId": "e65b22f5-4952-46d4-921f-8a27a75e666a"
   },
   "outputs": [
    {
     "data": {
      "text/html": [
       "<div>\n",
       "<style scoped>\n",
       "    .dataframe tbody tr th:only-of-type {\n",
       "        vertical-align: middle;\n",
       "    }\n",
       "\n",
       "    .dataframe tbody tr th {\n",
       "        vertical-align: top;\n",
       "    }\n",
       "\n",
       "    .dataframe thead th {\n",
       "        text-align: right;\n",
       "    }\n",
       "</style>\n",
       "<table border=\"1\" class=\"dataframe\">\n",
       "  <thead>\n",
       "    <tr style=\"text-align: right;\">\n",
       "      <th></th>\n",
       "      <th>total_score</th>\n",
       "    </tr>\n",
       "    <tr>\n",
       "      <th>lunch</th>\n",
       "      <th></th>\n",
       "    </tr>\n",
       "  </thead>\n",
       "  <tbody>\n",
       "    <tr>\n",
       "      <th>free/reduced</th>\n",
       "      <td>62.199061</td>\n",
       "    </tr>\n",
       "    <tr>\n",
       "      <th>standard</th>\n",
       "      <td>70.837209</td>\n",
       "    </tr>\n",
       "  </tbody>\n",
       "</table>\n",
       "</div>"
      ],
      "text/plain": [
       "              total_score\n",
       "lunch                    \n",
       "free/reduced    62.199061\n",
       "standard        70.837209"
      ]
     },
     "execution_count": 21,
     "metadata": {},
     "output_type": "execute_result"
    }
   ],
   "source": [
    "df.groupby('lunch')[['total_score']].mean()"
   ]
  },
  {
   "cell_type": "code",
   "execution_count": 22,
   "metadata": {
    "id": "SbpmMCHma6CM"
   },
   "outputs": [],
   "source": [
    "# Lunch types have a statistically significant effect on exam success. \n",
    "# Groups that eat standard food are more successful."
   ]
  },
  {
   "cell_type": "markdown",
   "metadata": {
    "id": "X0P6gyJCQDF7"
   },
   "source": [
    "**(3)** Does the preparation courses have an impact on exam performance?"
   ]
  },
  {
   "cell_type": "code",
   "execution_count": 23,
   "metadata": {
    "colab": {
     "base_uri": "https://localhost:8080/"
    },
    "id": "N8jze0KuQDF7",
    "outputId": "ccd96ad7-023f-42b0-e7d0-5727bdd0433b"
   },
   "outputs": [
    {
     "data": {
      "text/plain": [
       "array(['none', 'completed'], dtype=object)"
      ]
     },
     "execution_count": 23,
     "metadata": {},
     "output_type": "execute_result"
    }
   ],
   "source": [
    "df['test preparation course'].unique()"
   ]
  },
  {
   "cell_type": "code",
   "execution_count": 24,
   "metadata": {
    "colab": {
     "base_uri": "https://localhost:8080/"
    },
    "id": "tbqu5r7rbbsX",
    "outputId": "6a1c65cd-e630-46cc-f998-5f76b1977cff"
   },
   "outputs": [
    {
     "name": "stdout",
     "output_type": "stream",
     "text": [
      "Test Stat = 0.9937, p-value = 0.0090\n",
      "Test Stat = 0.9908, p-value = 0.0244\n"
     ]
    }
   ],
   "source": [
    "test_stat, pvalue = shapiro(df.loc[df['test preparation course'] == 'none', \"total_score\"])\n",
    "print('Test Stat = %.4f, p-value = %.4f' % (test_stat, pvalue))\n",
    "\n",
    "test_stat, pvalue = shapiro(df.loc[df['test preparation course'] == 'completed', 'total_score'])\n",
    "print('Test Stat = %.4f, p-value = %.4f' % (test_stat, pvalue))"
   ]
  },
  {
   "cell_type": "code",
   "execution_count": 25,
   "metadata": {
    "colab": {
     "base_uri": "https://localhost:8080/"
    },
    "id": "if3fgA-Vbq0f",
    "outputId": "0daf37a3-a859-4ee1-dd2e-f5d85a05f523"
   },
   "outputs": [
    {
     "name": "stdout",
     "output_type": "stream",
     "text": [
      "Test Stat = 79516.5000, p-value = 0.0000\n"
     ]
    }
   ],
   "source": [
    "test_stat, pvalue = mannwhitneyu(df.loc[df['test preparation course'] == 'none', \"total_score\"],\n",
    "                                 df.loc[df['test preparation course'] == 'completed', \"total_score\"])\n",
    "\n",
    "print('Test Stat = %.4f, p-value = %.4f' % (test_stat, pvalue))"
   ]
  },
  {
   "cell_type": "code",
   "execution_count": 26,
   "metadata": {
    "id": "NIcdAQcrcMok"
   },
   "outputs": [],
   "source": [
    "# Since p < 0.05, the preparation courses have an impact on exam performance."
   ]
  },
  {
   "cell_type": "markdown",
   "metadata": {
    "id": "uAtK5bsTQDF8"
   },
   "source": [
    "**(4)** Which lessons are most correlated with each other?"
   ]
  },
  {
   "cell_type": "code",
   "execution_count": 27,
   "metadata": {
    "colab": {
     "base_uri": "https://localhost:8080/",
     "height": 379
    },
    "id": "NVYhnL0PQDF8",
    "outputId": "d191cfb7-a9c6-4924-86ac-a82c947f2926"
   },
   "outputs": [
    {
     "data": {
      "image/png": "[encoded data removed]",
      "text/plain": [
       "<Figure size 576x432 with 2 Axes>"
      ]
     },
     "metadata": {
      "needs_background": "light"
     },
     "output_type": "display_data"
    }
   ],
   "source": [
    "corr = df.corr()\n",
    "\n",
    "plt.figure(figsize=(8, 6))\n",
    "sns.heatmap(df.corr(), annot=True, fmt='.3f')\n",
    "plt.show()"
   ]
  }
 ],
 "metadata": {
  "colab": {
   "name": "A_06_DataExplorationMultivariateAnalysis_en.ipynb adlı not defterinin kopyası",
   "provenance": []
  },
  "kernelspec": {
   "display_name": "Python 3 (ipykernel)",
   "language": "python",
   "name": "python3"
  },
  "language_info": {
   "codemirror_mode": {
    "name": "ipython",
    "version": 3
   },
   "file_extension": ".py",
   "mimetype": "text/x-python",
   "name": "python",
   "nbconvert_exporter": "python",
   "pygments_lexer": "ipython3",
   "version": "3.8.2"
  }
 },
 "nbformat": 4,
 "nbformat_minor": 4
}
