{
 "cells": [
  {
   "cell_type": "markdown",
   "id": "a907fbcf-6951-429e-a2e4-c1c8fcbde332",
   "metadata": {
    "id": "a907fbcf-6951-429e-a2e4-c1c8fcbde332"
   },
   "source": [
    "  **(1)**  Let's assume that you have World Bank data on financial, economic and social indicators for several countries. You want to measure the factors that affect the level of development in these countries. To this end, you decide to use per capita income as a proxy for the development level, which is defined as the national income divided by the population. You want to use some features in your dataset to predict per capita income. Is this task a classification or a regression task? Why?\n"
   ]
  },
  {
   "cell_type": "markdown",
   "id": "22e130f5-f142-446a-a3ce-2d1229a75a48",
   "metadata": {
    "id": "22e130f5-f142-446a-a3ce-2d1229a75a48"
   },
   "source": [
    "This task is a regression task because this task is the problem of predicting a quantity output for our example."
   ]
  },
  {
   "cell_type": "markdown",
   "id": "17cf770d-8e33-4a7a-9243-578b88eb612c",
   "metadata": {
    "id": "17cf770d-8e33-4a7a-9243-578b88eb612c"
   },
   "source": [
    "**(2)** Which of the following arguments are false and why?\n",
    "\n",
    "\n",
    "  - OLS is a special type of linear regression models. **False->** It is just a method used to do linear regression. So , it's a common technique for estimating coefficients of a linear regression equation\n",
    "  - Regression models become useless if they don’t meet the assumptions of linear regression. **True**\n",
    "  - Estimation and prediction are the same thing in the context of linear regression models. **False->**  Estimation aims to find the optimal parameters. So , we estimate the regression coefficients . In addition , estimation is the calculated approximation of a result. Prediction is about the future.It's usually focused on outcomes.\n",
    "  - Linear regression model is only one kind of regression models. Regression problems can also be solved with other kind of models like Support Vector Machines or Random Forests.**True**"
   ]
  },
  {
   "cell_type": "markdown",
   "id": "49ad60f5-55a1-45ec-a6b7-9d7d322053c4",
   "metadata": {
    "id": "49ad60f5-55a1-45ec-a6b7-9d7d322053c4"
   },
   "source": [
    "**(3)** Assume that your project manager wants you to discover which free services your company offers make your customers buy more of your paid services. Formulate this task as a regression problem and write down the potential outcome and features that you’d like to work on."
   ]
  },
  {
   "cell_type": "markdown",
   "id": "831a57dd-9265-4ef8-9c80-99f7cfa0cb25",
   "metadata": {
    "id": "831a57dd-9265-4ef8-9c80-99f7cfa0cb25"
   },
   "source": [
    "We need to identify multiple features and then numerically evaluate the effects of those features on sales.\n",
    "For example, we can assume as output the amount of purchases of free services.Features include demographics of customers, characteristics of our service. "
   ]
  }
 ],
 "metadata": {
  "colab": {
   "name": "Regression_1.ipynb",
   "provenance": []
  },
  "kernelspec": {
   "display_name": "Python 3 (ipykernel)",
   "language": "python",
   "name": "python3"
  },
  "language_info": {
   "codemirror_mode": {
    "name": "ipython",
    "version": 3
   },
   "file_extension": ".py",
   "mimetype": "text/x-python",
   "name": "python",
   "nbconvert_exporter": "python",
   "pygments_lexer": "ipython3",
   "version": "3.8.2"
  }
 },
 "nbformat": 4,
 "nbformat_minor": 5
}
