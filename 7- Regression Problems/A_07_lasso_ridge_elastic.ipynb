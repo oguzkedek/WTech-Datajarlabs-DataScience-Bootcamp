{
 "cells": [
  {
   "cell_type": "markdown",
   "id": "8deb2687-0a8e-4501-9909-c09b61fc84b9",
   "metadata": {
    "id": "8deb2687-0a8e-4501-9909-c09b61fc84b9"
   },
   "source": [
    "In this assignment, you'll continue working with the house prices data. To complete this assignment, submit a link to a Jupyter notebook containing your solutions to the following tasks:\n",
    "\n"
   ]
  },
  {
   "cell_type": "code",
   "execution_count": 1,
   "id": "aeef5089-124b-4283-b7ec-f50816683fb8",
   "metadata": {
    "id": "aeef5089-124b-4283-b7ec-f50816683fb8"
   },
   "outputs": [],
   "source": [
    "import numpy as np\n",
    "import pandas as pd\n",
    "from sklearn.linear_model import LinearRegression\n",
    "from sklearn.model_selection import train_test_split\n",
    "from sklearn.metrics import mean_absolute_error\n",
    "import statsmodels.api as sm\n",
    "from statsmodels.tools.eval_measures import mse, rmse\n",
    "from sklearn.linear_model import LinearRegression,Ridge,Lasso,ElasticNet\n",
    "from sklearn.model_selection import GridSearchCV\n",
    "\n",
    "pd.options.display.float_format = '{:.3f}'.format"
   ]
  },
  {
   "cell_type": "code",
   "execution_count": 2,
   "id": "fc7c167f-44e3-4edf-bdff-bbc707efcbb8",
   "metadata": {
    "id": "fc7c167f-44e3-4edf-bdff-bbc707efcbb8",
    "outputId": "b6f60ba6-62db-481f-83c8-c275fd8d6c0f"
   },
   "outputs": [
    {
     "data": {
      "text/html": [
       "<div>\n",
       "<style scoped>\n",
       "    .dataframe tbody tr th:only-of-type {\n",
       "        vertical-align: middle;\n",
       "    }\n",
       "\n",
       "    .dataframe tbody tr th {\n",
       "        vertical-align: top;\n",
       "    }\n",
       "\n",
       "    .dataframe thead th {\n",
       "        text-align: right;\n",
       "    }\n",
       "</style>\n",
       "<table border=\"1\" class=\"dataframe\">\n",
       "  <thead>\n",
       "    <tr style=\"text-align: right;\">\n",
       "      <th></th>\n",
       "      <th>OverallQual</th>\n",
       "      <th>GrLivArea</th>\n",
       "      <th>GarageArea</th>\n",
       "      <th>TotalBsmtSF</th>\n",
       "      <th>SalePrice</th>\n",
       "      <th>HouseStyle_1.5Unf</th>\n",
       "      <th>HouseStyle_1Story</th>\n",
       "      <th>HouseStyle_2.5Fin</th>\n",
       "      <th>HouseStyle_2.5Unf</th>\n",
       "      <th>HouseStyle_2Story</th>\n",
       "      <th>...</th>\n",
       "      <th>HeatingQC_TA</th>\n",
       "      <th>BsmtQual_Fa</th>\n",
       "      <th>BsmtQual_Gd</th>\n",
       "      <th>BsmtQual_TA</th>\n",
       "      <th>ExterQual_Fa</th>\n",
       "      <th>ExterQual_Gd</th>\n",
       "      <th>ExterQual_TA</th>\n",
       "      <th>Fireplaces_1</th>\n",
       "      <th>Fireplaces_2</th>\n",
       "      <th>Fireplaces_3</th>\n",
       "    </tr>\n",
       "    <tr>\n",
       "      <th>Id</th>\n",
       "      <th></th>\n",
       "      <th></th>\n",
       "      <th></th>\n",
       "      <th></th>\n",
       "      <th></th>\n",
       "      <th></th>\n",
       "      <th></th>\n",
       "      <th></th>\n",
       "      <th></th>\n",
       "      <th></th>\n",
       "      <th></th>\n",
       "      <th></th>\n",
       "      <th></th>\n",
       "      <th></th>\n",
       "      <th></th>\n",
       "      <th></th>\n",
       "      <th></th>\n",
       "      <th></th>\n",
       "      <th></th>\n",
       "      <th></th>\n",
       "      <th></th>\n",
       "    </tr>\n",
       "  </thead>\n",
       "  <tbody>\n",
       "    <tr>\n",
       "      <th>1</th>\n",
       "      <td>0.500</td>\n",
       "      <td>0.380</td>\n",
       "      <td>0.282</td>\n",
       "      <td>-0.270</td>\n",
       "      <td>208500</td>\n",
       "      <td>0</td>\n",
       "      <td>0</td>\n",
       "      <td>0</td>\n",
       "      <td>0</td>\n",
       "      <td>1</td>\n",
       "      <td>...</td>\n",
       "      <td>0</td>\n",
       "      <td>0</td>\n",
       "      <td>1</td>\n",
       "      <td>0</td>\n",
       "      <td>0</td>\n",
       "      <td>1</td>\n",
       "      <td>0</td>\n",
       "      <td>0</td>\n",
       "      <td>0</td>\n",
       "      <td>0</td>\n",
       "    </tr>\n",
       "    <tr>\n",
       "      <th>2</th>\n",
       "      <td>0.000</td>\n",
       "      <td>-0.312</td>\n",
       "      <td>-0.083</td>\n",
       "      <td>0.538</td>\n",
       "      <td>181500</td>\n",
       "      <td>0</td>\n",
       "      <td>1</td>\n",
       "      <td>0</td>\n",
       "      <td>0</td>\n",
       "      <td>0</td>\n",
       "      <td>...</td>\n",
       "      <td>0</td>\n",
       "      <td>0</td>\n",
       "      <td>1</td>\n",
       "      <td>0</td>\n",
       "      <td>0</td>\n",
       "      <td>0</td>\n",
       "      <td>1</td>\n",
       "      <td>1</td>\n",
       "      <td>0</td>\n",
       "      <td>0</td>\n",
       "    </tr>\n",
       "    <tr>\n",
       "      <th>3</th>\n",
       "      <td>0.500</td>\n",
       "      <td>0.497</td>\n",
       "      <td>0.530</td>\n",
       "      <td>-0.142</td>\n",
       "      <td>223500</td>\n",
       "      <td>0</td>\n",
       "      <td>0</td>\n",
       "      <td>0</td>\n",
       "      <td>0</td>\n",
       "      <td>1</td>\n",
       "      <td>...</td>\n",
       "      <td>0</td>\n",
       "      <td>0</td>\n",
       "      <td>1</td>\n",
       "      <td>0</td>\n",
       "      <td>0</td>\n",
       "      <td>1</td>\n",
       "      <td>0</td>\n",
       "      <td>1</td>\n",
       "      <td>0</td>\n",
       "      <td>0</td>\n",
       "    </tr>\n",
       "    <tr>\n",
       "      <th>4</th>\n",
       "      <td>0.500</td>\n",
       "      <td>0.391</td>\n",
       "      <td>0.671</td>\n",
       "      <td>-0.469</td>\n",
       "      <td>140000</td>\n",
       "      <td>0</td>\n",
       "      <td>0</td>\n",
       "      <td>0</td>\n",
       "      <td>0</td>\n",
       "      <td>1</td>\n",
       "      <td>...</td>\n",
       "      <td>0</td>\n",
       "      <td>0</td>\n",
       "      <td>0</td>\n",
       "      <td>1</td>\n",
       "      <td>0</td>\n",
       "      <td>0</td>\n",
       "      <td>1</td>\n",
       "      <td>1</td>\n",
       "      <td>0</td>\n",
       "      <td>0</td>\n",
       "    </tr>\n",
       "    <tr>\n",
       "      <th>5</th>\n",
       "      <td>1.000</td>\n",
       "      <td>1.134</td>\n",
       "      <td>1.474</td>\n",
       "      <td>0.305</td>\n",
       "      <td>250000</td>\n",
       "      <td>0</td>\n",
       "      <td>0</td>\n",
       "      <td>0</td>\n",
       "      <td>0</td>\n",
       "      <td>1</td>\n",
       "      <td>...</td>\n",
       "      <td>0</td>\n",
       "      <td>0</td>\n",
       "      <td>1</td>\n",
       "      <td>0</td>\n",
       "      <td>0</td>\n",
       "      <td>1</td>\n",
       "      <td>0</td>\n",
       "      <td>1</td>\n",
       "      <td>0</td>\n",
       "      <td>0</td>\n",
       "    </tr>\n",
       "  </tbody>\n",
       "</table>\n",
       "<p>5 rows × 42 columns</p>\n",
       "</div>"
      ],
      "text/plain": [
       "    OverallQual  GrLivArea  GarageArea  TotalBsmtSF  SalePrice  \\\n",
       "Id                                                               \n",
       "1         0.500      0.380       0.282       -0.270     208500   \n",
       "2         0.000     -0.312      -0.083        0.538     181500   \n",
       "3         0.500      0.497       0.530       -0.142     223500   \n",
       "4         0.500      0.391       0.671       -0.469     140000   \n",
       "5         1.000      1.134       1.474        0.305     250000   \n",
       "\n",
       "    HouseStyle_1.5Unf  HouseStyle_1Story  HouseStyle_2.5Fin  \\\n",
       "Id                                                            \n",
       "1                   0                  0                  0   \n",
       "2                   0                  1                  0   \n",
       "3                   0                  0                  0   \n",
       "4                   0                  0                  0   \n",
       "5                   0                  0                  0   \n",
       "\n",
       "    HouseStyle_2.5Unf  HouseStyle_2Story  ...  HeatingQC_TA  BsmtQual_Fa  \\\n",
       "Id                                        ...                              \n",
       "1                   0                  1  ...             0            0   \n",
       "2                   0                  0  ...             0            0   \n",
       "3                   0                  1  ...             0            0   \n",
       "4                   0                  1  ...             0            0   \n",
       "5                   0                  1  ...             0            0   \n",
       "\n",
       "    BsmtQual_Gd  BsmtQual_TA  ExterQual_Fa  ExterQual_Gd  ExterQual_TA  \\\n",
       "Id                                                                       \n",
       "1             1            0             0             1             0   \n",
       "2             1            0             0             0             1   \n",
       "3             1            0             0             1             0   \n",
       "4             0            1             0             0             1   \n",
       "5             1            0             0             1             0   \n",
       "\n",
       "    Fireplaces_1  Fireplaces_2  Fireplaces_3  \n",
       "Id                                            \n",
       "1              0             0             0  \n",
       "2              1             0             0  \n",
       "3              1             0             0  \n",
       "4              1             0             0  \n",
       "5              1             0             0  \n",
       "\n",
       "[5 rows x 42 columns]"
      ]
     },
     "execution_count": 2,
     "metadata": {},
     "output_type": "execute_result"
    }
   ],
   "source": [
    "df = pd.read_csv(\"house_df.csv\", index_col=0)\n",
    "df.head()"
   ]
  },
  {
   "cell_type": "markdown",
   "id": "e3851242-9402-4835-85ab-19d925ad4b06",
   "metadata": {
    "id": "e3851242-9402-4835-85ab-19d925ad4b06"
   },
   "source": [
    "- Reimplement your model from the previous lesson."
   ]
  },
  {
   "cell_type": "code",
   "execution_count": 3,
   "id": "5c099f07-5fd7-48e9-986c-b3e60109f3de",
   "metadata": {
    "id": "5c099f07-5fd7-48e9-986c-b3e60109f3de"
   },
   "outputs": [],
   "source": [
    "y = df['SalePrice']\n",
    "X = df.drop('SalePrice',axis=1)"
   ]
  },
  {
   "cell_type": "code",
   "execution_count": 4,
   "id": "9ddb2785-a1fc-4a5b-96f7-619df779bf67",
   "metadata": {
    "id": "9ddb2785-a1fc-4a5b-96f7-619df779bf67",
    "outputId": "ba81b3b4-0846-458c-94f6-0f86d1d1076c"
   },
   "outputs": [
    {
     "name": "stdout",
     "output_type": "stream",
     "text": [
      "The number of observations in training set is 1095\n",
      "The number of observations in test set is 365\n"
     ]
    }
   ],
   "source": [
    "X_train, X_test, y_train, y_test = train_test_split(X, y, test_size = 0.25, random_state = 42)\n",
    "\n",
    "print(\"The number of observations in training set is {}\".format(X_train.shape[0]))\n",
    "print(\"The number of observations in test set is {}\".format(X_test.shape[0]))"
   ]
  },
  {
   "cell_type": "code",
   "execution_count": 5,
   "id": "995bd5d4-b78e-474d-955a-6abc2447b3d7",
   "metadata": {
    "id": "995bd5d4-b78e-474d-955a-6abc2447b3d7"
   },
   "outputs": [],
   "source": [
    "def run_evaluate(model):\n",
    "    \n",
    "    model.fit(X_train, y_train)\n",
    "    y_preds_train = model.predict(X_train)\n",
    "    y_preds_test = model.predict(X_test)\n",
    "    print(\"R-squared of the model in training set is: {}\".format(model.score(X_train, y_train)))\n",
    "    print(\"\\n-----Test set statistics-----\\n\")\n",
    "    print(\"R-squared of the model in test set is: {}\".format(model.score(X_test, y_test)))\n",
    "    print(\"Mean absolute error of the prediction is: {}\".format(mean_absolute_error(y_test, y_preds_test)))\n",
    "    print(\"Mean squared error of the prediction is: {}\".format(mse(y_test, y_preds_test)))\n",
    "    print(\"Root mean squared error of the prediction is: {}\".format(rmse(y_test, y_preds_test)))\n",
    "    print(\"Mean absolute percentage error of the prediction is: {}\".format(np.mean(np.abs((y_test - y_preds_test) / y_test)) * 100))\n",
    "    print(end='\\n')"
   ]
  },
  {
   "cell_type": "code",
   "execution_count": 6,
   "id": "523f72e8-ecc0-4a1a-b43b-9189efc7bad8",
   "metadata": {
    "id": "523f72e8-ecc0-4a1a-b43b-9189efc7bad8",
    "outputId": "ef751954-9d2b-46b2-be04-6522b2565de7"
   },
   "outputs": [
    {
     "name": "stdout",
     "output_type": "stream",
     "text": [
      "R-squared of the model in training set is: 0.812209309998961\n",
      "\n",
      "-----Test set statistics-----\n",
      "\n",
      "R-squared of the model in test set is: 0.8239861110775377\n",
      "Mean absolute error of the prediction is: 22432.456398514263\n",
      "Mean squared error of the prediction is: 1233031689.405973\n",
      "Root mean squared error of the prediction is: 35114.5509640373\n",
      "Mean absolute percentage error of the prediction is: 13.163181677122026\n",
      "\n"
     ]
    }
   ],
   "source": [
    "lrm = LinearRegression()\n",
    "run_evaluate(lrm)"
   ]
  },
  {
   "cell_type": "markdown",
   "id": "d34b7fd3-1cc9-4706-b3dd-b7e60335169f",
   "metadata": {
    "id": "d34b7fd3-1cc9-4706-b3dd-b7e60335169f"
   },
   "source": [
    "- Try OLS, Lasso, Ridge and ElasticNet regressions using the same model specification. This time, you need to do k-fold cross-validation to choose the best hyperparameter values for your models. Which model is the best? Why?"
   ]
  },
  {
   "cell_type": "code",
   "execution_count": 7,
   "id": "69fc9c51-108a-41e8-8b67-3deaa38df09a",
   "metadata": {
    "id": "69fc9c51-108a-41e8-8b67-3deaa38df09a",
    "outputId": "f7647fe6-6eb8-441c-a600-f6c0afc87d8f"
   },
   "outputs": [
    {
     "name": "stdout",
     "output_type": "stream",
     "text": [
      "Lasso :\n",
      "R-squared of the model in training set is: 0.81220804243417\n",
      "\n",
      "-----Test set statistics-----\n",
      "\n",
      "R-squared of the model in test set is: 0.8240759292560853\n",
      "Mean absolute error of the prediction is: 22439.547201689373\n",
      "Mean squared error of the prediction is: 1232402485.306729\n",
      "Root mean squared error of the prediction is: 35105.59051357389\n",
      "Mean absolute percentage error of the prediction is: 13.17122445827982\n",
      "\n",
      "----------------------------------------------------------------------\n",
      "\n",
      "Ridge :\n",
      "R-squared of the model in training set is: 0.811278705465917\n",
      "\n",
      "-----Test set statistics-----\n",
      "\n",
      "R-squared of the model in test set is: 0.8320550151288888\n",
      "Mean absolute error of the prediction is: 22368.398373259333\n",
      "Mean squared error of the prediction is: 1176506522.8125856\n",
      "Root mean squared error of the prediction is: 34300.24085648067\n",
      "Mean absolute percentage error of the prediction is: 13.19309262599559\n",
      "\n",
      "----------------------------------------------------------------------\n",
      "\n",
      "ElasticNet:\n",
      "R-squared of the model in training set is: 0.7236117042306289\n",
      "\n",
      "-----Test set statistics-----\n",
      "\n",
      "R-squared of the model in test set is: 0.7441690869574279\n",
      "Mean absolute error of the prediction is: 24406.714318017017\n",
      "Mean squared error of the prediction is: 1792174611.0053642\n",
      "Root mean squared error of the prediction is: 42334.08332544079\n",
      "Mean absolute percentage error of the prediction is: 14.106999854129928\n",
      "\n"
     ]
    }
   ],
   "source": [
    "lasso = Lasso()\n",
    "print('Lasso :')\n",
    "run_evaluate(model=lasso)\n",
    "print('-'*70,end='\\n\\n')\n",
    "ridge = Ridge()\n",
    "print('Ridge :')\n",
    "run_evaluate(model=ridge)\n",
    "print('-'*70,end='\\n\\n')\n",
    "elastic = ElasticNet()\n",
    "print('ElasticNet:')\n",
    "run_evaluate(model=elastic)"
   ]
  },
  {
   "cell_type": "code",
   "execution_count": 8,
   "id": "efa11fbd-709b-45e4-a1ba-a0ffba682267",
   "metadata": {
    "id": "efa11fbd-709b-45e4-a1ba-a0ffba682267"
   },
   "outputs": [],
   "source": [
    "lambdas = 10**np.linspace(10,-2,100)*0.5\n",
    "\n",
    "from sklearn.linear_model import RidgeCV\n",
    "ridge_cv = RidgeCV(alphas = lambdas, \n",
    "                   scoring = \"neg_mean_squared_error\",\n",
    "                   normalize = True)"
   ]
  },
  {
   "cell_type": "code",
   "execution_count": 9,
   "id": "19d53161-d142-4ad0-8dd5-b29e17298a67",
   "metadata": {
    "id": "19d53161-d142-4ad0-8dd5-b29e17298a67",
    "outputId": "b8ca6c1b-29d3-4535-c9a7-379fc909cb3d",
    "tags": []
   },
   "outputs": [
    {
     "name": "stderr",
     "output_type": "stream",
     "text": [
      "/opt/anaconda3/lib/python3.8/site-packages/sklearn/linear_model/_base.py:141: FutureWarning: 'normalize' was deprecated in version 1.0 and will be removed in 1.2.\n",
      "If you wish to scale the data, use Pipeline with a StandardScaler in a preprocessing stage. To reproduce the previous behavior:\n",
      "\n",
      "from sklearn.pipeline import make_pipeline\n",
      "\n",
      "model = make_pipeline(StandardScaler(with_mean=False), _RidgeGCV())\n",
      "\n",
      "If you wish to pass a sample_weight parameter, you need to pass it as a fit parameter to each step of the pipeline as follows:\n",
      "\n",
      "kwargs = {s[0] + '__sample_weight': sample_weight for s in model.steps}\n",
      "model.fit(X, y, **kwargs)\n",
      "\n",
      "\n",
      "  warnings.warn(\n"
     ]
    }
   ],
   "source": [
    "ridge_cv.fit(X_train, y_train)\n",
    "ridge_alpha = ridge_cv.alpha_"
   ]
  },
  {
   "cell_type": "code",
   "execution_count": 10,
   "id": "450db253-67ae-406f-a176-05f3d49609a4",
   "metadata": {
    "id": "450db253-67ae-406f-a176-05f3d49609a4",
    "outputId": "b5cd9e87-673e-49b3-bb0c-0151338703d6",
    "tags": []
   },
   "outputs": [
    {
     "name": "stderr",
     "output_type": "stream",
     "text": [
      "/opt/anaconda3/lib/python3.8/site-packages/sklearn/linear_model/_base.py:141: FutureWarning: 'normalize' was deprecated in version 1.0 and will be removed in 1.2.\n",
      "If you wish to scale the data, use Pipeline with a StandardScaler in a preprocessing stage. To reproduce the previous behavior:\n",
      "\n",
      "from sklearn.pipeline import make_pipeline\n",
      "\n",
      "model = make_pipeline(StandardScaler(with_mean=False), Lasso())\n",
      "\n",
      "If you wish to pass a sample_weight parameter, you need to pass it as a fit parameter to each step of the pipeline as follows:\n",
      "\n",
      "kwargs = {s[0] + '__sample_weight': sample_weight for s in model.steps}\n",
      "model.fit(X, y, **kwargs)\n",
      "\n",
      "Set parameter alpha to: original_alpha * np.sqrt(n_samples). \n",
      "  warnings.warn(\n"
     ]
    }
   ],
   "source": [
    "from sklearn.linear_model import LassoCV\n",
    "\n",
    "lasso_cv_model = LassoCV(alphas = lambdas, \n",
    "                         cv = 10, \n",
    "                         max_iter = 10000, \n",
    "                         normalize = True)\n",
    "lasso_cv_model.fit(X_train,y_train)\n",
    "lasso_alpha = lasso_cv_model.alpha_\n"
   ]
  },
  {
   "cell_type": "code",
   "execution_count": 11,
   "id": "5522db7c-5a7d-4861-a380-6c89aad7f59f",
   "metadata": {
    "id": "5522db7c-5a7d-4861-a380-6c89aad7f59f"
   },
   "outputs": [],
   "source": [
    "from sklearn.linear_model import ElasticNetCV\n",
    "\n",
    "enet_cv_model = ElasticNetCV(alphas = lambdas, cv = 10, random_state = 0).fit(X_train, y_train)\n",
    "enet_alpha = enet_cv_model.alpha_"
   ]
  },
  {
   "cell_type": "code",
   "execution_count": 12,
   "id": "f84e07aa-b3df-407e-b218-02ff2162981f",
   "metadata": {
    "id": "f84e07aa-b3df-407e-b218-02ff2162981f",
    "outputId": "223ffead-b28f-411a-dcf7-288ae516dad2"
   },
   "outputs": [
    {
     "name": "stdout",
     "output_type": "stream",
     "text": [
      "Lasso :\n",
      "R-squared of the model in training set is: 0.8122092650812878\n",
      "\n",
      "-----Test set statistics-----\n",
      "\n",
      "R-squared of the model in test set is: 0.8240033825920773\n",
      "Mean absolute error of the prediction is: 22433.79109672145\n",
      "Mean squared error of the prediction is: 1232910697.1088214\n",
      "Root mean squared error of the prediction is: 35112.8280989843\n",
      "Mean absolute percentage error of the prediction is: 13.164695619984062\n",
      "\n",
      "----------------------------------------------------------------------\n",
      "\n",
      "Ridge :\n",
      "R-squared of the model in training set is: 0.8121517601958138\n",
      "\n",
      "-----Test set statistics-----\n",
      "\n",
      "R-squared of the model in test set is: 0.8263321046423304\n",
      "Mean absolute error of the prediction is: 22417.83839977261\n",
      "Mean squared error of the prediction is: 1216597279.4498003\n",
      "Root mean squared error of the prediction is: 34879.75457840551\n",
      "Mean absolute percentage error of the prediction is: 13.171927879834028\n",
      "\n",
      "----------------------------------------------------------------------\n",
      "\n",
      "ElasticNet:\n",
      "R-squared of the model in training set is: 0.8025212095763988\n",
      "\n",
      "-----Test set statistics-----\n",
      "\n",
      "R-squared of the model in test set is: 0.834283729666039\n",
      "Mean absolute error of the prediction is: 22387.23537130845\n",
      "Mean squared error of the prediction is: 1160893688.690407\n",
      "Root mean squared error of the prediction is: 34071.89000760608\n",
      "Mean absolute percentage error of the prediction is: 13.318747483850107\n",
      "\n"
     ]
    }
   ],
   "source": [
    "lasso = Lasso(alpha = ridge_alpha)\n",
    "print('Lasso :')\n",
    "run_evaluate(model=lasso)\n",
    "print('-'*70,end='\\n\\n')\n",
    "ridge = Ridge(alpha = ridge_alpha)\n",
    "print('Ridge :')\n",
    "run_evaluate(model=ridge)\n",
    "print('-'*70,end='\\n\\n')\n",
    "elastic = ElasticNet(alpha = enet_alpha)\n",
    "print('ElasticNet:')\n",
    "run_evaluate(model=elastic)"
   ]
  }
 ],
 "metadata": {
  "colab": {
   "name": "Reg_7.ipynb",
   "provenance": []
  },
  "kernelspec": {
   "display_name": "Python 3 (ipykernel)",
   "language": "python",
   "name": "python3"
  },
  "language_info": {
   "codemirror_mode": {
    "name": "ipython",
    "version": 3
   },
   "file_extension": ".py",
   "mimetype": "text/x-python",
   "name": "python",
   "nbconvert_exporter": "python",
   "pygments_lexer": "ipython3",
   "version": "3.8.2"
  }
 },
 "nbformat": 4,
 "nbformat_minor": 5
}
