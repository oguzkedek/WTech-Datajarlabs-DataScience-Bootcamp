{
 "cells": [
  {
   "cell_type": "markdown",
   "metadata": {
    "id": "2MnBfHrhkY_W"
   },
   "source": [
    "**(1)** Suppose you invested in Bitcoin at the end of 2017 when Bitcoin gained a lot of value. What would be your money at the end of a week if you had invested \\$1000 with an average daily increase of 12\\% ? You can solve the problem using Python."
   ]
  },
  {
   "cell_type": "code",
   "execution_count": 1,
   "metadata": {
    "colab": {
     "base_uri": "https://localhost:8080/"
    },
    "id": "sukX87HrhC9K",
    "outputId": "aa8180c9-e0de-4f10-998c-5dacdb618611"
   },
   "outputs": [
    {
     "name": "stdout",
     "output_type": "stream",
     "text": [
      "2210.681\n"
     ]
    }
   ],
   "source": [
    "investment = 1000\n",
    "i = 0\n",
    "\n",
    "while i < 7:\n",
    "    investment += investment * .12\n",
    "    i += 1\n",
    "print(f\"{investment:.3f}\")"
   ]
  },
  {
   "cell_type": "markdown",
   "metadata": {
    "id": "Kk0vsyA9kY_X"
   },
   "source": [
    "**(2)**  Print the text in quotes with Python. However, you must get the numbers from variables using `.format()` notation. <br> Because the text is long, you might consider writing in two lines:\n",
    "\n",
    "        `\"When we buy bitcoin with 1000 USD at the beginning of the week, we would earn 1210.68 USD at the end of the week, with an average gain of 12\\%.\"`"
   ]
  },
  {
   "cell_type": "code",
   "execution_count": 2,
   "metadata": {
    "colab": {
     "base_uri": "https://localhost:8080/"
    },
    "id": "z-D7CSBWhC9M",
    "outputId": "09a0eddc-51ee-4029-83ef-dae820e4714c"
   },
   "outputs": [
    {
     "name": "stdout",
     "output_type": "stream",
     "text": [
      "`\"When we buy bitcoin with 1000 USD at the beginning of the week, we would earn 1210.68 USD at the end of the week, with an average gain of 12\\%.\"`\n"
     ]
    }
   ],
   "source": [
    "beginning = 1000\n",
    "earn = 1210.68\n",
    "av_gain = 12\n",
    "\n",
    "print(\"\"\"`\"When we buy bitcoin with {} USD at the beginning of the week,\\\n",
    " we would earn {} USD at the end of the week, with an average gain of {}\\%.\"`\"\"\".format(beginning, earn, av_gain))"
   ]
  },
  {
   "cell_type": "markdown",
   "metadata": {
    "id": "UifLXZilkY_Y"
   },
   "source": [
    "**(3)**  Get the temperature in Fahrenheit from user and write a code to convert it to Celcius. For conversion, you can use this formula: C = (5/9) * (F - 32)\n",
    "\n",
    "        Enter the temperature in Fahrenheit: \n",
    "        user --> 26\n",
    "        output --> Temperature (C) : -3.33"
   ]
  },
  {
   "cell_type": "code",
   "execution_count": 3,
   "metadata": {
    "colab": {
     "base_uri": "https://localhost:8080/"
    },
    "id": "QB0joMsThC9M",
    "outputId": "e9a039ba-23b9-4dd9-d056-fa32e3cf0ee1"
   },
   "outputs": [
    {
     "name": "stdin",
     "output_type": "stream",
     "text": [
      "Enter the temperature in Fahrenheit :  26\n"
     ]
    },
    {
     "name": "stdout",
     "output_type": "stream",
     "text": [
      "Temperature (C) : -3.33\n"
     ]
    }
   ],
   "source": [
    "fahrenheit = int(input(\"Enter the temperature in Fahrenheit : \"))\n",
    "celcius = (5/9) * (fahrenheit-32)\n",
    "\n",
    "print(f\"Temperature (C) : {celcius:.2f}\")"
   ]
  },
  {
   "cell_type": "markdown",
   "metadata": {
    "id": "IJSruOwzkY_Y"
   },
   "source": [
    "**(4)**  Get a three digit number the from user and calculate the sum of the digits in the integer.\n",
    "\n",
    "        user --> 365\n",
    "        output --> \"The sum of digits in the number is 14"
   ]
  },
  {
   "cell_type": "code",
   "execution_count": 4,
   "metadata": {
    "colab": {
     "base_uri": "https://localhost:8080/"
    },
    "id": "bxZI_l2shC9N",
    "outputId": "8e8f057f-770a-437e-b0d7-d91b7660aa8d"
   },
   "outputs": [
    {
     "name": "stdin",
     "output_type": "stream",
     "text": [
      "Input a three digit number : 365\n"
     ]
    },
    {
     "name": "stdout",
     "output_type": "stream",
     "text": [
      "The sum of digits in the number is 14\n"
     ]
    }
   ],
   "source": [
    "number = input(\"Input a three digit number :\")\n",
    "sum = int(number[0]) + int(number[1]) + int(number[2])\n",
    "\n",
    "print(f\"The sum of digits in the number is {sum}\")"
   ]
  },
  {
   "cell_type": "markdown",
   "metadata": {
    "id": "s4ncKZc1kY_Z"
   },
   "source": [
    "**(5)**  Write some code to calculate the hypotenuse of a right angled triangle. Get the side lengths from the user.\n",
    "\n",
    "        user --> first side lenth : 6\n",
    "        user --> first side lenth : 8\n",
    "        output --> \"The length of the hypotenuse is 10"
   ]
  },
  {
   "cell_type": "code",
   "execution_count": 5,
   "metadata": {
    "colab": {
     "base_uri": "https://localhost:8080/"
    },
    "id": "6xJh2gpThC9O",
    "outputId": "238480fd-3756-4b33-869a-7810334283ef"
   },
   "outputs": [
    {
     "name": "stdin",
     "output_type": "stream",
     "text": [
      "First side length :  6\n",
      "Second side length : 8\n"
     ]
    },
    {
     "name": "stdout",
     "output_type": "stream",
     "text": [
      "The length of the hypotenuse is 10.0\n"
     ]
    }
   ],
   "source": [
    "first_side = int(input(\"First side length : \"))\n",
    "second_side = int(input(\"Second side length :\"))\n",
    "hypotenuse = (first_side ** 2 + second_side ** 2) ** (1/2)\n",
    "\n",
    "print(f\"The length of the hypotenuse is {hypotenuse}\")"
   ]
  }
 ],
 "metadata": {
  "colab": {
   "name": "A_02_BasicDataTypes_en.ipynb adlı not defterinin kopyası",
   "provenance": []
  },
  "kernelspec": {
   "display_name": "Python 3 (ipykernel)",
   "language": "python",
   "name": "python3"
  },
  "language_info": {
   "codemirror_mode": {
    "name": "ipython",
    "version": 3
   },
   "file_extension": ".py",
   "mimetype": "text/x-python",
   "name": "python",
   "nbconvert_exporter": "python",
   "pygments_lexer": "ipython3",
   "version": "3.8.2"
  }
 },
 "nbformat": 4,
 "nbformat_minor": 4
}
