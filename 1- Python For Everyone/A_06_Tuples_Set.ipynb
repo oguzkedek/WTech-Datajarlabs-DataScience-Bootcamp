{
 "cells": [
  {
   "cell_type": "markdown",
   "metadata": {
    "id": "0o7qclj_18dR"
   },
   "source": [
    "**(1)** Create a tuple named \"week\" containing weekdays."
   ]
  },
  {
   "cell_type": "code",
   "execution_count": 1,
   "metadata": {
    "colab": {
     "base_uri": "https://localhost:8080/"
    },
    "id": "jGnje6MV18dT",
    "outputId": "126e40cb-72c3-4a64-f181-98f30dcf4d27"
   },
   "outputs": [
    {
     "name": "stdout",
     "output_type": "stream",
     "text": [
      "('Monday', 'Tuesday', 'Wednesday', 'Thursday', 'Friday')\n"
     ]
    }
   ],
   "source": [
    "week = ('Monday', 'Tuesday', 'Wednesday', 'Thursday', 'Friday')\n",
    "print(week)"
   ]
  },
  {
   "cell_type": "markdown",
   "metadata": {
    "id": "5YJPw4_I18dT"
   },
   "source": [
    "**(2)** Create a set named \"fruits\" containing followings: apple, mango, orange "
   ]
  },
  {
   "cell_type": "code",
   "execution_count": 2,
   "metadata": {
    "colab": {
     "base_uri": "https://localhost:8080/"
    },
    "id": "4FluSb2x18dU",
    "outputId": "d2259774-f925-420b-c3fb-dac26f026417"
   },
   "outputs": [
    {
     "name": "stdout",
     "output_type": "stream",
     "text": [
      "{'orange', 'mango', 'apple'}\n"
     ]
    }
   ],
   "source": [
    "fruits = set([\"apple\", \"mango\", \"orange\"])\n",
    "print(fruits)"
   ]
  },
  {
   "cell_type": "markdown",
   "metadata": {
    "id": "DJrHiwB_18dU"
   },
   "source": [
    "**(3)** Create a new set named \"new_fruits\" containing followings: cherry, peach, apple, mango"
   ]
  },
  {
   "cell_type": "code",
   "execution_count": 3,
   "metadata": {
    "colab": {
     "base_uri": "https://localhost:8080/"
    },
    "id": "Xut7nHRE18dV",
    "outputId": "e8595bcc-260d-4980-ba7a-7e0b75176f90"
   },
   "outputs": [
    {
     "name": "stdout",
     "output_type": "stream",
     "text": [
      "{'cherry', 'mango', 'peach', 'apple'}\n"
     ]
    }
   ],
   "source": [
    "new_fruits = {'cherry', 'peach', 'apple', 'mango'}\n",
    "print(new_fruits)"
   ]
  },
  {
   "cell_type": "markdown",
   "metadata": {
    "id": "rhA78Gp_18dV"
   },
   "source": [
    "**(4)** Find the fruits which are in new_fruits but not in fruits."
   ]
  },
  {
   "cell_type": "code",
   "execution_count": 4,
   "metadata": {
    "colab": {
     "base_uri": "https://localhost:8080/"
    },
    "id": "aIQN0rCa18dW",
    "outputId": "1f8a130c-592d-4b31-b254-d0b6c4521fea"
   },
   "outputs": [
    {
     "name": "stdout",
     "output_type": "stream",
     "text": [
      "Only in new fruits {'cherry', 'peach'}\n"
     ]
    }
   ],
   "source": [
    "diff = new_fruits.difference(fruits)\n",
    "print(f\"Only in new fruits {diff}\")"
   ]
  },
  {
   "cell_type": "markdown",
   "metadata": {
    "id": "RoNxg89418dW"
   },
   "source": [
    "**(5)** Find the fruits which are in both new_fruits and fruits."
   ]
  },
  {
   "cell_type": "code",
   "execution_count": 5,
   "metadata": {
    "colab": {
     "base_uri": "https://localhost:8080/"
    },
    "id": "RtIF9jy618dX",
    "outputId": "192ae71a-e007-446c-b803-221ab57c318c"
   },
   "outputs": [
    {
     "name": "stdout",
     "output_type": "stream",
     "text": [
      "Both in new fruits {'mango', 'apple'}\n"
     ]
    }
   ],
   "source": [
    "isc = new_fruits.intersection(fruits)\n",
    "print(f\"Both in new fruits {isc}\")"
   ]
  }
 ],
 "metadata": {
  "colab": {
   "name": "A_06_Tuples_Set_en.ipynb adlı not defterinin kopyası",
   "provenance": []
  },
  "kernelspec": {
   "display_name": "Python 3 (ipykernel)",
   "language": "python",
   "name": "python3"
  },
  "language_info": {
   "codemirror_mode": {
    "name": "ipython",
    "version": 3
   },
   "file_extension": ".py",
   "mimetype": "text/x-python",
   "name": "python",
   "nbconvert_exporter": "python",
   "pygments_lexer": "ipython3",
   "version": "3.8.2"
  }
 },
 "nbformat": 4,
 "nbformat_minor": 4
}
