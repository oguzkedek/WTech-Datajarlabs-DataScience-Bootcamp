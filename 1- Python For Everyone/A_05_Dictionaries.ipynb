{
 "cells": [
  {
   "cell_type": "markdown",
   "metadata": {
    "id": "G-dc3Rss-cOv"
   },
   "source": [
    "**(1)** Create a dictionary with 7 days. Ask the user to choose 2 different days by listing the (e.g. \"12\" for Monday and Tuesday). Delete the user-selected days from the dictionary and print the remaining 5 days on the screen.<br><br>"
   ]
  },
  {
   "cell_type": "code",
   "execution_count": 1,
   "metadata": {
    "colab": {
     "base_uri": "https://localhost:8080/"
    },
    "id": "R-fRlCVk-cOv",
    "outputId": "09a0ecc7-362a-4382-cd17-f72420f336cb"
   },
   "outputs": [
    {
     "name": "stdin",
     "output_type": "stream",
     "text": [
      "Write two days to delete (e.g. \"25\"): 25\n"
     ]
    },
    {
     "name": "stdout",
     "output_type": "stream",
     "text": [
      "{1: 'Monday', 3: 'Wednesday', 4: 'Thursday', 6: 'Saturday', 7: 'Sunday'}\n"
     ]
    }
   ],
   "source": [
    "days = {\n",
    "    1: 'Monday',\n",
    "    2: 'Tuesday',\n",
    "    3: 'Wednesday',\n",
    "    4: 'Thursday',\n",
    "    5: 'Friday',\n",
    "    6: 'Saturday',\n",
    "    7: 'Sunday',\n",
    "} \n",
    "\n",
    "chosen = input('Write two days to delete (e.g. \"25\"):')\n",
    "\n",
    "del days[int(chosen[0])]\n",
    "del days[int(chosen[1])]\n",
    "\n",
    "print(days)"
   ]
  },
  {
   "cell_type": "markdown",
   "metadata": {
    "id": "7YruQj1L-cOw"
   },
   "source": [
    "**(2)**  Create a dictionary with the following personnel. Use names as keys.\n",
    "\n",
    "|Name|Age|Sex|\n",
    "|-|-|-|\n",
    "|John|25|Male|\n",
    "|Lisa|28|Female|\n",
    "|Linda|32|Female|\n",
    "|Michael|41|Male|"
   ]
  },
  {
   "cell_type": "code",
   "execution_count": 2,
   "metadata": {
    "id": "pbuXwn2W-cO1"
   },
   "outputs": [],
   "source": [
    "personnel = {'John': {'Age': 25,\n",
    "                      'Sex': 'Male'},\n",
    "             'Lisa': {'Age': 28,\n",
    "                      'Sex': 'Female'},\n",
    "             'Linda': {'Age': 32,\n",
    "                       'Sex': 'Female'},\n",
    "             'Michael': {'Age': 41,\n",
    "                         'Sex': 'Male'}\n",
    "             }"
   ]
  },
  {
   "cell_type": "code",
   "execution_count": 3,
   "metadata": {
    "id": "WobtqflyKhr3"
   },
   "outputs": [],
   "source": [
    "#method of using list as value\n",
    "\n",
    "personnel_list = {'John': [25, 'Male'],\n",
    "                  'Lisa': [28, 'Female'],\n",
    "                  'Linda': [32, 'Female'],\n",
    "                  'Michael': [41, 'Male']}"
   ]
  },
  {
   "cell_type": "markdown",
   "metadata": {
    "id": "O4w6rGz3-cO4"
   },
   "source": [
    "**(3)** Add child information to Michael and Linda. Michael has two children (Karen (age : 12, female) and Greg (age : 7, male) and Linda has one child (Susan (age: 6, female))"
   ]
  },
  {
   "cell_type": "code",
   "execution_count": 4,
   "metadata": {
    "colab": {
     "base_uri": "https://localhost:8080/"
    },
    "id": "g2o6TR1H-cO4",
    "outputId": "f029cd82-6037-4721-c70d-09df58159616"
   },
   "outputs": [
    {
     "name": "stdout",
     "output_type": "stream",
     "text": [
      "{'John': {'Age': 25, 'Sex': 'Male'}, 'Lisa': {'Age': 28, 'Sex': 'Female'}, 'Linda': {'Age': 32, 'Sex': 'Female', 'Children': {'Greg': {'Age': 7, 'Sex': 'Male'}}}, 'Michael': {'Age': 41, 'Sex': 'Male', 'Children': {'Karen': {'Age': 12, 'Sex': 'Female'}, 'Greg': {'Age': 7, 'Sex': 'Male'}}}}\n"
     ]
    }
   ],
   "source": [
    "personnel.update({'Michael': {'Age': 41,\n",
    "                              'Sex': 'Male',\n",
    "                              'Children': {'Karen': {'Age': 12,\n",
    "                                                     'Sex': 'Female'},\n",
    "                                           'Greg': {'Age': 7,\n",
    "                                                    'Sex': 'Male'}}}})\n",
    "\n",
    "personnel.update({'Linda': {'Age': 32,\n",
    "                            'Sex': 'Female',\n",
    "                            'Children': {'Greg': {'Age': 7,\n",
    "                                                  'Sex': 'Male'}}}})\n",
    "print(personnel)"
   ]
  },
  {
   "cell_type": "code",
   "execution_count": 5,
   "metadata": {
    "colab": {
     "base_uri": "https://localhost:8080/"
    },
    "id": "vnp-tYABLUW2",
    "outputId": "c02ebb99-eb63-427e-b997-f85cc7d546a7"
   },
   "outputs": [
    {
     "name": "stdout",
     "output_type": "stream",
     "text": [
      "{'John': [25, 'Male'], 'Lisa': [28, 'Female'], 'Linda': [32, 'Female', {'Children': {'Susan': [6, 'Female']}}], 'Michael': [41, 'Male', {'Children': {'Karen': [12, 'Female'], 'Greg': [7, 'Male']}}]}\n"
     ]
    }
   ],
   "source": [
    "#method of using list as value\n",
    "\n",
    "personnel_list['Michael'].append({'Children': {'Karen': [12, 'Female'],\n",
    "                                               'Greg': [7, 'Male']}})\n",
    "\n",
    "personnel_list['Linda'].append({'Children': {'Susan': [6, 'Female']}})\n",
    "\n",
    "print(personnel_list)"
   ]
  },
  {
   "cell_type": "markdown",
   "metadata": {
    "id": "GHmgjKU7-cO4"
   },
   "source": [
    "**(4)** Print the names of Michael's children in a list."
   ]
  },
  {
   "cell_type": "code",
   "execution_count": 6,
   "metadata": {
    "colab": {
     "base_uri": "https://localhost:8080/"
    },
    "id": "gowZJEm8-cO4",
    "outputId": "41a84b35-fa6f-45ce-cf35-e12503dd7858"
   },
   "outputs": [
    {
     "data": {
      "text/plain": [
       "['Karen', 'Greg']"
      ]
     },
     "execution_count": 6,
     "metadata": {},
     "output_type": "execute_result"
    }
   ],
   "source": [
    "list(personnel['Michael']['Children'].keys())"
   ]
  },
  {
   "cell_type": "code",
   "execution_count": 7,
   "metadata": {
    "colab": {
     "base_uri": "https://localhost:8080/"
    },
    "id": "lmDT4fDAMETQ",
    "outputId": "87f463a8-e99b-460b-eb26-b3469a3a2e12"
   },
   "outputs": [
    {
     "data": {
      "text/plain": [
       "['Karen', 'Greg']"
      ]
     },
     "execution_count": 7,
     "metadata": {},
     "output_type": "execute_result"
    }
   ],
   "source": [
    "#method of using list as value\n",
    "\n",
    "list(personnel_list['Michael'][2]['Children'].keys())"
   ]
  }
 ],
 "metadata": {
  "colab": {
   "name": "A_05_Dictionaries_en.ipynb adlı not defterinin kopyası",
   "provenance": []
  },
  "kernelspec": {
   "display_name": "Python 3 (ipykernel)",
   "language": "python",
   "name": "python3"
  },
  "language_info": {
   "codemirror_mode": {
    "name": "ipython",
    "version": 3
   },
   "file_extension": ".py",
   "mimetype": "text/x-python",
   "name": "python",
   "nbconvert_exporter": "python",
   "pygments_lexer": "ipython3",
   "version": "3.8.2"
  }
 },
 "nbformat": 4,
 "nbformat_minor": 4
}
