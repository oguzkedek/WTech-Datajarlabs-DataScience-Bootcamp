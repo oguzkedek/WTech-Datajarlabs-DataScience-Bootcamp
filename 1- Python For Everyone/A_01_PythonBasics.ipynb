{
 "cells": [
  {
   "cell_type": "markdown",
   "metadata": {
    "id": "7yJWDdXYiZq_"
   },
   "source": [
    "**(1)** Write a code that outputs your name and surname in one line."
   ]
  },
  {
   "cell_type": "code",
   "execution_count": 1,
   "metadata": {
    "colab": {
     "base_uri": "https://localhost:8080/"
    },
    "id": "4XfGh1bqiZq_",
    "outputId": "3a7f9a66-0663-43ed-dc7e-4e5fd7e30d51"
   },
   "outputs": [
    {
     "name": "stdout",
     "output_type": "stream",
     "text": [
      "John Brown\n"
     ]
    }
   ],
   "source": [
    "name = 'John'\n",
    "surname = 'Brown'\n",
    "print(name, surname)"
   ]
  },
  {
   "cell_type": "markdown",
   "metadata": {
    "id": "honld9ReiZrB"
   },
   "source": [
    "**(2)** Write a 1-line code that outputs your name and surname in two separate lines by using a single `print()` call."
   ]
  },
  {
   "cell_type": "code",
   "execution_count": 2,
   "metadata": {
    "colab": {
     "base_uri": "https://localhost:8080/"
    },
    "id": "CFrKQC6liZrB",
    "outputId": "e3c48112-af95-4cb6-c587-ba40ab8437aa"
   },
   "outputs": [
    {
     "name": "stdout",
     "output_type": "stream",
     "text": [
      "John\n",
      "Brown\n"
     ]
    }
   ],
   "source": [
    "print(name, surname, sep='\\n')"
   ]
  },
  {
   "cell_type": "markdown",
   "metadata": {
    "id": "JQ2-qXDjiZrB"
   },
   "source": [
    "**(3)** Use a single `print()` function that returns the following text. Notice the quotes in the text. Those quotes should be seen in the output!: \n",
    "\n",
    "`She will be a \"champion\" even if she finishes the race in '2nd' place`\n"
   ]
  },
  {
   "cell_type": "code",
   "execution_count": 3,
   "metadata": {
    "colab": {
     "base_uri": "https://localhost:8080/"
    },
    "id": "ZrNgHHQsiZrB",
    "outputId": "39ce60ed-f3f7-4a0f-9954-96b49fe8f671"
   },
   "outputs": [
    {
     "name": "stdout",
     "output_type": "stream",
     "text": [
      "She will be a \"champion\" even if she finishes the race in '2nd' place\n"
     ]
    }
   ],
   "source": [
    "print(\"\"\"She will be a \"champion\" even if she finishes the race in '2nd' place\"\"\")"
   ]
  }
 ],
 "metadata": {
  "colab": {
   "collapsed_sections": [],
   "name": "A_01_PythonBasics_en.ipynb adlı not defterinin kopyası",
   "provenance": []
  },
  "kernelspec": {
   "display_name": "Python 3 (ipykernel)",
   "language": "python",
   "name": "python3"
  },
  "language_info": {
   "codemirror_mode": {
    "name": "ipython",
    "version": 3
   },
   "file_extension": ".py",
   "mimetype": "text/x-python",
   "name": "python",
   "nbconvert_exporter": "python",
   "pygments_lexer": "ipython3",
   "version": "3.8.2"
  }
 },
 "nbformat": 4,
 "nbformat_minor": 4
}
