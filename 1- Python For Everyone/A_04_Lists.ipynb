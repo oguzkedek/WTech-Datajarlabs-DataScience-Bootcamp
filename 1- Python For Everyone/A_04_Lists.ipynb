{
 "cells": [
  {
   "cell_type": "markdown",
   "metadata": {
    "id": "36H_hjv3FuXn"
   },
   "source": [
    "**1.** Write a code to compute the sum of the two lowest numbers and the two highest numbers in the following list.\n",
    "\n",
    "        my_list = [34, 56, 76, 45, 2, 12, 67, 98, 37, 54, 66]"
   ]
  },
  {
   "cell_type": "code",
   "execution_count": 1,
   "metadata": {
    "colab": {
     "base_uri": "https://localhost:8080/"
    },
    "id": "0hlFLNy7FuXp",
    "outputId": "f454ac1a-1f6c-4afc-dd84-e66aac433acb"
   },
   "outputs": [
    {
     "data": {
      "text/plain": [
       "188"
      ]
     },
     "execution_count": 1,
     "metadata": {},
     "output_type": "execute_result"
    }
   ],
   "source": [
    "my_list = [34, 56, 76, 45, 2, 12, 67, 98, 37, 54, 66]\n",
    "my_list.sort()\n",
    "my_list[0] + my_list[1] + my_list[-1] + my_list[-2]"
   ]
  },
  {
   "cell_type": "markdown",
   "metadata": {
    "id": "fpSVSyFlFuXq"
   },
   "source": [
    "**2.** The following two lists contain student names and scores. Write a code that gets the name from the user and prints the score of that student.\n",
    "\n",
    "        names = [\"David\", \"Michael\", \"John\", \"James\", \"Greg\", \"Mark\", \n",
    "                 \"William\", \"Richard\", \"Thomas\", \"Steven\", \n",
    "                 \"Mary\", \"Susan\", \"Maria\", \"Karen\", \"Lisa\", \"Linda\", \n",
    "                 \"Donna\", \"Patricia\", \"Debra\", \"Eric\"]\n",
    "\n",
    "        scores = [95, 87, 78, 86, 68, 94, 76, 97, 56, 98, 76, \n",
    "                  87, 79, 90, 73, 93, 82, 69, 97, 98]"
   ]
  },
  {
   "cell_type": "code",
   "execution_count": 2,
   "metadata": {
    "colab": {
     "base_uri": "https://localhost:8080/"
    },
    "id": "6bfS0HRBFuXs",
    "outputId": "59fc3890-8843-4197-b1a9-96ad9d906bfb"
   },
   "outputs": [
    {
     "name": "stdin",
     "output_type": "stream",
     "text": [
      "Write the student name : Karen\n"
     ]
    },
    {
     "name": "stdout",
     "output_type": "stream",
     "text": [
      "Score of Karen is 90\n"
     ]
    }
   ],
   "source": [
    "names = [\"David\", \"Michael\", \"John\", \"James\", \"Greg\", \"Mark\", \n",
    "         \"William\", \"Richard\", \"Thomas\", \"Steven\", \n",
    "         \"Mary\", \"Susan\", \"Maria\", \"Karen\", \"Lisa\", \"Linda\", \n",
    "         \"Donna\", \"Patricia\", \"Debra\", \"Eric\"]\n",
    "\n",
    "scores = [95, 87, 78, 86, 68, 94, 76, 97, 56, 98, 76, \n",
    "          87, 79, 90, 73, 93, 82, 69, 97, 98]\n",
    "\n",
    "name = input(\"Write the student name :\")\n",
    "score = scores[names.index(name)]\n",
    "print(f\"Score of {name} is {score}\")\n",
    "\n",
    "  "
   ]
  },
  {
   "cell_type": "markdown",
   "metadata": {
    "id": "Cv_CXNHxFuXs"
   },
   "source": [
    "**3.** By using the two lists above, what is the maximum score and how many students got that score?"
   ]
  },
  {
   "cell_type": "code",
   "execution_count": 3,
   "metadata": {
    "colab": {
     "base_uri": "https://localhost:8080/"
    },
    "id": "pq0a3sfZFuXt",
    "outputId": "e688602c-d650-4a0e-9be1-07f2bd1b40ae"
   },
   "outputs": [
    {
     "name": "stdout",
     "output_type": "stream",
     "text": [
      "Max score : 98\n",
      "Number of student with max score : 2\n"
     ]
    }
   ],
   "source": [
    "scores.sort()\n",
    "max = scores[-1]\n",
    "\n",
    "print(f\"Max score : {max}\")\n",
    "print(f\"Number of student with max score : {scores.count(max)}\")\n"
   ]
  },
  {
   "cell_type": "markdown",
   "metadata": {
    "id": "irN48S8EFuXu"
   },
   "source": [
    "**4.** We can confuse about how many days a month is. Create a list to handle it. You will have month names and day counts in your list together as a nested list."
   ]
  },
  {
   "cell_type": "code",
   "execution_count": 4,
   "metadata": {
    "colab": {
     "base_uri": "https://localhost:8080/"
    },
    "id": "Lx1ZdHDfFuXu",
    "outputId": "bfe42245-662f-4448-9c24-74607292cdcf"
   },
   "outputs": [
    {
     "name": "stdout",
     "output_type": "stream",
     "text": [
      "[['January', 31], ['February', 28], ['March', 31], ['April', 30], ['May', 31], ['June', 30], ['July', 31], ['August', 31], ['September', 30], ['October', 31], ['November', 30], ['December', 31]]\n"
     ]
    }
   ],
   "source": [
    "month_day = [['January', 31], ['February', 28], ['March', 31], ['April', 30], ['May', 31], ['June', 30], ['July', 31], ['August', 31], ['September', 30], ['October', 31], ['November', 30], ['December', 31]]\n",
    "\n",
    "print(month_day)"
   ]
  },
  {
   "cell_type": "markdown",
   "metadata": {
    "id": "4Cs8P0a0FuXv"
   },
   "source": [
    "**5.** Now create lists of months for each season. Get month names and day counts from the list that you create before with slicing. Name the lists with seasons."
   ]
  },
  {
   "cell_type": "code",
   "execution_count": 5,
   "metadata": {
    "id": "5YZ-lfFgFuXw"
   },
   "outputs": [],
   "source": [
    "winter = month_day[0:2] + month_day[-1]\n",
    "spring = month_day[2:5]\n",
    "summer = month_day[5:8]\n",
    "autumn = month_day[8:11]"
   ]
  },
  {
   "cell_type": "markdown",
   "metadata": {
    "id": "NN4CZkElFuXw"
   },
   "source": [
    "**6.** Finally, from the list in the previous question, calculate how many days the summer season lasts."
   ]
  },
  {
   "cell_type": "code",
   "execution_count": 6,
   "metadata": {
    "colab": {
     "base_uri": "https://localhost:8080/"
    },
    "id": "sOuszn30FuXx",
    "outputId": "5645d379-4a9b-4cb8-cc0e-d48e53e04d0f"
   },
   "outputs": [
    {
     "name": "stdout",
     "output_type": "stream",
     "text": [
      "Summer lasts 92 days\n"
     ]
    }
   ],
   "source": [
    "number_of_days = summer[0][1] + summer[1][1] + summer[2][1]\n",
    "print(f\"Summer lasts {number_of_days} days\")"
   ]
  }
 ],
 "metadata": {
  "colab": {
   "name": "A_04_Lists_en.ipynb adlı not defterinin kopyası",
   "provenance": []
  },
  "kernelspec": {
   "display_name": "Python 3 (ipykernel)",
   "language": "python",
   "name": "python3"
  },
  "language_info": {
   "codemirror_mode": {
    "name": "ipython",
    "version": 3
   },
   "file_extension": ".py",
   "mimetype": "text/x-python",
   "name": "python",
   "nbconvert_exporter": "python",
   "pygments_lexer": "ipython3",
   "version": "3.8.2"
  }
 },
 "nbformat": 4,
 "nbformat_minor": 4
}
