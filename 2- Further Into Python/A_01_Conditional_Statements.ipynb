{
 "cells": [
  {
   "cell_type": "markdown",
   "metadata": {
    "id": "HzPRYXDejoEk"
   },
   "source": [
    "**(1)** Please get Celcius or Fahrenheit degrees from users and type a code to convert these heat units to each other.  \n",
    "    \n",
    "    For conversion, please use this formula: C = (5/9) * (F - 32)\n",
    "    \n",
    "        Example : \"40C\" --> \"104F\"\n",
    "                  \"52F\" --> \"11.1C\""
   ]
  },
  {
   "cell_type": "code",
   "execution_count": 1,
   "metadata": {
    "colab": {
     "base_uri": "https://localhost:8080/"
    },
    "id": "GX3SPBU6joEl",
    "outputId": "f0d28961-1e1a-4bb0-a745-53570a7d2412"
   },
   "outputs": [
    {
     "name": "stdin",
     "output_type": "stream",
     "text": [
      "Please enter the degree (e.g. 40C , 52F) : 40C\n"
     ]
    },
    {
     "name": "stdout",
     "output_type": "stream",
     "text": [
      " \"40.0C\" --> \"104.0F\" \n"
     ]
    }
   ],
   "source": [
    "temp = input(\"Please enter the degree (e.g. 40C , 52F) :\")\n",
    "degree = float(temp[:-1])\n",
    "\n",
    "if temp[-1] == 'C':\n",
    "    print(\"\"\" \"{:.1f}C\" --> \"{:.1f}F\" \"\"\".format(degree, (9 / 5) * (degree) + 32))\n",
    "elif temp[-1] == 'F':\n",
    "    print(\"\"\" \"{:.1f}F\" --> \"{:.1f}C\" \"\"\".format(degree, (5 / 9) * (degree - 32)))\n",
    "else:\n",
    "    print(\"Invalid Input\")"
   ]
  },
  {
   "cell_type": "markdown",
   "metadata": {
    "id": "SjFfse7vjoEm"
   },
   "source": [
    "**(2)** A company decided to give a bonus of 5% to the employees if his/her year of service is more than 5 years.\n",
    "Ask the user for their salary and year of service and print the net bonus amount."
   ]
  },
  {
   "cell_type": "code",
   "execution_count": 2,
   "metadata": {
    "colab": {
     "base_uri": "https://localhost:8080/"
    },
    "id": "mnVRhvfOjoEm",
    "outputId": "bcbfb9be-b425-4738-925d-dc84c0367ddf"
   },
   "outputs": [
    {
     "name": "stdin",
     "output_type": "stream",
     "text": [
      "Please enter your salary :  6250\n",
      "Please enter your year of service :  8\n"
     ]
    },
    {
     "name": "stdout",
     "output_type": "stream",
     "text": [
      "The Net Bonus Amount 312.50\n"
     ]
    }
   ],
   "source": [
    "salary = int(input(\"Please enter your salary : \"))\n",
    "year = int(input(\"Please enter your year of service : \"))\n",
    "\n",
    "if year > 5:\n",
    "    print(f\"The Net Bonus Amount {salary*0.05:.2f}\")\n",
    "else:\n",
    "    print(\"No bonus\")"
   ]
  },
  {
   "cell_type": "markdown",
   "metadata": {
    "id": "8ctlo0SWjoEn"
   },
   "source": [
    "**(3)** Take input of ages of 3 people by the user and determine the oldest and youngest among them."
   ]
  },
  {
   "cell_type": "code",
   "execution_count": 3,
   "metadata": {
    "colab": {
     "base_uri": "https://localhost:8080/"
    },
    "id": "Borj8Zr7joEo",
    "outputId": "58a0829e-2457-40b7-a197-0c3ed68d1f7c"
   },
   "outputs": [
    {
     "name": "stdin",
     "output_type": "stream",
     "text": [
      "Enter the age of first user :  43\n",
      "Enter the age of second user :  35\n",
      "Enter the age of third user :  32\n"
     ]
    },
    {
     "name": "stdout",
     "output_type": "stream",
     "text": [
      "==================================================\n",
      "First user is the oldest \n",
      "Third user is the youngest \n"
     ]
    }
   ],
   "source": [
    "user_1 = int(input(\"Enter the age of first user : \"))\n",
    "user_2 = int(input(\"Enter the age of second user : \"))\n",
    "user_3 = int(input(\"Enter the age of third user : \"))\n",
    "\n",
    "print('='*50)\n",
    "\n",
    "# oldest\n",
    "\n",
    "if (user_1 > user_2) and (user_1 > user_3):\n",
    "    print(\"First user is the oldest \")\n",
    "elif (user_2 > user_1) and (user_2 > user_3):\n",
    "    print(\"Second user is the oldest \")\n",
    "elif (user_3 > user_1) and (user_3 > user_2):\n",
    "    print(\"Third user is the oldest \")\n",
    "\n",
    "# youngest\n",
    "\n",
    "if (user_1 < user_2) and (user_1 < user_3):\n",
    "    print(\"First user is the youngest \")\n",
    "elif (user_2 < user_1) and (user_2 < user_3):\n",
    "    print(\"Second user is the youngest \")\n",
    "elif (user_3 < user_1) and (user_3 < user_2):\n",
    "    print(\"Third user is the youngest \")\n"
   ]
  },
  {
   "cell_type": "code",
   "execution_count": 4,
   "metadata": {
    "colab": {
     "base_uri": "https://localhost:8080/"
    },
    "id": "t7Np59o_xyc6",
    "outputId": "b0115127-2b42-484d-86b9-5fc4b15dad66"
   },
   "outputs": [
    {
     "name": "stdin",
     "output_type": "stream",
     "text": [
      "Enter the age of first user :  43\n",
      "Enter the age of second user :  35\n",
      "Enter the age of third user :  32\n"
     ]
    },
    {
     "name": "stdout",
     "output_type": "stream",
     "text": [
      "==================================================\n",
      "First user is the oldest and third user is the youngest \n"
     ]
    }
   ],
   "source": [
    "# solution with nested if\n",
    "\n",
    "user_1 = int(input(\"Enter the age of first user : \"))\n",
    "user_2 = int(input(\"Enter the age of second user : \"))\n",
    "user_3 = int(input(\"Enter the age of third user : \"))\n",
    "\n",
    "print('='*50)\n",
    "\n",
    "if (user_1 > user_2) and (user_1 > user_3):\n",
    "    if user_2 > user_3:\n",
    "        print(\"First user is the oldest and third user is the youngest \")\n",
    "    else:\n",
    "        print(\"First user is the oldest and second user is the youngest \")\n",
    "elif (user_2 > user_1) and (user_2 > user_3):\n",
    "    if user_1 > user_3:\n",
    "        print(\"Second user is the oldest and third user is the youngest\")\n",
    "    else:\n",
    "        print(\"Second user is the oldest and first user is the youngest\")\n",
    "else:\n",
    "    if user_2 > user_1:\n",
    "        print(\"Third user is the oldest and first user is the youngest\")\n",
    "    else:\n",
    "        print(\"Third user is the oldest and second user is the youngest\")"
   ]
  },
  {
   "cell_type": "markdown",
   "metadata": {
    "id": "SEdebdXAjoEo"
   },
   "source": [
    "**(4)** A student will not be allowed to attend to the exam if his / her attendance to classes is less than 75%. Take followings input from the user:\n",
    "- Number of classes held,\n",
    "- Number of classes attended.\n",
    "   \n",
    "    Then, print the percentage of classes attended and whether the student is allowed to attend in an exam or not."
   ]
  },
  {
   "cell_type": "code",
   "execution_count": 5,
   "metadata": {
    "colab": {
     "base_uri": "https://localhost:8080/"
    },
    "id": "mXIvZLEUjoEo",
    "outputId": "0eecb6ba-f004-41a2-b461-b24e48c4af33"
   },
   "outputs": [
    {
     "name": "stdin",
     "output_type": "stream",
     "text": [
      "Enter the number of classes held :  50\n",
      "Enter the number of classes attended :  32\n"
     ]
    },
    {
     "name": "stdout",
     "output_type": "stream",
     "text": [
      "The student is not allowed to attend to the exam.\n"
     ]
    }
   ],
   "source": [
    "total_held = int(input(\"Enter the number of classes held : \"))\n",
    "total_attended = int(input(\"Enter the number of classes attended : \"))\n",
    "\n",
    "percentage = total_attended * 100 / total_held \n",
    "\n",
    "if percentage > 75: \n",
    "    print(\"The student is allowed to attend to the exam.\")\n",
    "else:\n",
    "    print(\"The student is not allowed to attend to the exam.\")"
   ]
  },
  {
   "cell_type": "markdown",
   "metadata": {
    "id": "AeHZsQfFjoEp"
   },
   "source": [
    "**(5)** In this exercise, you will create a program that reads a letter of the alphabet from the user. According to the answer:\n",
    "\n",
    "- If the user enters `a, e, i, o, u`, then your program should display a message indicating that the entered letter is a vowel.\n",
    "- If the user enters `y`, then your program should display a message indicating that y is sometimes a vowel and sometimes a consonant.\n",
    "- Otherwise, your program should display a message indicating that the letter is a consonant."
   ]
  },
  {
   "cell_type": "code",
   "execution_count": 6,
   "metadata": {
    "colab": {
     "base_uri": "https://localhost:8080/"
    },
    "id": "Ymc45Fp9joEq",
    "outputId": "97b0d670-0f17-45ec-d90d-941f923f0e7a"
   },
   "outputs": [
    {
     "name": "stdin",
     "output_type": "stream",
     "text": [
      "Please enter a letter:  y\n"
     ]
    },
    {
     "name": "stdout",
     "output_type": "stream",
     "text": [
      "y is sometimes a vowel and sometimes a consonant.\n"
     ]
    }
   ],
   "source": [
    "letter = input(\"Please enter a letter: \")\n",
    "\n",
    "if letter in ['a', 'e', 'i', 'o', 'u']:\n",
    "    print(\"The entered letter is a vowel.\")\n",
    "elif letter == \"y\":\n",
    "    print(\"y is sometimes a vowel and sometimes a consonant.\")\n",
    "else:\n",
    "    print(\"The letter is a consonant.\")"
   ]
  }
 ],
 "metadata": {
  "colab": {
   "name": "A_01_ConditionalStatements_en.ipynb adlı not defterinin kopyası",
   "provenance": []
  },
  "kernelspec": {
   "display_name": "Python 3 (ipykernel)",
   "language": "python",
   "name": "python3"
  },
  "language_info": {
   "codemirror_mode": {
    "name": "ipython",
    "version": 3
   },
   "file_extension": ".py",
   "mimetype": "text/x-python",
   "name": "python",
   "nbconvert_exporter": "python",
   "pygments_lexer": "ipython3",
   "version": "3.8.2"
  }
 },
 "nbformat": 4,
 "nbformat_minor": 4
}
