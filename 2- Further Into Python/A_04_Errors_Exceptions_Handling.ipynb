{
 "cells": [
  {
   "cell_type": "markdown",
   "metadata": {
    "id": "q6c9XnDFvM5f"
   },
   "source": [
    "**(1)** Let us define a division operation inside a function (using `def`) but to get an error, define the denominator as 0. So, type properly except statement."
   ]
  },
  {
   "cell_type": "code",
   "execution_count": 1,
   "metadata": {
    "colab": {
     "base_uri": "https://localhost:8080/"
    },
    "id": "GY2yv4nnvM5j",
    "outputId": "1319b590-6953-41fd-c331-1c426d5b9a43"
   },
   "outputs": [
    {
     "name": "stdout",
     "output_type": "stream",
     "text": [
      "4.0\n",
      "Denominator must be different than 0\n"
     ]
    }
   ],
   "source": [
    "def division(divident, denominator):\n",
    "    try:\n",
    "        return divident / denominator \n",
    "    except ZeroDivisionError:\n",
    "        print(\"Denominator must be different than 0\")\n",
    "\n",
    "print(division(20, 5)) \n",
    "division(6, 0)"
   ]
  },
  {
   "cell_type": "markdown",
   "metadata": {
    "id": "QrBhvpgjvM5k"
   },
   "source": [
    "**(2)** It is possible to get multiple errors after the execution of one try block. So, please define an error-exception issue with `NameError`."
   ]
  },
  {
   "cell_type": "code",
   "execution_count": 2,
   "metadata": {
    "colab": {
     "base_uri": "https://localhost:8080/"
    },
    "id": "Rh0SznUJvM5l",
    "outputId": "c317a487-fde1-45b1-c5d1-607eb09d1388"
   },
   "outputs": [
    {
     "name": "stdout",
     "output_type": "stream",
     "text": [
      "The variable \"language\" is not defined !\n"
     ]
    }
   ],
   "source": [
    "try: \n",
    "    print(f\"I study {language}\")\n",
    "except NameError:\n",
    "    print('The variable \"language\" is not defined !')"
   ]
  },
  {
   "cell_type": "markdown",
   "metadata": {
    "id": "Ulp3i4lPvM5l"
   },
   "source": [
    "**(3)** Please define a function and with this function, generate a `ValueError` exception simply by entering a string instead of numerical value."
   ]
  },
  {
   "cell_type": "code",
   "execution_count": 3,
   "metadata": {
    "colab": {
     "base_uri": "https://localhost:8080/"
    },
    "id": "UmEOVqMCvM5m",
    "outputId": "21c20e98-9115-4501-d475-2b1ff54b02df"
   },
   "outputs": [
    {
     "name": "stdout",
     "output_type": "stream",
     "text": [
      "1\n",
      "Please enter only numeric values\n"
     ]
    }
   ],
   "source": [
    "def subtract(num_1, num_2):\n",
    "    try:\n",
    "        return num_1 - num_2 \n",
    "    except:\n",
    "        print(\"Please enter only numeric values\") \n",
    "\n",
    "print(subtract(3, 2))\n",
    "subtract(3, 'iki')"
   ]
  }
 ],
 "metadata": {
  "colab": {
   "name": "A_05_Errors_Exceptions_Handling_en.ipynb adlı not defterinin kopyası",
   "provenance": []
  },
  "kernelspec": {
   "display_name": "Python 3 (ipykernel)",
   "language": "python",
   "name": "python3"
  },
  "language_info": {
   "codemirror_mode": {
    "name": "ipython",
    "version": 3
   },
   "file_extension": ".py",
   "mimetype": "text/x-python",
   "name": "python",
   "nbconvert_exporter": "python",
   "pygments_lexer": "ipython3",
   "version": "3.8.2"
  }
 },
 "nbformat": 4,
 "nbformat_minor": 4
}
