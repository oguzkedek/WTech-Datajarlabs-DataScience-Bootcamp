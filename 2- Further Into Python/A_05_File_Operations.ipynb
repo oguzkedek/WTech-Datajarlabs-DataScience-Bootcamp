{
 "cells": [
  {
   "cell_type": "markdown",
   "metadata": {
    "id": "Yv81kLmU1opD"
   },
   "source": [
    "**(1)** Please write a poem you wanted in a `.txt` file and save it to the disk."
   ]
  },
  {
   "cell_type": "code",
   "execution_count": 1,
   "metadata": {
    "id": "FtVAslTw1opK"
   },
   "outputs": [],
   "source": [
    "with open (\"poem.txt\", \"w\", encoding='utf-8') as f:\n",
    "    f.write(\n",
    "      \"\"\" \n",
    "Sana dün bir tepeden baktım aziz İstanbul!\n",
    "Görmedim gezmediğim, sevmediğim hiçbir yer.\n",
    "Ömrüm oldukça, gönül tahtıma keyfince kurul!\n",
    "Sade bir semtini sevmek bile bir ömre değer. \n",
    "  \"\"\") "
   ]
  },
  {
   "cell_type": "markdown",
   "metadata": {
    "id": "XgQuwzOb1opO"
   },
   "source": [
    "**(2)** Append a new poem into the file you have created."
   ]
  },
  {
   "cell_type": "code",
   "execution_count": 2,
   "metadata": {
    "id": "0EvcVfTa1opR"
   },
   "outputs": [],
   "source": [
    "with open(\"poem.txt\", 'a') as f:\n",
    "    f.write(\"\"\"\n",
    "Nice revnaklı şehirler görülür dünyada,\n",
    "Lakin efsunlu güzellikleri sensin yaratan.\n",
    "Yaşamıştır derim, en hoş ve uzun rü’yada\n",
    "Sende çok yıl yaşayan, sende ölen, sende yatan.\n",
    "  \"\"\")"
   ]
  },
  {
   "cell_type": "markdown",
   "metadata": {
    "id": "fpRHWd231opS"
   },
   "source": [
    "**(3)** Read and print all poems."
   ]
  },
  {
   "cell_type": "code",
   "execution_count": 3,
   "metadata": {
    "colab": {
     "base_uri": "https://localhost:8080/"
    },
    "id": "ZXBVJ0SP1opU",
    "outputId": "b9f19cfa-3c95-47a9-bbed-0d81bfc059f0"
   },
   "outputs": [
    {
     "name": "stdout",
     "output_type": "stream",
     "text": [
      " \n",
      "Sana dün bir tepeden baktım aziz İstanbul!\n",
      "Görmedim gezmediğim, sevmediğim hiçbir yer.\n",
      "Ömrüm oldukça, gönül tahtıma keyfince kurul!\n",
      "Sade bir semtini sevmek bile bir ömre değer. \n",
      "  \n",
      "Nice revnaklı şehirler görülür dünyada,\n",
      "Lakin efsunlu güzellikleri sensin yaratan.\n",
      "Yaşamıştır derim, en hoş ve uzun rü’yada\n",
      "Sende çok yıl yaşayan, sende ölen, sende yatan.\n",
      "  \n"
     ]
    }
   ],
   "source": [
    "with open(\"poem.txt\", \"r\", encoding ='utf-8') as f:\n",
    "    poem = f.read()\n",
    "\n",
    "print(poem)"
   ]
  }
 ],
 "metadata": {
  "colab": {
   "name": "A_06_File_Operations_en.ipynb adlı not defterinin kopyası",
   "provenance": []
  },
  "kernelspec": {
   "display_name": "Python 3 (ipykernel)",
   "language": "python",
   "name": "python3"
  },
  "language_info": {
   "codemirror_mode": {
    "name": "ipython",
    "version": 3
   },
   "file_extension": ".py",
   "mimetype": "text/x-python",
   "name": "python",
   "nbconvert_exporter": "python",
   "pygments_lexer": "ipython3",
   "version": "3.8.2"
  }
 },
 "nbformat": 4,
 "nbformat_minor": 4
}
