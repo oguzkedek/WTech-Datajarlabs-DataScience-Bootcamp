{
 "cells": [
  {
   "cell_type": "markdown",
   "metadata": {
    "id": "JcfaAYlO3AII"
   },
   "source": [
    "**(1)** Please form a multiplication table from user input.\n",
    "\n",
    "    Example :\n",
    "\n",
    "        Enter a number : 6\n",
    "        6 x 1 = 6                                                               \n",
    "        6 x 2 = 12                                                              \n",
    "        6 x 3 = 18                                                              \n",
    "        6 x 4 = 24                                                              \n",
    "        6 x 5 = 30                                                              \n",
    "        6 x 6 = 36                                                              \n",
    "        6 x 7 = 42                                                              \n",
    "        6 x 8 = 48                                                              \n",
    "        6 x 9 = 54                                                              \n",
    "        6 x 10 = 60 "
   ]
  },
  {
   "cell_type": "code",
   "execution_count": 1,
   "metadata": {
    "colab": {
     "base_uri": "https://localhost:8080/"
    },
    "id": "gscUj0gD3AIO",
    "outputId": "9d49c43b-3e0e-4b57-95bc-df3f1b896e4a"
   },
   "outputs": [
    {
     "name": "stdin",
     "output_type": "stream",
     "text": [
      "Enter a number :  6\n"
     ]
    },
    {
     "name": "stdout",
     "output_type": "stream",
     "text": [
      "6 x 1 = 6\n",
      "6 x 2 = 12\n",
      "6 x 3 = 18\n",
      "6 x 4 = 24\n",
      "6 x 5 = 30\n",
      "6 x 6 = 36\n",
      "6 x 7 = 42\n",
      "6 x 8 = 48\n",
      "6 x 9 = 54\n",
      "6 x 10 = 60\n"
     ]
    }
   ],
   "source": [
    "num = int(input(\"Enter a number : \"))\n",
    "for i in range (1, 11):\n",
    "    print(f\"{num} x {i} = {num * i}\")"
   ]
  },
  {
   "cell_type": "code",
   "execution_count": 2,
   "metadata": {
    "colab": {
     "base_uri": "https://localhost:8080/"
    },
    "id": "GE3eHvv634Ec",
    "outputId": "637c914b-f01c-41d5-ae61-ef7c2654eea2"
   },
   "outputs": [
    {
     "name": "stdin",
     "output_type": "stream",
     "text": [
      "Enter a number :  6\n"
     ]
    },
    {
     "name": "stdout",
     "output_type": "stream",
     "text": [
      "6 x 1 = 6 \n",
      "6 x 2 = 12 \n",
      "6 x 3 = 18 \n",
      "6 x 4 = 24 \n",
      "6 x 5 = 30 \n",
      "6 x 6 = 36 \n",
      "6 x 7 = 42 \n",
      "6 x 8 = 48 \n",
      "6 x 9 = 54 \n",
      "6 x 10 = 60 \n"
     ]
    }
   ],
   "source": [
    "#while loop\n",
    "\n",
    "num = int(input(\"Enter a number : \"))\n",
    "i = 1\n",
    "while i < 11:\n",
    "    print(f\"{num} x {i} = {num * i} \")\n",
    "    i += 1"
   ]
  },
  {
   "cell_type": "markdown",
   "metadata": {
    "id": "O9okYoQH3AIP"
   },
   "source": [
    "**(2)** Simply by using list compherension, form a list by taking square of odds numbers and by calculating cube of even numbers from 1 to 20."
   ]
  },
  {
   "cell_type": "code",
   "execution_count": 3,
   "metadata": {
    "colab": {
     "base_uri": "https://localhost:8080/"
    },
    "id": "kE-VlCxN3AIP",
    "outputId": "a1c8e0c6-cc55-462d-846e-37f050d4121f"
   },
   "outputs": [
    {
     "data": {
      "text/plain": [
       "[1,\n",
       " 8,\n",
       " 9,\n",
       " 64,\n",
       " 25,\n",
       " 216,\n",
       " 49,\n",
       " 512,\n",
       " 81,\n",
       " 1000,\n",
       " 121,\n",
       " 1728,\n",
       " 169,\n",
       " 2744,\n",
       " 225,\n",
       " 4096,\n",
       " 289,\n",
       " 5832,\n",
       " 361,\n",
       " 8000]"
      ]
     },
     "execution_count": 3,
     "metadata": {},
     "output_type": "execute_result"
    }
   ],
   "source": [
    "[i ** 2 if i % 2 == 1 else i ** 3 for i in range(1, 21)]"
   ]
  },
  {
   "cell_type": "markdown",
   "metadata": {
    "id": "c2BLfOhs3AIQ"
   },
   "source": [
    "**(3)** Please type a code that inverts the initial user input.\n",
    "\n",
    "    Example : \"automobile\" --> \"elibomotua\""
   ]
  },
  {
   "cell_type": "code",
   "execution_count": 4,
   "metadata": {
    "colab": {
     "base_uri": "https://localhost:8080/"
    },
    "id": "Wd88KhGF3AIR",
    "outputId": "cbf7efbe-814f-45e6-ce64-3b58e4065b9a"
   },
   "outputs": [
    {
     "name": "stdin",
     "output_type": "stream",
     "text": [
      "Enter the word to be inverted :  automobile\n"
     ]
    },
    {
     "name": "stdout",
     "output_type": "stream",
     "text": [
      "\"automobile\" --> \"elibomotua\"\n"
     ]
    }
   ],
   "source": [
    "word = input(\"Enter the word to be inverted : \")\n",
    "new_word = ''\n",
    "for i in range(len(word)-1, -1, -1):\n",
    "    new_word += word[i]\n",
    "print(f'\"{word}\" --> \"{new_word}\"')\n"
   ]
  },
  {
   "cell_type": "markdown",
   "metadata": {
    "id": "tRpJ_oBY3AIR"
   },
   "source": [
    "**(4)** Using `range(1, 201)`, make two lists. One is containing all even numbers and the other containing all odd numbers."
   ]
  },
  {
   "cell_type": "code",
   "execution_count": 5,
   "metadata": {
    "colab": {
     "base_uri": "https://localhost:8080/"
    },
    "id": "2Qsjh6Xx3AIR",
    "outputId": "1164cf62-b236-4c77-9c7c-92ee82ac56c6"
   },
   "outputs": [
    {
     "name": "stdout",
     "output_type": "stream",
     "text": [
      "Even numbers: [2, 4, 6, 8, 10, 12, 14, 16, 18, 20, 22, 24, 26, 28, 30, 32, 34, 36, 38, 40, 42, 44, 46, 48, 50, 52, 54, 56, 58, 60, 62, 64, 66, 68, 70, 72, 74, 76, 78, 80, 82, 84, 86, 88, 90, 92, 94, 96, 98, 100, 102, 104, 106, 108, 110, 112, 114, 116, 118, 120, 122, 124, 126, 128, 130, 132, 134, 136, 138, 140, 142, 144, 146, 148, 150, 152, 154, 156, 158, 160, 162, 164, 166, 168, 170, 172, 174, 176, 178, 180, 182, 184, 186, 188, 190, 192, 194, 196, 198, 200]\n",
      "=========================================================================================================\n",
      "Odd numbers: [1, 3, 5, 7, 9, 11, 13, 15, 17, 19, 21, 23, 25, 27, 29, 31, 33, 35, 37, 39, 41, 43, 45, 47, 49, 51, 53, 55, 57, 59, 61, 63, 65, 67, 69, 71, 73, 75, 77, 79, 81, 83, 85, 87, 89, 91, 93, 95, 97, 99, 101, 103, 105, 107, 109, 111, 113, 115, 117, 119, 121, 123, 125, 127, 129, 131, 133, 135, 137, 139, 141, 143, 145, 147, 149, 151, 153, 155, 157, 159, 161, 163, 165, 167, 169, 171, 173, 175, 177, 179, 181, 183, 185, 187, 189, 191, 193, 195, 197, 199]\n"
     ]
    }
   ],
   "source": [
    "odd = []\n",
    "even = []\n",
    "for i in range(1, 201):\n",
    "    if i%2 == 1:\n",
    "        odd.append(i)\n",
    "    else:\n",
    "        even.append(i)\n",
    "\n",
    "print(\"Even numbers:\", even)\n",
    "print('='*105)\n",
    "print(\"Odd numbers:\", odd)"
   ]
  },
  {
   "cell_type": "markdown",
   "metadata": {
    "id": "-BNsM7yo3AIS"
   },
   "source": [
    "**(5)** Define a function called `count` that has two arguments called `sequence` and `item`. Return the number of times the item occurs in the list.<br>\n",
    "\n",
    "    Example:\n",
    "    ```python\n",
    "    count([1,2,1,1], 1)\n",
    "    ```\n",
    "    It should return 3. Because `1` appears 3 times in the list."
   ]
  },
  {
   "cell_type": "code",
   "execution_count": 6,
   "metadata": {
    "colab": {
     "base_uri": "https://localhost:8080/"
    },
    "id": "VQhlq-JQ3AIS",
    "outputId": "851e6126-0b03-485d-982d-30aa3bb394cd"
   },
   "outputs": [
    {
     "name": "stdout",
     "output_type": "stream",
     "text": [
      "3\n"
     ]
    }
   ],
   "source": [
    "def count(sequence, item):\n",
    "    count = 0\n",
    "    for num in sequence:\n",
    "        if num == item:\n",
    "            count += 1\n",
    "    return count\n",
    "\n",
    "print(count([1,2,1,1], 1))"
   ]
  },
  {
   "cell_type": "markdown",
   "metadata": {
    "id": "5BkqdebS3AIT"
   },
   "source": [
    "**(6)** Write a function called `digit_sum` that takes a positive integer n as input and returns the sum of all that number's digits as a single-digit number.\n",
    "\n",
    "    Example:\n",
    "        27684 --> 2 + 7 + 6 + 8 + 4 = 27 --> 2 + 7 = 9"
   ]
  },
  {
   "cell_type": "code",
   "execution_count": 7,
   "metadata": {
    "colab": {
     "base_uri": "https://localhost:8080/"
    },
    "id": "n-AEf1vV3AIU",
    "outputId": "ca7761fe-d66f-4441-d685-80559d7bf93f"
   },
   "outputs": [
    {
     "name": "stdout",
     "output_type": "stream",
     "text": [
      "9\n"
     ]
    }
   ],
   "source": [
    "def digit_sum(n):\n",
    "\n",
    "    sum = 0\n",
    "    for i in str(n):\n",
    "        sum += int(i)\n",
    "\n",
    "    t=0 \n",
    "    while sum > 0:\n",
    "        k = sum % 10\n",
    "        sum = sum // 10\n",
    "        t = t + k\n",
    "    return t   \n",
    "  \n",
    "print(digit_sum(27684))"
   ]
  },
  {
   "cell_type": "markdown",
   "metadata": {
    "id": "SPCA3MfZ3AIV"
   },
   "source": [
    "**(7)** Write a program to find greatest common divisor (GCD) or highest common factor (HCF) of given two numbers."
   ]
  },
  {
   "cell_type": "code",
   "execution_count": 8,
   "metadata": {
    "colab": {
     "base_uri": "https://localhost:8080/"
    },
    "id": "omTWpybr3AIV",
    "outputId": "96e6350b-3ad9-40c8-9f5b-1f0acb83d8b9"
   },
   "outputs": [
    {
     "name": "stdout",
     "output_type": "stream",
     "text": [
      "GCD: 4\n"
     ]
    }
   ],
   "source": [
    "def gcd(num_1, num_2):\n",
    "    i = 1\n",
    "    gcd = 1\n",
    "    while (i <= num_1 and i <= num_2):\n",
    "\n",
    "        if (num_1 % i == 0 ) and (num_2 % i == 0): # 2nd option --> if (not (num_1 % i) and not (num_2 % i)):\n",
    "            gcd = i\n",
    "        i += 1\n",
    "    return gcd\n",
    "\n",
    "print(\"GCD:\", gcd(16, 12))"
   ]
  },
  {
   "cell_type": "markdown",
   "metadata": {
    "id": "tfF_OgfF3AIW"
   },
   "source": [
    "**(8)** Write a Python program that iterates integers from 1 to 50. For multiples of three print `fizz` instead of the number and for the multiples of five print `buzz`. For numbers which are multiples of both three and five print `fizzbuzz`."
   ]
  },
  {
   "cell_type": "code",
   "execution_count": 9,
   "metadata": {
    "colab": {
     "base_uri": "https://localhost:8080/"
    },
    "id": "iP4RHYrs3AIW",
    "outputId": "12e8b27e-3c73-4b00-9b9e-12297cd02bfc"
   },
   "outputs": [
    {
     "name": "stdout",
     "output_type": "stream",
     "text": [
      "1\n",
      "2\n",
      "fizz\n",
      "4\n",
      "buzz\n",
      "fizz\n",
      "7\n",
      "8\n",
      "fizz\n",
      "buzz\n",
      "11\n",
      "fizz\n",
      "13\n",
      "14\n",
      "fizzbuzz\n",
      "16\n",
      "17\n",
      "fizz\n",
      "19\n",
      "buzz\n",
      "fizz\n",
      "22\n",
      "23\n",
      "fizz\n",
      "buzz\n",
      "26\n",
      "fizz\n",
      "28\n",
      "29\n",
      "fizzbuzz\n",
      "31\n",
      "32\n",
      "fizz\n",
      "34\n",
      "buzz\n",
      "fizz\n",
      "37\n",
      "38\n",
      "fizz\n",
      "buzz\n",
      "41\n",
      "fizz\n",
      "43\n",
      "44\n",
      "fizzbuzz\n",
      "46\n",
      "47\n",
      "fizz\n",
      "49\n",
      "buzz\n"
     ]
    }
   ],
   "source": [
    "for i in range(1, 51):\n",
    "    if i % 3 == 0 and i % 5 != 0:\n",
    "        print('fizz')\n",
    "    elif i % 5 == 0 and i % 3 != 0:\n",
    "        print('buzz')\n",
    "    elif i % 3 == 0 and i % 5 == 0:\n",
    "        print('fizzbuzz')\n",
    "    else:\n",
    "        print(i)"
   ]
  },
  {
   "cell_type": "markdown",
   "metadata": {
    "id": "e4lHDn1f3AIX"
   },
   "source": [
    "\n",
    "**(9)** Please form a list out of Fibonacci numbers from 1 to 50. The first two Fibonacci numbers are 1. The next numbers are the sum of the previous two."
   ]
  },
  {
   "cell_type": "code",
   "execution_count": 10,
   "metadata": {
    "colab": {
     "base_uri": "https://localhost:8080/"
    },
    "id": "ot_Bemjn3AIX",
    "outputId": "a25140aa-205d-4e3d-c61c-f6e1ee0f9566"
   },
   "outputs": [
    {
     "name": "stdout",
     "output_type": "stream",
     "text": [
      "[1, 1, 2, 3, 5, 8, 13, 21, 34]\n"
     ]
    }
   ],
   "source": [
    "#for loop  \n",
    "\n",
    "a = 1\n",
    "b = 1\n",
    "fibonacci = [a, b]\n",
    "for i in range(10):\n",
    "    a, b = b, a + b\n",
    "    fibonacci.append(b)\n",
    "    if a + b > 50:\n",
    "        break\n",
    "print(fibonacci)"
   ]
  },
  {
   "cell_type": "code",
   "execution_count": 11,
   "metadata": {
    "colab": {
     "base_uri": "https://localhost:8080/"
    },
    "id": "CGd_2Jec_CgP",
    "outputId": "80969fdc-d034-4bfe-9826-b2185d57c472"
   },
   "outputs": [
    {
     "name": "stdout",
     "output_type": "stream",
     "text": [
      "[1, 1, 2, 3, 5, 8, 13, 21, 34]\n"
     ]
    }
   ],
   "source": [
    "#while loop\n",
    "\n",
    "a = 1\n",
    "b = 1\n",
    "fibonacci = [a, b]\n",
    "while a+b < 51:\n",
    "    a, b = b, a+b\n",
    "    fibonacci.append(b)\n",
    "print(fibonacci)\n",
    " "
   ]
  }
 ],
 "metadata": {
  "colab": {
   "name": "A_02_Loops_en.ipynb adlı not defterinin kopyası",
   "provenance": []
  },
  "kernelspec": {
   "display_name": "Python 3 (ipykernel)",
   "language": "python",
   "name": "python3"
  },
  "language_info": {
   "codemirror_mode": {
    "name": "ipython",
    "version": 3
   },
   "file_extension": ".py",
   "mimetype": "text/x-python",
   "name": "python",
   "nbconvert_exporter": "python",
   "pygments_lexer": "ipython3",
   "version": "3.8.2"
  }
 },
 "nbformat": 4,
 "nbformat_minor": 4
}
