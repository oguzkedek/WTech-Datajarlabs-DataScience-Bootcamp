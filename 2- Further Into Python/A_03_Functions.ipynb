{
 "cells": [
  {
   "cell_type": "markdown",
   "metadata": {
    "id": "8RoG-qzm4rcr"
   },
   "source": [
    "**(1)** A prime number is an integer greater than one that is only divisible by one and itself. Write a function that determines whether or not its parameter is prime, returns `True` if it is and `False` otherwise. Write a main program that reads an integer from the user and displays a message indicating whether or not it is prime. Ensure that the main program does not run if the file containing your solution is imported into another program."
   ]
  },
  {
   "cell_type": "code",
   "execution_count": 1,
   "metadata": {
    "colab": {
     "base_uri": "https://localhost:8080/"
    },
    "id": "YuksUFpt4rcw",
    "outputId": "b4a91f11-c3ec-4c06-e252-fe61a56b3e47"
   },
   "outputs": [
    {
     "name": "stdin",
     "output_type": "stream",
     "text": [
      "Enter an integer : 15\n"
     ]
    },
    {
     "name": "stdout",
     "output_type": "stream",
     "text": [
      "15 is not a prime number.\n"
     ]
    }
   ],
   "source": [
    "def prime(num):\n",
    "    if num == 1:\n",
    "        return False\n",
    "    elif num == 2:\n",
    "        return True\n",
    "    else:\n",
    "        for i in range(2, num // 2):\n",
    "            if num % i == 0:\n",
    "                return False\n",
    "        return True\n",
    "\n",
    "num = int(input(\"Enter an integer :\"))\n",
    "if prime(num):\n",
    "    print(f\"{num} is a prime number.\")\n",
    "else:\n",
    "    print(f\"{num} is not a prime number.\")"
   ]
  },
  {
   "cell_type": "markdown",
   "metadata": {
    "id": "a_TYR4Vp4rcx"
   },
   "source": [
    "**(2)** Please write a function that passes each element of a list only once to a new list. We usually do this with the `set()` command, but let us not use this command this time.\n",
    "\n",
    "    Example:\n",
    "    \n",
    "        unique_list([1,2,2,3,3,4,4]) = [1,2,3,4]"
   ]
  },
  {
   "cell_type": "code",
   "execution_count": 2,
   "metadata": {
    "colab": {
     "base_uri": "https://localhost:8080/"
    },
    "id": "ig1EfV8R4rcx",
    "outputId": "3464e8cb-c242-4286-8537-ad5188f224ee"
   },
   "outputs": [
    {
     "name": "stdout",
     "output_type": "stream",
     "text": [
      "[1, 2, 3, 4]\n"
     ]
    }
   ],
   "source": [
    "def unique_list(list):\n",
    "    new_list = []\n",
    "    for i in list:\n",
    "        if i not in new_list:\n",
    "            new_list.append(i)\n",
    "    return new_list\n",
    "\n",
    "print(unique_list([1, 2, 2, 3, 3, 4, 4]))"
   ]
  },
  {
   "cell_type": "markdown",
   "metadata": {
    "id": "XSVJPubw4rcx"
   },
   "source": [
    "**(3)** There are many built-in modules in Python. By importing one of the modules on time, write a function that takes the date of birth as a parameter and returns the age."
   ]
  },
  {
   "cell_type": "code",
   "execution_count": 3,
   "metadata": {
    "colab": {
     "base_uri": "https://localhost:8080/"
    },
    "id": "t8B68mKf4rcy",
    "outputId": "b1890453-59f8-4c19-e901-dec8502ecf4c"
   },
   "outputs": [
    {
     "name": "stdout",
     "output_type": "stream",
     "text": [
      "37\n"
     ]
    }
   ],
   "source": [
    "from datetime import datetime\n",
    "\n",
    "def age(birth):\n",
    "    now = datetime.today().year  # datetime.now().strftime(\"%Y\")\n",
    "    age = int(now) - birth\n",
    "    return age\n",
    "\n",
    "print(age(1985))"
   ]
  },
  {
   "cell_type": "markdown",
   "metadata": {
    "id": "xUweL0WO4rcy"
   },
   "source": [
    "**(4)** Get a number from the user and calculate the factorial of it by using a function."
   ]
  },
  {
   "cell_type": "code",
   "execution_count": 4,
   "metadata": {
    "colab": {
     "base_uri": "https://localhost:8080/"
    },
    "id": "96a2rEBe4rcy",
    "outputId": "440c21bd-4db9-48b1-c454-53570579c33d"
   },
   "outputs": [
    {
     "name": "stdin",
     "output_type": "stream",
     "text": [
      "Enter a number :  6\n"
     ]
    },
    {
     "name": "stdout",
     "output_type": "stream",
     "text": [
      "Factorial of 6 is 720\n"
     ]
    }
   ],
   "source": [
    "def fact(num):\n",
    "    fact = 1\n",
    "    if (num == 0 or num == 1):\n",
    "        return fact\n",
    "    else:\n",
    "        while num > 1:  # for i in range (2,num+1)\n",
    "            fact *= num  # factorial *= i\n",
    "            num -= 1\n",
    "    return fact\n",
    "\n",
    "\n",
    "num = int(input(\"Enter a number : \"))\n",
    "print(f\"Factorial of {num} is {fact(num)}\")"
   ]
  },
  {
   "cell_type": "markdown",
   "metadata": {
    "id": "pq2kGBLk4rcy"
   },
   "source": [
    "**(5)** Write a function named `perfect()` that determines if the parameter number is a perfect number. Use this function in a program that determines and prints all the perfect numbers between 1 and 1000.\n",
    "\n",
    "    An integer number is said to be a `perfect number` if its factors (including 1, but not the number itself) sum to the number. \n",
    "\n",
    "        E.g.: 6 is a perfect number because 6 = 1 + 2 + 3."
   ]
  },
  {
   "cell_type": "code",
   "execution_count": 5,
   "metadata": {
    "colab": {
     "base_uri": "https://localhost:8080/"
    },
    "id": "q6p-xIB84rcz",
    "outputId": "49d5a439-dedb-4e5c-bb89-edcf50a60664"
   },
   "outputs": [
    {
     "name": "stdout",
     "output_type": "stream",
     "text": [
      "6 is a perfect number\n",
      "28 is a perfect number\n",
      "496 is a perfect number\n"
     ]
    }
   ],
   "source": [
    "def perfect(num):\n",
    "    sum = 0\n",
    "    for i in range(1, num):\n",
    "        if num % i == 0:\n",
    "            sum += i\n",
    "    return sum == num\n",
    "\n",
    "\n",
    "for i in range(1, 1000):\n",
    "    if perfect(i):\n",
    "        print(f\"{i} is a perfect number\")\n",
    "  "
   ]
  },
  {
   "cell_type": "markdown",
   "metadata": {
    "id": "HkB1UigB4rcz"
   },
   "source": [
    "**(6)** Write a Python function that prints out the first n rows of [Pascal's triangle](https://en.wikipedia.org/wiki/Pascal%27s_triangle). \n",
    "\n",
    "<div style=\"text-align:center;\">\n",
    "    <img src=\"https://bootrain-lms-assets.s3.eu-central-1.amazonaws.com/bootrain-lms-static/images/02_IntermediatePython/03_PascalsTriangle.gif\" width=\"200\">\n",
    "    <br>\n",
    "    In Pascal's triangle, each number is the sum of the two numbers directly above it.\n",
    "</div>"
   ]
  },
  {
   "cell_type": "code",
   "execution_count": 6,
   "metadata": {
    "colab": {
     "base_uri": "https://localhost:8080/"
    },
    "id": "Deroc0094rcz",
    "outputId": "784f60cd-e662-4bff-d78f-ea4118b1effb"
   },
   "outputs": [
    {
     "name": "stdout",
     "output_type": "stream",
     "text": [
      "[1]\n",
      "[1, 1]\n",
      "[1, 2, 1]\n",
      "[1, 3, 3, 1]\n",
      "[1, 4, 6, 4, 1]\n",
      "[1, 5, 10, 10, 5, 1]\n"
     ]
    }
   ],
   "source": [
    "def pascal(n):\n",
    "    lst = [1]\n",
    "    for i in range(0, n):\n",
    "        print(lst)\n",
    "        lst_2 = []\n",
    "        lst_2.append(lst[0])\n",
    "        for i in range(len(lst) - 1):\n",
    "            lst_2.append(lst[i] + lst[i + 1])\n",
    "        lst_2.append(lst[-1])\n",
    "        lst = lst_2\n",
    "\n",
    "\n",
    "pascal(6)"
   ]
  }
 ],
 "metadata": {
  "colab": {
   "name": "A_03_Functions_en.ipynb adlı not defterinin kopyası",
   "provenance": []
  },
  "kernelspec": {
   "display_name": "Python 3 (ipykernel)",
   "language": "python",
   "name": "python3"
  },
  "language_info": {
   "codemirror_mode": {
    "name": "ipython",
    "version": 3
   },
   "file_extension": ".py",
   "mimetype": "text/x-python",
   "name": "python",
   "nbconvert_exporter": "python",
   "pygments_lexer": "ipython3",
   "version": "3.8.2"
  }
 },
 "nbformat": 4,
 "nbformat_minor": 4
}
